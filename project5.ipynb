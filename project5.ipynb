{
 "cells": [
  {
   "cell_type": "markdown",
   "id": "93d6ca16-0b60-46c3-8d39-5ac8c5b37078",
   "metadata": {},
   "source": [
    "### In your notebook, translate the following SQL queries into MongoDB Query Language. Place each query into its own notebook cell and run each cell individually."
   ]
  },
  {
   "cell_type": "code",
   "execution_count": 1,
   "id": "9ca41224-0edd-416b-a834-8c7d9f94a8f3",
   "metadata": {},
   "outputs": [
    {
     "name": "stdout",
     "output_type": "stream",
     "text": [
      "env: BASE_DIR=/home/jupyter\n"
     ]
    }
   ],
   "source": [
    "%env BASE_DIR=/home/jupyter"
   ]
  },
  {
   "cell_type": "markdown",
   "id": "3e6a2911-85f3-448d-b3d8-7d58fa54aca4",
   "metadata": {},
   "source": [
    "**Q1. select count(*) from products;** "
   ]
  },
  {
   "cell_type": "code",
   "execution_count": 2,
   "id": "2ef0dbd2-3828-42e7-864e-c3e4ed036174",
   "metadata": {},
   "outputs": [
    {
     "name": "stdout",
     "output_type": "stream",
     "text": [
      "309370\n"
     ]
    }
   ],
   "source": [
    "!mongo open_food --quiet --eval 'db.products.count()'"
   ]
  },
  {
   "cell_type": "markdown",
   "id": "78f1e547-802b-477f-b50c-39fcb722d1cf",
   "metadata": {},
   "source": [
    "**Q2. select \\_id, product_name from products where categories = 'Snacks, Sweet snacks, Confectioneries, Candies, Chews';**"
   ]
  },
  {
   "cell_type": "code",
   "execution_count": 4,
   "id": "0b6b0c24-ab9e-4acb-9712-3ecd674d7356",
   "metadata": {},
   "outputs": [
    {
     "name": "stdout",
     "output_type": "stream",
     "text": [
      "env: selection={\"categories\": \"Snacks, Sweet snacks, Confectioneries, Candies, Chews\"}\n"
     ]
    }
   ],
   "source": [
    "%env selection = {\"categories\": \"Snacks, Sweet snacks, Confectioneries, Candies, Chews\"}"
   ]
  },
  {
   "cell_type": "code",
   "execution_count": 5,
   "id": "c9cc49e7-85b0-4afd-8dba-6ff5ed29d602",
   "metadata": {},
   "outputs": [
    {
     "name": "stdout",
     "output_type": "stream",
     "text": [
      "env: projection={\"_id\": 1, \"product_name\": 1}\n"
     ]
    }
   ],
   "source": [
    "%env projection = {\"_id\": 1, \"product_name\": 1}"
   ]
  },
  {
   "cell_type": "code",
   "execution_count": 6,
   "id": "d02c5053-04dd-46c5-b9e3-3d86e6df2c4c",
   "metadata": {},
   "outputs": [
    {
     "name": "stdout",
     "output_type": "stream",
     "text": [
      "{ \"_id\" : \"0071720007105\", \"product_name\" : \"Tootsie Roll\" }\n"
     ]
    }
   ],
   "source": [
    "!mongo open_food --quiet --eval \"db.products.find(${selection}, ${projection})\""
   ]
  },
  {
   "cell_type": "markdown",
   "id": "2153b3d4-d238-46f5-8164-efae80053753",
   "metadata": {},
   "source": [
    "**checking the results...**"
   ]
  },
  {
   "cell_type": "code",
   "execution_count": 52,
   "id": "790bc71d-7e18-4cba-9d7d-953f3a6a623e",
   "metadata": {},
   "outputs": [
    {
     "name": "stdout",
     "output_type": "stream",
     "text": [
      "env: selection={\"product_name\" : \"Tootsie Roll\"}\n"
     ]
    }
   ],
   "source": [
    "%env selection = {\"product_name\" : \"Tootsie Roll\"}"
   ]
  },
  {
   "cell_type": "code",
   "execution_count": 53,
   "id": "0321708e-324a-4bcb-8c98-e9e0af0273a7",
   "metadata": {},
   "outputs": [
    {
     "name": "stdout",
     "output_type": "stream",
     "text": [
      "env: projection={\"categories\": 1}\n"
     ]
    }
   ],
   "source": [
    "%env projection = {\"categories\": 1}"
   ]
  },
  {
   "cell_type": "code",
   "execution_count": 55,
   "id": "06e1af18-ab46-495a-a19c-0994b951976f",
   "metadata": {},
   "outputs": [
    {
     "name": "stdout",
     "output_type": "stream",
     "text": [
      "{ \"_id\" : \"0071720007105\", \"categories\" : \"Snacks, Sweet snacks, Confectioneries, Candies, Chews\" }\n"
     ]
    }
   ],
   "source": [
    "!mongo open_food --quiet --eval \"db.products.find(${selection}, ${projection})\""
   ]
  },
  {
   "cell_type": "markdown",
   "id": "6ed7049d-8c1c-4f68-827b-c623e4fbb2dc",
   "metadata": {},
   "source": [
    "**Q3. select \\_id, code, product_name from products where last_modified_t >= 1601856000;**"
   ]
  },
  {
   "cell_type": "code",
   "execution_count": 7,
   "id": "b960bfbf-40bb-4d47-993d-96a0751deafe",
   "metadata": {},
   "outputs": [
    {
     "name": "stdout",
     "output_type": "stream",
     "text": [
      "env: selection={\"last_modified_t\": {$gte: 1601856000}}\n"
     ]
    }
   ],
   "source": [
    "%env selection = {\"last_modified_t\": {$gte: 1601856000}}"
   ]
  },
  {
   "cell_type": "code",
   "execution_count": 8,
   "id": "3a4837a5-eeeb-4c50-8e51-818af17f07f4",
   "metadata": {},
   "outputs": [
    {
     "name": "stdout",
     "output_type": "stream",
     "text": [
      "env: projection={\"code\": 1, \"product_name\": 1}\n"
     ]
    }
   ],
   "source": [
    "%env projection = {\"code\": 1, \"product_name\": 1}"
   ]
  },
  {
   "cell_type": "code",
   "execution_count": 9,
   "id": "8bd2d2b7-ec16-4c3f-bdc9-25c349d0720b",
   "metadata": {},
   "outputs": [
    {
     "name": "stdout",
     "output_type": "stream",
     "text": [
      "{\n",
      "\t\"_id\" : \"0852909003299\",\n",
      "\t\"product_name\" : \"Almondmilk\",\n",
      "\t\"code\" : \"0852909003299\"\n",
      "}\n",
      "{\n",
      "\t\"_id\" : \"0840423102055\",\n",
      "\t\"code\" : \"0840423102055\",\n",
      "\t\"product_name\" : \"Garlic wine pasta with chicken meatballs with whole wheat rotini, white beans, and greens, cooked in avocado oil, and topped with parmesan and mozzarella, garlic wine pasta with chicken meatballs\"\n",
      "}\n"
     ]
    }
   ],
   "source": [
    "!mongo open_food --quiet --eval \"db.products.find(${selection}, ${projection}).pretty()\""
   ]
  },
  {
   "cell_type": "markdown",
   "id": "b6194812-eb51-4214-afa1-ba0753ba0562",
   "metadata": {},
   "source": [
    "**Q4. select count(*) from products where packaging = 'Plastic';**"
   ]
  },
  {
   "cell_type": "code",
   "execution_count": 5,
   "id": "becdf6c4-d708-4fd3-a19e-c361346d646d",
   "metadata": {},
   "outputs": [
    {
     "name": "stdout",
     "output_type": "stream",
     "text": [
      "env: selection={\"packaging\":\"Plastic\"}\n"
     ]
    }
   ],
   "source": [
    "%env selection = {\"packaging\":\"Plastic\"}"
   ]
  },
  {
   "cell_type": "code",
   "execution_count": 6,
   "id": "83ac11c1-82e2-43b7-bd75-7624c516c987",
   "metadata": {},
   "outputs": [
    {
     "name": "stdout",
     "output_type": "stream",
     "text": [
      "115\n"
     ]
    }
   ],
   "source": [
    "!mongo open_food --quiet --eval \"db.products.find(${selection}, {}).count()\""
   ]
  },
  {
   "cell_type": "markdown",
   "id": "4e0b3b3f-9710-4a76-8e9a-9342d5e318ad",
   "metadata": {},
   "source": [
    "**Q5. select _id, code, creator, product_name, brands from products where manufacturing_places = 'Austin, TX' and stores = 'Whole Foods';**"
   ]
  },
  {
   "cell_type": "code",
   "execution_count": 13,
   "id": "807a12ba-e9cc-4366-843c-533cc14e0d58",
   "metadata": {},
   "outputs": [
    {
     "name": "stdout",
     "output_type": "stream",
     "text": [
      "env: selection={\"manufacturing_places\":\"Austin, TX\", \"stores\":\"Whole Foods\"}\n"
     ]
    }
   ],
   "source": [
    "%env selection = {\"manufacturing_places\":\"Austin, TX\", \"stores\":\"Whole Foods\"}"
   ]
  },
  {
   "cell_type": "code",
   "execution_count": 14,
   "id": "b9b2693f-cd9e-46a6-bc23-59740b18d076",
   "metadata": {},
   "outputs": [
    {
     "name": "stdout",
     "output_type": "stream",
     "text": [
      "env: projection={\"_id\":1, \"code\":1, \"creator\":1, \"product_name\":1, \"brands\":1}\n"
     ]
    }
   ],
   "source": [
    "%env projection = {\"_id\":1, \"code\":1, \"creator\":1, \"product_name\":1, \"brands\":1}"
   ]
  },
  {
   "cell_type": "code",
   "execution_count": 15,
   "id": "80c8f6de-017c-42e7-afb3-08eba63d733f",
   "metadata": {},
   "outputs": [
    {
     "name": "stdout",
     "output_type": "stream",
     "text": [
      "{\n",
      "\t\"_id\" : \"0099482455859\",\n",
      "\t\"creator\" : \"usda-ndb-import\",\n",
      "\t\"brands\" : \"365 Everyday Value,Whole Foods Market  Inc.\",\n",
      "\t\"code\" : \"0099482455859\",\n",
      "\t\"product_name\" : \"Whole Wheat Bread\"\n",
      "}\n"
     ]
    }
   ],
   "source": [
    "!mongo open_food --quiet --eval \"db.products.find(${selection}, ${projection}).pretty()\""
   ]
  },
  {
   "cell_type": "markdown",
   "id": "82b58d22-7b44-4e60-a92b-a55dabb75382",
   "metadata": {},
   "source": [
    "**Q6. select _id, product_name, brands from products where brands in (\"m&m's\", \"mars\", \"Mars\", \"oreo\", \"starburst\") order by product_name limit 5;**"
   ]
  },
  {
   "cell_type": "code",
   "execution_count": 16,
   "id": "faa4bce1-6fb2-450b-817b-ecd1524a8f5d",
   "metadata": {},
   "outputs": [
    {
     "name": "stdout",
     "output_type": "stream",
     "text": [
      "env: selection={\"brands\": {$in: [\"m&m\\u0027s\", \"mars\", \"Mars\", \"oreo\", \"starburst\"]}}\n"
     ]
    }
   ],
   "source": [
    "%env selection = {\"brands\": {$in: [\"m&m\\u0027s\", \"mars\", \"Mars\", \"oreo\", \"starburst\"]}}"
   ]
  },
  {
   "cell_type": "code",
   "execution_count": 17,
   "id": "980224ac-25c1-42b4-a049-75f4394d686b",
   "metadata": {},
   "outputs": [
    {
     "name": "stdout",
     "output_type": "stream",
     "text": [
      "env: projection={\"product_name\": 1, \"brands\": 1}\n"
     ]
    }
   ],
   "source": [
    "%env projection = {\"product_name\": 1, \"brands\": 1}"
   ]
  },
  {
   "cell_type": "code",
   "execution_count": 18,
   "id": "18532e9e-af34-4a20-8039-378170ad54bd",
   "metadata": {},
   "outputs": [
    {
     "name": "stdout",
     "output_type": "stream",
     "text": [
      "{\n",
      "\t\"_id\" : \"0040000265252\",\n",
      "\t\"brands\" : \"Mars\",\n",
      "\t\"product_name\" : \"Almond & dark chocolate\"\n",
      "}\n",
      "{ \"_id\" : \"0040000422068\", \"brands\" : \"mars\", \"product_name\" : \"BAR\" }\n",
      "{\n",
      "\t\"_id\" : \"0047677386518\",\n",
      "\t\"brands\" : \"m&m's\",\n",
      "\t\"product_name\" : \"M&m's, light ice cream, chocolate\"\n",
      "}\n",
      "{\n",
      "\t\"_id\" : \"0044000029524\",\n",
      "\t\"product_name\" : \"Nabisco oreo cookies double stuf 1x4.1 oz\",\n",
      "\t\"brands\" : \"oreo\"\n",
      "}\n",
      "{\n",
      "\t\"_id\" : \"04005108\",\n",
      "\t\"product_name\" : \"Real fruit juice!\",\n",
      "\t\"brands\" : \"starburst\"\n",
      "}\n"
     ]
    }
   ],
   "source": [
    "!mongo open_food --quiet --eval \"db.products.find(${selection}, ${projection}).sort({\"product_name\": 1}).limit(5).pretty()\""
   ]
  },
  {
   "cell_type": "markdown",
   "id": "b6dbc996-ef4c-47cb-8c55-e0c5cc864371",
   "metadata": {},
   "source": [
    "**Q7. select _id, product_name, countries, ingredients.text, ingredients.rank, nutriments.carbohydrates_serving from products where nutriments.carbohydrates_serving between 18 and 25 order by product_name ASC limit 5;**"
   ]
  },
  {
   "cell_type": "code",
   "execution_count": 7,
   "id": "79d6a151-836b-4780-b280-d95d3dabfb78",
   "metadata": {},
   "outputs": [
    {
     "name": "stdout",
     "output_type": "stream",
     "text": [
      "env: selection={\"nutriments.carbohydrates_serving\": {$gte: 18, $lte:25}}\n"
     ]
    }
   ],
   "source": [
    "%env selection = {\"nutriments.carbohydrates_serving\": {$gte: 18, $lte:25}}"
   ]
  },
  {
   "cell_type": "code",
   "execution_count": 13,
   "id": "e790b580-0a7a-416f-b7c5-767ad9fe38d7",
   "metadata": {},
   "outputs": [
    {
     "name": "stdout",
     "output_type": "stream",
     "text": [
      "env: projection={\"_id\": 1, \"product_name\": 1, \"countries\":1, \"ingredients.text\":1,                     \"ingredients.rank\":1, \"nutriments.carbohydrates_serving\":1}\n"
     ]
    }
   ],
   "source": [
    "%env projection = {\"_id\": 1, \"product_name\": 1, \"countries\":1, \"ingredients.text\":1, \\\n",
    "                   \"ingredients.rank\":1, \"nutriments.carbohydrates_serving\":1}"
   ]
  },
  {
   "cell_type": "code",
   "execution_count": 14,
   "id": "883eca0d-e4d2-4658-b7f4-09f56eab27e0",
   "metadata": {},
   "outputs": [
    {
     "name": "stdout",
     "output_type": "stream",
     "text": [
      "{ \"_id\" : \"0011110885685\", \"nutriments\" : { \"carbohydrates_serving\" : 24 }, \"product_name\" : \"\", \"countries\" : \"United States\", \"ingredients\" : [ { \"rank\" : 1, \"text\" : \"Sweet potatoes\" }, { \"text\" : \"vegetable oil\", \"rank\" : 2 }, { \"rank\" : 3, \"text\" : \"modified corn starch\" }, { \"rank\" : 4, \"text\" : \"modified potato starch\" }, { \"rank\" : 5, \"text\" : \"contains 2% and less of\" }, { \"text\" : \"dextrin\", \"rank\" : 6 }, { \"rank\" : 7, \"text\" : \"extractives of paprika and turmeric\" }, { \"text\" : \"fiber\", \"rank\" : 8 }, { \"rank\" : 9, \"text\" : \"molasses\" }, { \"text\" : \"rice flour\", \"rank\" : 10 }, { \"rank\" : 11, \"text\" : \"salt\" }, { \"text\" : \"sodium acid\", \"rank\" : 12 }, { \"text\" : \"sugar\", \"rank\" : 13 }, { \"rank\" : 14, \"text\" : \"xanthan gum\" }, { \"text\" : \"contains one and more of\" }, { \"text\" : \"soybean\" }, { \"text\" : \"cottonseed\" }, { \"text\" : \"sunflower\" }, { \"text\" : \"corn\" }, { \"text\" : \"baking soda\" }, { \"text\" : \"for color\" }, { \"text\" : \"pea\" }, { \"text\" : \"oat\" }, { \"text\" : \"corn\" }, { \"text\" : \"refiners syrup\" }, { \"text\" : \"molasses\" }, { \"text\" : \"pyrophosphate\" }, { \"text\" : \"canola\" }, { \"text\" : \"maintains natural color and leavening\" } ] }\n",
      "{ \"_id\" : \"0011110810793\", \"ingredients\" : [ { \"rank\" : 1, \"text\" : \"dough\" }, { \"text\" : \"niacin\", \"rank\" : 2 }, { \"text\" : \"reduced iron\", \"rank\" : 3 }, { \"rank\" : 4, \"text\" : \"thiamine mononitrate\" }, { \"text\" : \"riboflavin\", \"rank\" : 5 }, { \"rank\" : 6, \"text\" : \"enzyme\" }, { \"rank\" : 7, \"text\" : \"folic acid\" }, { \"rank\" : 8, \"text\" : \"water\" }, { \"text\" : \"dextrose\", \"rank\" : 9 }, { \"text\" : \"contains less than 2% of\", \"rank\" : 10 }, { \"rank\" : 11, \"text\" : \"interesterified soybean oil\" }, { \"text\" : \"yeast\", \"rank\" : 12 }, { \"text\" : \"salt\", \"rank\" : 13 }, { \"text\" : \"wheat flour\", \"rank\" : 14 }, { \"text\" : \"malted at 35 barley with sulfites\", \"rank\" : 15 }, { \"text\" : \"ascorbic acid\", \"rank\" : 16 }, { \"rank\" : 17, \"text\" : \"enzymes\" }, { \"text\" : \"lalue* sorbitan monostearate\", \"rank\" : 18 }, { \"text\" : \"soybean oil\", \"rank\" : 19 }, { \"rank\" : 20, \"text\" : \"6 topping\" }, { \"rank\" : 21, \"text\" : \"7 yo contains less than 2% of\" }, { \"rank\" : 22, \"text\" : \"parmesan cheese\" }, { \"text\" : \"garlic\", \"rank\" : 23 }, { \"text\" : \"8 seasoning\", \"rank\" : 24 }, { \"text\" : \"salt\", \"rank\" : 25 }, { \"rank\" : 26, \"text\" : \"butter\" }, { \"text\" : \"dehydrated onion\", \"rank\" : 27 }, { \"rank\" : 28, \"text\" : \"natural flavor\" }, { \"text\" : \"soybean oil\", \"rank\" : 29 }, { \"text\" : \"annatto\", \"rank\" : 30 }, { \"text\" : \"enriched flour ls\" }, { \"text\" : \"wheat flour\" }, { \"text\" : \"wheat gluten\" }, { \"text\" : \"dough conditioner\" }, { \"text\" : \"interesterified soybean oil\" }, { \"text\" : \"water\" }, { \"text\" : \"pasteurized milk\" }, { \"text\" : \"salt\" }, { \"text\" : \"cheese cultures\" }, { \"text\" : \"enzymes\" }, { \"text\" : \"0 powdered cellulose\" }, { \"text\" : \"sorbic acid\" }, { \"text\" : \"garlic\" }, { \"text\" : \"black 8 pepper\" }, { \"text\" : \"salt\" }, { \"text\" : \"brown sugar\" }, { \"text\" : \"dehydrated onion\" }, { \"text\" : \"natural flavor\" }, { \"text\" : \"3 4 parsley\" }, { \"text\" : \"silicon dioxide\" }, { \"text\" : \"cream\" }, { \"text\" : \"salt\" }, { \"text\" : \"for color\" }, { \"text\" : \"preservative\" } ], \"product_name\" : \"\", \"countries\" : \"United States\", \"nutriments\" : { \"carbohydrates_serving\" : 24 } }\n",
      "{ \"_id\" : \"0011213023410\", \"countries\" : \"United States\", \"product_name\" : \"\", \"nutriments\" : { \"carbohydrates_serving\" : 19 }, \"ingredients\" : [ { \"text\" : \"Snacks sticks\", \"rank\" : 1 }, { \"text\" : \"wheat flour\", \"rank\" : 2 }, { \"text\" : \"yellow com masa\", \"rank\" : 3 }, { \"text\" : \"soybean oil\", \"rank\" : 4 }, { \"text\" : \"sesame seeds\", \"rank\" : 5 }, { \"rank\" : 6, \"text\" : \"seasoning\" }, { \"text\" : \"spices\", \"rank\" : 7 }, { \"text\" : \"corn flour\", \"rank\" : 8 }, { \"text\" : \"salt\", \"rank\" : 9 }, { \"rank\" : 10, \"text\" : \"onion powder\" }, { \"text\" : \"potato flour\", \"rank\" : 11 }, { \"text\" : \"tomato powder\", \"rank\" : 12 }, { \"text\" : \"natural flavors with coconut oil fractions\", \"rank\" : 13 }, { \"text\" : \"garlic\", \"rank\" : 14 }, { \"text\" : \"with malted barley flour as an enzyme\" } ] }\n",
      "{ \"_id\" : \"0011225111181\", \"product_name\" : \"\", \"countries\" : \"United States\", \"nutriments\" : { \"carbohydrates_serving\" : 22 }, \"ingredients\" : [ { \"rank\" : 1, \"text\" : \"Potatoes\" }, { \"rank\" : 2, \"text\" : \"vegetable oil\" }, { \"text\" : \"disodium dihydrogen pyrophosphate\", \"rank\" : 3 }, { \"rank\" : 4, \"text\" : \"dextrose\" }, { \"text\" : \"may contain one and more of the following\" }, { \"text\" : \"sunflower oil\" }, { \"text\" : \"cottonseed oil\" }, { \"text\" : \"palm oil\" }, { \"text\" : \"corn oil\" }, { \"text\" : \"soybean oil\" }, { \"text\" : \"hydrogenated soybean and cottonseed oil\" }, { \"text\" : \"to promote color retention\" }, { \"text\" : \"canola oil\" } ] }\n",
      "{ \"_id\" : \"0011213354422\", \"nutriments\" : { \"carbohydrates_serving\" : 25 }, \"countries\" : \"United States\", \"product_name\" : \"\", \"ingredients\" : [ { \"text\" : \"flour\", \"rank\" : 1 }, { \"text\" : \"water\", \"rank\" : 2 }, { \"rank\" : 3, \"text\" : \"buttermilk\" }, { \"rank\" : 4, \"text\" : \"soybean oil\" }, { \"text\" : \"whey solids\", \"rank\" : 5 }, { \"text\" : \"sugar\", \"rank\" : 6 }, { \"text\" : \"whole eggs\", \"rank\" : 7 }, { \"text\" : \"leavening\", \"rank\" : 8 }, { \"text\" : \"soy lecithin\", \"rank\" : 9 }, { \"text\" : \"salt\", \"rank\" : 10 }, { \"text\" : \"calcium phosphate\", \"rank\" : 11 }, { \"rank\" : 12, \"text\" : \"calcium carbonate\" }, { \"text\" : \"vitamin a palmitate\", \"rank\" : 13 }, { \"rank\" : 14, \"text\" : \"niacin\" }, { \"text\" : \"reduced iron\", \"rank\" : 15 }, { \"text\" : \"pyridoxine hydrochlorine\", \"rank\" : 16 }, { \"text\" : \"riboflavin\", \"rank\" : 17 }, { \"text\" : \"thiamin mononitrate\", \"rank\" : 18 }, { \"rank\" : 19, \"text\" : \"cyanocobalamin\" }, { \"text\" : \"wheat flour\" }, { \"text\" : \"malted barley flour\" }, { \"text\" : \"niacin\" }, { \"text\" : \"iron\" }, { \"text\" : \"thiamin mononitrate\" }, { \"text\" : \"riboflavin\" }, { \"text\" : \"folic acid\" }, { \"text\" : \"sodium acid pyrophosphate\" }, { \"text\" : \"sodium bicarbonate\" }, { \"text\" : \"monocalcium phosphate\" } ] }\n"
     ]
    }
   ],
   "source": [
    "!mongo open_food --quiet --eval \"db.products.find(${selection}, ${projection}).sort({product_name: 1}).limit(5)\""
   ]
  },
  {
   "cell_type": "markdown",
   "id": "3fd28e1a-dd4e-4744-aa0c-216c8b819404",
   "metadata": {},
   "source": [
    "**5. Insert a new document into the products collection. The document must have a minimum of 5 attributes with non-NULL values. \n",
    "Read back the document you just created.** \\\n",
    "**Inserting a new doc...**"
   ]
  },
  {
   "cell_type": "code",
   "execution_count": 31,
   "id": "3ca74af4-de78-4819-b1a8-c1a8a4a7757a",
   "metadata": {},
   "outputs": [
    {
     "name": "stdout",
     "output_type": "stream",
     "text": [
      "env: newDoc={\"product_name\" : \"New Product\",                 \"ingredients_text_with_allergens\" : \"Bananas\",                 \"nutrition_data_prepared_per\" : \"118\",                 \"countries\" : \"Mexico\",                 \"brands\" : \"Chiquita\"}\n"
     ]
    }
   ],
   "source": [
    "%env newDoc = {\"product_name\" : \"New Product\", \\\n",
    "               \"ingredients_text_with_allergens\" : \"Bananas\", \\\n",
    "               \"nutrition_data_prepared_per\" : \"118\", \\\n",
    "               \"countries\" : \"Mexico\", \\\n",
    "               \"brands\" : \"Chiquita\"}"
   ]
  },
  {
   "cell_type": "code",
   "execution_count": 32,
   "id": "d71d6df3-7085-4ee9-a302-21054dc5cd80",
   "metadata": {},
   "outputs": [
    {
     "name": "stdout",
     "output_type": "stream",
     "text": [
      "{\n",
      "\t\"acknowledged\" : true,\n",
      "\t\"insertedId\" : ObjectId(\"64377b713be8581e374799b5\")\n",
      "}\n"
     ]
    }
   ],
   "source": [
    "!mongo open_food --quiet --eval \"db.products.insertOne($newDoc)\""
   ]
  },
  {
   "cell_type": "markdown",
   "id": "c1f0deeb-4160-484b-96c6-dc1ef83651c8",
   "metadata": {},
   "source": [
    "**Reading the new doc...**"
   ]
  },
  {
   "cell_type": "code",
   "execution_count": 33,
   "id": "d714f5ea-6354-4501-a961-6e3a115a62f4",
   "metadata": {},
   "outputs": [
    {
     "name": "stdout",
     "output_type": "stream",
     "text": [
      "env: selection={\"product_name\":\"New Product\"}\n"
     ]
    }
   ],
   "source": [
    "%env selection = {\"product_name\":\"New Product\"}"
   ]
  },
  {
   "cell_type": "code",
   "execution_count": 34,
   "id": "d2b0b6a9-1bd6-4460-b5d7-78fa86c7ce70",
   "metadata": {},
   "outputs": [
    {
     "name": "stdout",
     "output_type": "stream",
     "text": [
      "{\n",
      "\t\"_id\" : ObjectId(\"64377b713be8581e374799b5\"),\n",
      "\t\"product_name\" : \"New Product\",\n",
      "\t\"ingredients_text_with_allergens\" : \"Bananas\",\n",
      "\t\"nutrition_data_prepared_per\" : \"118\",\n",
      "\t\"countries\" : \"Mexico\",\n",
      "\t\"brands\" : \"Chiquita\"\n",
      "}\n"
     ]
    }
   ],
   "source": [
    "!mongo open_food --quiet --eval \"db.products.findOne(${selection}, {})\""
   ]
  },
  {
   "cell_type": "markdown",
   "id": "efdf1626-1570-41ef-938c-24afbb78b99e",
   "metadata": {},
   "source": [
    "**6. Update the document you created in the previous step and then read it back.\\\n",
    "updating...**"
   ]
  },
  {
   "cell_type": "code",
   "execution_count": 35,
   "id": "0ebaafe9-db53-43b2-acca-690416d02ae0",
   "metadata": {},
   "outputs": [
    {
     "name": "stdout",
     "output_type": "stream",
     "text": [
      "env: selection={\"product_name\": \"New Product\"}\n"
     ]
    }
   ],
   "source": [
    "%env selection = {\"product_name\": \"New Product\"}"
   ]
  },
  {
   "cell_type": "code",
   "execution_count": 36,
   "id": "22f35781-9551-4b81-a946-2a57a103ca5e",
   "metadata": {},
   "outputs": [
    {
     "name": "stdout",
     "output_type": "stream",
     "text": [
      "env: field={\"nutrition_data_prepared_per\":\"2000\"}\n"
     ]
    }
   ],
   "source": [
    "%env field = {\"nutrition_data_prepared_per\":\"2000\"}"
   ]
  },
  {
   "cell_type": "code",
   "execution_count": 37,
   "id": "59c21dfc-0aa1-4741-ac5e-abb21e646ab8",
   "metadata": {},
   "outputs": [
    {
     "name": "stdout",
     "output_type": "stream",
     "text": [
      "{ \"acknowledged\" : true, \"matchedCount\" : 1, \"modifiedCount\" : 1 }\n"
     ]
    }
   ],
   "source": [
    "!mongo open_food --quiet --eval \"db.products.updateOne(${selection}, {\\$set: ${field}})\""
   ]
  },
  {
   "cell_type": "markdown",
   "id": "fc9720c2-f519-43b0-9c1a-0a5ab664f4a8",
   "metadata": {},
   "source": [
    "**reading the modified entry...**"
   ]
  },
  {
   "cell_type": "code",
   "execution_count": 38,
   "id": "903dd47a-1a8a-4a80-af84-238a8a18f42e",
   "metadata": {},
   "outputs": [
    {
     "name": "stdout",
     "output_type": "stream",
     "text": [
      "env: selection={\"product_name\":\"New Product\"}\n"
     ]
    }
   ],
   "source": [
    "%env selection = {\"product_name\":\"New Product\"}"
   ]
  },
  {
   "cell_type": "code",
   "execution_count": 39,
   "id": "e8c565e0-a24c-4f56-bf81-a6b8851e7387",
   "metadata": {},
   "outputs": [
    {
     "name": "stdout",
     "output_type": "stream",
     "text": [
      "env: projection={\"_id\": 1, \"product_name\": 1, \"ingredients_text_with_allergens\":1,                     \"nutrition_data_prepared_per\":1, \"countries\":1, \"brands\":1}\n"
     ]
    }
   ],
   "source": [
    "%env projection = {\"_id\": 1, \"product_name\": 1, \"ingredients_text_with_allergens\":1, \\\n",
    "                   \"nutrition_data_prepared_per\":1, \"countries\":1, \"brands\":1}"
   ]
  },
  {
   "cell_type": "code",
   "execution_count": 40,
   "id": "0a5bf2dc-ceb3-4b4b-a91e-583c959e0013",
   "metadata": {},
   "outputs": [
    {
     "name": "stdout",
     "output_type": "stream",
     "text": [
      "{\n",
      "\t\"_id\" : ObjectId(\"64377b713be8581e374799b5\"),\n",
      "\t\"product_name\" : \"New Product\",\n",
      "\t\"ingredients_text_with_allergens\" : \"Bananas\",\n",
      "\t\"nutrition_data_prepared_per\" : \"2000\",\n",
      "\t\"countries\" : \"Mexico\",\n",
      "\t\"brands\" : \"Chiquita\"\n",
      "}\n"
     ]
    }
   ],
   "source": [
    "!mongo open_food --quiet --eval \"db.products.findOne(${selection}, ${projection})\""
   ]
  },
  {
   "cell_type": "markdown",
   "id": "4ca7698f-9afb-4d86-8b09-1c69cad25758",
   "metadata": {},
   "source": [
    "**7. Delete the document you updated in the previous step and then query the collection to\n",
    "verify that it’s been deleted.**"
   ]
  },
  {
   "cell_type": "code",
   "execution_count": 41,
   "id": "2a460110-61f1-49ec-8292-aafce54fd91e",
   "metadata": {},
   "outputs": [
    {
     "name": "stdout",
     "output_type": "stream",
     "text": [
      "env: selection={\"product_name\":\"New Product\"}\n"
     ]
    }
   ],
   "source": [
    "%env selection = {\"product_name\":\"New Product\"}"
   ]
  },
  {
   "cell_type": "code",
   "execution_count": 42,
   "id": "ceef7278-0460-4a8d-9f68-75db7f5cfc84",
   "metadata": {},
   "outputs": [
    {
     "name": "stdout",
     "output_type": "stream",
     "text": [
      "{ \"acknowledged\" : true, \"deletedCount\" : 1 }\n"
     ]
    }
   ],
   "source": [
    "!mongo open_food --quiet --eval \"db.products.deleteOne(${selection})\""
   ]
  },
  {
   "cell_type": "code",
   "execution_count": 43,
   "id": "c5e8e664-5c02-48cd-b040-324ac5ec7e04",
   "metadata": {},
   "outputs": [
    {
     "name": "stdout",
     "output_type": "stream",
     "text": [
      "env: selection={\"product_name\":\"New Product\"}\n"
     ]
    }
   ],
   "source": [
    "%env selection = {\"product_name\":\"New Product\"}"
   ]
  },
  {
   "cell_type": "code",
   "execution_count": 44,
   "id": "25de3e1c-2359-4f25-84dd-6cbf65dc7ed2",
   "metadata": {},
   "outputs": [
    {
     "name": "stdout",
     "output_type": "stream",
     "text": [
      "null\n"
     ]
    }
   ],
   "source": [
    "!mongo open_food --quiet --eval \"db.products.findOne(${selection}, {})\""
   ]
  }
 ],
 "metadata": {
  "environment": {
   "kernel": "python3",
   "name": "common-cpu.m103",
   "type": "gcloud",
   "uri": "gcr.io/deeplearning-platform-release/base-cpu:m103"
  },
  "kernelspec": {
   "display_name": "Python 3",
   "language": "python",
   "name": "python3"
  },
  "language_info": {
   "codemirror_mode": {
    "name": "ipython",
    "version": 3
   },
   "file_extension": ".py",
   "mimetype": "text/x-python",
   "name": "python",
   "nbconvert_exporter": "python",
   "pygments_lexer": "ipython3",
   "version": "3.7.12"
  }
 },
 "nbformat": 4,
 "nbformat_minor": 5
}
