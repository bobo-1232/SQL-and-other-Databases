{
 "cells": [
  {
   "cell_type": "markdown",
   "id": "e65e78fb-2455-44e5-b465-76dc4c1ed145",
   "metadata": {},
   "source": [
    "**Create the pagila schema and objects by running pagila-schema.sql.**"
   ]
  },
  {
   "cell_type": "code",
   "execution_count": 1,
   "id": "86758bdf-7eaa-4091-bcf1-771110ad4e91",
   "metadata": {},
   "outputs": [],
   "source": [
    "!psql < /home/jupyter/pagila/pagila-schema.sql &> /dev/null"
   ]
  },
  {
   "cell_type": "markdown",
   "id": "420ab9d7-7bee-400a-960f-2139fe94e6aa",
   "metadata": {},
   "source": [
    "**Populate the pagila tables by running pagila-insert-data.sql.**"
   ]
  },
  {
   "cell_type": "code",
   "execution_count": 2,
   "id": "90bce6ce-1d0e-4c96-9d74-f4239af5b09e",
   "metadata": {},
   "outputs": [],
   "source": [
    "!psql < /home/jupyter/pagila/pagila-insert-data.sql &> /dev/null"
   ]
  },
  {
   "cell_type": "markdown",
   "id": "05fd0044-8bb6-4775-9332-554b0c35b4c4",
   "metadata": {},
   "source": [
    "**Describe each table**"
   ]
  },
  {
   "cell_type": "code",
   "execution_count": 3,
   "id": "1fc02966-1704-498c-b0ae-f1b1d9c4b694",
   "metadata": {},
   "outputs": [
    {
     "name": "stdout",
     "output_type": "stream",
     "text": [
      "             List of relations\n",
      " Schema |     Name      | Type  |  Owner   \n",
      "--------+---------------+-------+----------\n",
      " pagila | actor         | table | postgres\n",
      " pagila | address       | table | postgres\n",
      " pagila | category      | table | postgres\n",
      " pagila | city          | table | postgres\n",
      " pagila | country       | table | postgres\n",
      " pagila | customer      | table | postgres\n",
      " pagila | film          | table | postgres\n",
      " pagila | film_actor    | table | postgres\n",
      " pagila | film_category | table | postgres\n",
      " pagila | inventory     | table | postgres\n",
      " pagila | language      | table | postgres\n",
      " pagila | payment       | table | postgres\n",
      " pagila | rental        | table | postgres\n",
      " pagila | staff         | table | postgres\n",
      " pagila | store         | table | postgres\n",
      "(15 rows)\n",
      "\n"
     ]
    }
   ],
   "source": [
    "!psql -c \"\\dt pagila.*\""
   ]
  },
  {
   "cell_type": "code",
   "execution_count": 4,
   "id": "6d0ba2e3-7819-43a6-9ce8-252f928161d7",
   "metadata": {},
   "outputs": [
    {
     "name": "stdout",
     "output_type": "stream",
     "text": [
      "                                              Table \"pagila.actor\"\n",
      "   Column    |           Type           | Collation | Nullable |                    Default                     \n",
      "-------------+--------------------------+-----------+----------+------------------------------------------------\n",
      " actor_id    | integer                  |           | not null | nextval('pagila.actor_actor_id_seq'::regclass)\n",
      " first_name  | text                     |           | not null | \n",
      " last_name   | text                     |           | not null | \n",
      " last_update | timestamp with time zone |           | not null | now()\n",
      "Indexes:\n",
      "    \"actor_pkey\" PRIMARY KEY, btree (actor_id)\n",
      "    \"idx_actor_last_name\" btree (last_name)\n",
      "Referenced by:\n",
      "    TABLE \"pagila.film_actor\" CONSTRAINT \"film_actor_actor_id_fkey\" FOREIGN KEY (actor_id) REFERENCES pagila.actor(actor_id) ON UPDATE CASCADE ON DELETE RESTRICT\n",
      "Triggers:\n",
      "    last_updated BEFORE UPDATE ON pagila.actor FOR EACH ROW EXECUTE FUNCTION pagila.last_updated()\n",
      "\n"
     ]
    }
   ],
   "source": [
    "!psql -c \"\\d pagila.actor\""
   ]
  },
  {
   "cell_type": "code",
   "execution_count": 5,
   "id": "696a9e2e-4fd2-4f79-a873-5629ccbb6af5",
   "metadata": {},
   "outputs": [
    {
     "name": "stdout",
     "output_type": "stream",
     "text": [
      " actor_id | first_name | last_name |      last_update       \n",
      "----------+------------+-----------+------------------------\n",
      "        1 | PENELOPE   | GUINESS   | 2017-02-15 09:34:33+00\n",
      "        2 | NICK       | WAHLBERG  | 2017-02-15 09:34:33+00\n",
      "        3 | ED         | CHASE     | 2017-02-15 09:34:33+00\n",
      "(3 rows)\n",
      "\n"
     ]
    }
   ],
   "source": [
    "!psql -c \"select * from pagila.actor limit 3\""
   ]
  },
  {
   "cell_type": "code",
   "execution_count": 6,
   "id": "c05eb4a4-5bc6-4c33-b99a-acbc9970d3a1",
   "metadata": {},
   "outputs": [
    {
     "name": "stdout",
     "output_type": "stream",
     "text": [
      "                                               Table \"pagila.address\"\n",
      "   Column    |           Type           | Collation | Nullable |                      Default                       \n",
      "-------------+--------------------------+-----------+----------+----------------------------------------------------\n",
      " address_id  | integer                  |           | not null | nextval('pagila.address_address_id_seq'::regclass)\n",
      " address     | text                     |           | not null | \n",
      " address2    | text                     |           |          | \n",
      " district    | text                     |           | not null | \n",
      " city_id     | smallint                 |           | not null | \n",
      " postal_code | text                     |           |          | \n",
      " phone       | text                     |           | not null | \n",
      " last_update | timestamp with time zone |           | not null | now()\n",
      "Indexes:\n",
      "    \"address_pkey\" PRIMARY KEY, btree (address_id)\n",
      "    \"idx_fk_city_id\" btree (city_id)\n",
      "Foreign-key constraints:\n",
      "    \"address_city_id_fkey\" FOREIGN KEY (city_id) REFERENCES pagila.city(city_id) ON UPDATE CASCADE ON DELETE RESTRICT\n",
      "Referenced by:\n",
      "    TABLE \"pagila.customer\" CONSTRAINT \"customer_address_id_fkey\" FOREIGN KEY (address_id) REFERENCES pagila.address(address_id) ON UPDATE CASCADE ON DELETE RESTRICT\n",
      "    TABLE \"pagila.staff\" CONSTRAINT \"staff_address_id_fkey\" FOREIGN KEY (address_id) REFERENCES pagila.address(address_id) ON UPDATE CASCADE ON DELETE RESTRICT\n",
      "    TABLE \"pagila.store\" CONSTRAINT \"store_address_id_fkey\" FOREIGN KEY (address_id) REFERENCES pagila.address(address_id) ON UPDATE CASCADE ON DELETE RESTRICT\n",
      "Triggers:\n",
      "    last_updated BEFORE UPDATE ON pagila.address FOR EACH ROW EXECUTE FUNCTION pagila.last_updated()\n",
      "\n"
     ]
    }
   ],
   "source": [
    "!psql -c \"\\d pagila.address\""
   ]
  },
  {
   "cell_type": "code",
   "execution_count": 7,
   "id": "3bc2de53-6d78-4b91-b7d1-dea4d091b5a6",
   "metadata": {},
   "outputs": [
    {
     "name": "stdout",
     "output_type": "stream",
     "text": [
      " address_id |      address       | address2 | district | city_id | postal_code |    phone    |      last_update       \n",
      "------------+--------------------+----------+----------+---------+-------------+-------------+------------------------\n",
      "          1 | 47 MySakila Drive  |          | Alberta  |     300 |             |             | 2017-02-15 09:45:30+00\n",
      "          2 | 28 MySQL Boulevard |          | QLD      |     576 |             |             | 2017-02-15 09:45:30+00\n",
      "          3 | 23 Workhaven Lane  |          | Alberta  |     300 |             | 14033335568 | 2017-02-15 09:45:30+00\n",
      "(3 rows)\n",
      "\n"
     ]
    }
   ],
   "source": [
    "!psql -c \"select * from pagila.address limit 3\""
   ]
  },
  {
   "cell_type": "code",
   "execution_count": 8,
   "id": "fa0dc7d3-642f-41c6-80c2-17c5565308d3",
   "metadata": {},
   "outputs": [
    {
     "name": "stdout",
     "output_type": "stream",
     "text": [
      "                                               Table \"pagila.category\"\n",
      "   Column    |           Type           | Collation | Nullable |                       Default                        \n",
      "-------------+--------------------------+-----------+----------+------------------------------------------------------\n",
      " category_id | integer                  |           | not null | nextval('pagila.category_category_id_seq'::regclass)\n",
      " name        | text                     |           | not null | \n",
      " last_update | timestamp with time zone |           | not null | now()\n",
      "Indexes:\n",
      "    \"category_pkey\" PRIMARY KEY, btree (category_id)\n",
      "Referenced by:\n",
      "    TABLE \"pagila.film_category\" CONSTRAINT \"film_category_category_id_fkey\" FOREIGN KEY (category_id) REFERENCES pagila.category(category_id) ON UPDATE CASCADE ON DELETE RESTRICT\n",
      "Triggers:\n",
      "    last_updated BEFORE UPDATE ON pagila.category FOR EACH ROW EXECUTE FUNCTION pagila.last_updated()\n",
      "\n"
     ]
    }
   ],
   "source": [
    "!psql -c \"\\d pagila.category\""
   ]
  },
  {
   "cell_type": "code",
   "execution_count": 9,
   "id": "bc4c718e-3a33-4858-ac59-99f35d1e784d",
   "metadata": {},
   "outputs": [
    {
     "name": "stdout",
     "output_type": "stream",
     "text": [
      " category_id |   name    |      last_update       \n",
      "-------------+-----------+------------------------\n",
      "           1 | Action    | 2017-02-15 09:46:27+00\n",
      "           2 | Animation | 2017-02-15 09:46:27+00\n",
      "           3 | Children  | 2017-02-15 09:46:27+00\n",
      "(3 rows)\n",
      "\n"
     ]
    }
   ],
   "source": [
    "!psql -c \"select * from pagila.category limit 3\""
   ]
  },
  {
   "cell_type": "code",
   "execution_count": 10,
   "id": "a9bb1b31-c9e1-4ff1-ad4a-e09a8a987bfc",
   "metadata": {},
   "outputs": [
    {
     "name": "stdout",
     "output_type": "stream",
     "text": [
      "                                             Table \"pagila.city\"\n",
      "   Column    |           Type           | Collation | Nullable |                   Default                    \n",
      "-------------+--------------------------+-----------+----------+----------------------------------------------\n",
      " city_id     | integer                  |           | not null | nextval('pagila.city_city_id_seq'::regclass)\n",
      " city        | text                     |           | not null | \n",
      " country_id  | smallint                 |           | not null | \n",
      " last_update | timestamp with time zone |           | not null | now()\n",
      "Indexes:\n",
      "    \"city_pkey\" PRIMARY KEY, btree (city_id)\n",
      "    \"idx_fk_country_id\" btree (country_id)\n",
      "Foreign-key constraints:\n",
      "    \"city_country_id_fkey\" FOREIGN KEY (country_id) REFERENCES pagila.country(country_id) ON UPDATE CASCADE ON DELETE RESTRICT\n",
      "Referenced by:\n",
      "    TABLE \"pagila.address\" CONSTRAINT \"address_city_id_fkey\" FOREIGN KEY (city_id) REFERENCES pagila.city(city_id) ON UPDATE CASCADE ON DELETE RESTRICT\n",
      "Triggers:\n",
      "    last_updated BEFORE UPDATE ON pagila.city FOR EACH ROW EXECUTE FUNCTION pagila.last_updated()\n",
      "\n"
     ]
    }
   ],
   "source": [
    "!psql -c \"\\d pagila.city\""
   ]
  },
  {
   "cell_type": "code",
   "execution_count": 11,
   "id": "478ff3b8-9d6d-4756-b338-873eb822e32d",
   "metadata": {},
   "outputs": [
    {
     "name": "stdout",
     "output_type": "stream",
     "text": [
      " city_id |        city        | country_id |      last_update       \n",
      "---------+--------------------+------------+------------------------\n",
      "       1 | A Corua (La Corua) |         87 | 2017-02-15 09:45:25+00\n",
      "       2 | Abha               |         82 | 2017-02-15 09:45:25+00\n",
      "       3 | Abu Dhabi          |        101 | 2017-02-15 09:45:25+00\n",
      "       4 | Acua               |         60 | 2017-02-15 09:45:25+00\n",
      "       5 | Adana              |         97 | 2017-02-15 09:45:25+00\n",
      "(5 rows)\n",
      "\n"
     ]
    }
   ],
   "source": [
    "!psql -c \"select * from pagila.city limit 5\""
   ]
  },
  {
   "cell_type": "code",
   "execution_count": 12,
   "id": "0d80b3a6-e7e6-4ca3-a3ec-f4f458c07a96",
   "metadata": {},
   "outputs": [
    {
     "name": "stdout",
     "output_type": "stream",
     "text": [
      "                                               Table \"pagila.country\"\n",
      "   Column    |           Type           | Collation | Nullable |                      Default                       \n",
      "-------------+--------------------------+-----------+----------+----------------------------------------------------\n",
      " country_id  | integer                  |           | not null | nextval('pagila.country_country_id_seq'::regclass)\n",
      " country     | text                     |           | not null | \n",
      " last_update | timestamp with time zone |           | not null | now()\n",
      "Indexes:\n",
      "    \"country_pkey\" PRIMARY KEY, btree (country_id)\n",
      "Referenced by:\n",
      "    TABLE \"pagila.city\" CONSTRAINT \"city_country_id_fkey\" FOREIGN KEY (country_id) REFERENCES pagila.country(country_id) ON UPDATE CASCADE ON DELETE RESTRICT\n",
      "Triggers:\n",
      "    last_updated BEFORE UPDATE ON pagila.country FOR EACH ROW EXECUTE FUNCTION pagila.last_updated()\n",
      "\n"
     ]
    }
   ],
   "source": [
    "!psql -c \"\\d pagila.country\""
   ]
  },
  {
   "cell_type": "code",
   "execution_count": 13,
   "id": "59959256-c86e-4f2c-9ff4-69e1b4e30c87",
   "metadata": {},
   "outputs": [
    {
     "name": "stdout",
     "output_type": "stream",
     "text": [
      " country_id |    country     |      last_update       \n",
      "------------+----------------+------------------------\n",
      "          1 | Afghanistan    | 2017-02-15 09:44:00+00\n",
      "          2 | Algeria        | 2017-02-15 09:44:00+00\n",
      "          3 | American Samoa | 2017-02-15 09:44:00+00\n",
      "          4 | Angola         | 2017-02-15 09:44:00+00\n",
      "          5 | Anguilla       | 2017-02-15 09:44:00+00\n",
      "(5 rows)\n",
      "\n"
     ]
    }
   ],
   "source": [
    "!psql -c \"select * from pagila.country limit 5\""
   ]
  },
  {
   "cell_type": "code",
   "execution_count": 14,
   "id": "4fd727df-2319-4587-8869-81d42ae23367",
   "metadata": {},
   "outputs": [
    {
     "name": "stdout",
     "output_type": "stream",
     "text": [
      "                                                  Table \"pagila.film\"\n",
      "        Column        |           Type           | Collation | Nullable |                   Default                    \n",
      "----------------------+--------------------------+-----------+----------+----------------------------------------------\n",
      " film_id              | integer                  |           | not null | nextval('pagila.film_film_id_seq'::regclass)\n",
      " title                | text                     |           | not null | \n",
      " description          | text                     |           |          | \n",
      " release_year         | pagila.year              |           |          | \n",
      " language_id          | smallint                 |           | not null | \n",
      " original_language_id | smallint                 |           |          | \n",
      " rental_duration      | smallint                 |           | not null | 3\n",
      " rental_rate          | numeric(4,2)             |           | not null | 4.99\n",
      " length               | smallint                 |           |          | \n",
      " replacement_cost     | numeric(5,2)             |           | not null | 19.99\n",
      " rating               | pagila.mpaa_rating       |           |          | 'G'::pagila.mpaa_rating\n",
      " last_update          | timestamp with time zone |           | not null | now()\n",
      " special_features     | text[]                   |           |          | \n",
      " fulltext             | tsvector                 |           | not null | \n",
      "Indexes:\n",
      "    \"film_pkey\" PRIMARY KEY, btree (film_id)\n",
      "    \"film_fulltext_idx\" gist (fulltext)\n",
      "    \"idx_fk_language_id\" btree (language_id)\n",
      "    \"idx_fk_original_language_id\" btree (original_language_id)\n",
      "    \"idx_title\" btree (title)\n",
      "Foreign-key constraints:\n",
      "    \"film_language_id_fkey\" FOREIGN KEY (language_id) REFERENCES pagila.language(language_id) ON UPDATE CASCADE ON DELETE RESTRICT\n",
      "    \"film_original_language_id_fkey\" FOREIGN KEY (original_language_id) REFERENCES pagila.language(language_id) ON UPDATE CASCADE ON DELETE RESTRICT\n",
      "Referenced by:\n",
      "    TABLE \"pagila.film_actor\" CONSTRAINT \"film_actor_film_id_fkey\" FOREIGN KEY (film_id) REFERENCES pagila.film(film_id) ON UPDATE CASCADE ON DELETE RESTRICT\n",
      "    TABLE \"pagila.film_category\" CONSTRAINT \"film_category_film_id_fkey\" FOREIGN KEY (film_id) REFERENCES pagila.film(film_id) ON UPDATE CASCADE ON DELETE RESTRICT\n",
      "    TABLE \"pagila.inventory\" CONSTRAINT \"inventory_film_id_fkey\" FOREIGN KEY (film_id) REFERENCES pagila.film(film_id) ON UPDATE CASCADE ON DELETE RESTRICT\n",
      "Triggers:\n",
      "    film_fulltext_trigger BEFORE INSERT OR UPDATE ON pagila.film FOR EACH ROW EXECUTE FUNCTION tsvector_update_trigger('fulltext', 'pg_catalog.english', 'title', 'description')\n",
      "    last_updated BEFORE UPDATE ON pagila.film FOR EACH ROW EXECUTE FUNCTION pagila.last_updated()\n",
      "\n"
     ]
    }
   ],
   "source": [
    "!psql -c \"\\d pagila.film\""
   ]
  },
  {
   "cell_type": "code",
   "execution_count": 15,
   "id": "ed68e279-b558-4436-9781-45d4c79eb9e7",
   "metadata": {},
   "outputs": [
    {
     "name": "stdout",
     "output_type": "stream",
     "text": [
      " film_id |      title       |                                             description                                              | release_year | language_id | original_language_id | rental_duration | rental_rate | length | replacement_cost | rating |          last_update          |            special_features            |                                                                  fulltext                                                                   \n",
      "---------+------------------+------------------------------------------------------------------------------------------------------+--------------+-------------+----------------------+-----------------+-------------+--------+------------------+--------+-------------------------------+----------------------------------------+---------------------------------------------------------------------------------------------------------------------------------------------\n",
      "       1 | ACADEMY DINOSAUR | A Epic Drama of a Feminist And a Mad Scientist who must Battle a Teacher in The Canadian Rockies     |         2006 |           1 |                      |               6 |        0.99 |     86 |            20.99 | PG     | 2017-09-10 17:46:03.905795+00 | {\"Deleted Scenes\",\"Behind the Scenes\"} | 'academi':1 'battl':15 'canadian':20 'dinosaur':2 'drama':5 'epic':4 'feminist':8 'mad':11 'must':14 'rocki':21 'scientist':12 'teacher':17\n",
      "       2 | ACE GOLDFINGER   | A Astounding Epistle of a Database Administrator And a Explorer who must Find a Car in Ancient China |         2006 |           1 |                      |               3 |        4.99 |     48 |            12.99 | G      | 2017-09-10 17:46:03.905795+00 | {Trailers,\"Deleted Scenes\"}            | 'ace':1 'administr':9 'ancient':19 'astound':4 'car':17 'china':20 'databas':8 'epistl':5 'explor':12 'find':15 'goldfing':2 'must':14\n",
      "       3 | ADAPTATION HOLES | A Astounding Reflection of a Lumberjack And a Car who must Sink a Lumberjack in A Baloon Factory     |         2006 |           1 |                      |               7 |        2.99 |     50 |            18.99 | NC-17  | 2017-09-10 17:46:03.905795+00 | {Trailers,\"Deleted Scenes\"}            | 'adapt':1 'astound':4 'baloon':19 'car':11 'factori':20 'hole':2 'lumberjack':8,16 'must':13 'reflect':5 'sink':14\n",
      "(3 rows)\n",
      "\n"
     ]
    }
   ],
   "source": [
    "!psql -c \"select * from pagila.film limit 3\""
   ]
  },
  {
   "cell_type": "code",
   "execution_count": 16,
   "id": "1e76cf0d-944d-429a-b7ae-0a02aa0cdc4f",
   "metadata": {},
   "outputs": [
    {
     "name": "stdout",
     "output_type": "stream",
     "text": [
      "                      Table \"pagila.film_category\"\n",
      "   Column    |           Type           | Collation | Nullable | Default \n",
      "-------------+--------------------------+-----------+----------+---------\n",
      " film_id     | smallint                 |           | not null | \n",
      " category_id | smallint                 |           | not null | \n",
      " last_update | timestamp with time zone |           | not null | now()\n",
      "Indexes:\n",
      "    \"film_category_pkey\" PRIMARY KEY, btree (film_id, category_id)\n",
      "Foreign-key constraints:\n",
      "    \"film_category_category_id_fkey\" FOREIGN KEY (category_id) REFERENCES pagila.category(category_id) ON UPDATE CASCADE ON DELETE RESTRICT\n",
      "    \"film_category_film_id_fkey\" FOREIGN KEY (film_id) REFERENCES pagila.film(film_id) ON UPDATE CASCADE ON DELETE RESTRICT\n",
      "Triggers:\n",
      "    last_updated BEFORE UPDATE ON pagila.film_category FOR EACH ROW EXECUTE FUNCTION pagila.last_updated()\n",
      "\n"
     ]
    }
   ],
   "source": [
    "!psql -c \"\\d pagila.film_category\""
   ]
  },
  {
   "cell_type": "code",
   "execution_count": 17,
   "id": "ba550ee6-4f56-42e3-831e-b4dcfb9b29f3",
   "metadata": {},
   "outputs": [
    {
     "name": "stdout",
     "output_type": "stream",
     "text": [
      " film_id | category_id |      last_update       \n",
      "---------+-------------+------------------------\n",
      "       1 |           6 | 2017-02-15 10:07:09+00\n",
      "       2 |          11 | 2017-02-15 10:07:09+00\n",
      "       3 |           6 | 2017-02-15 10:07:09+00\n",
      "(3 rows)\n",
      "\n"
     ]
    }
   ],
   "source": [
    "!psql -c \"select * from pagila.film_category limit 3\""
   ]
  },
  {
   "cell_type": "code",
   "execution_count": 18,
   "id": "a6af265a-3310-4765-a479-52d05f8a64be",
   "metadata": {},
   "outputs": [
    {
     "name": "stdout",
     "output_type": "stream",
     "text": [
      "                        Table \"pagila.film_actor\"\n",
      "   Column    |           Type           | Collation | Nullable | Default \n",
      "-------------+--------------------------+-----------+----------+---------\n",
      " actor_id    | smallint                 |           | not null | \n",
      " film_id     | smallint                 |           | not null | \n",
      " last_update | timestamp with time zone |           | not null | now()\n",
      "Indexes:\n",
      "    \"film_actor_pkey\" PRIMARY KEY, btree (actor_id, film_id)\n",
      "    \"idx_fk_film_id\" btree (film_id)\n",
      "Foreign-key constraints:\n",
      "    \"film_actor_actor_id_fkey\" FOREIGN KEY (actor_id) REFERENCES pagila.actor(actor_id) ON UPDATE CASCADE ON DELETE RESTRICT\n",
      "    \"film_actor_film_id_fkey\" FOREIGN KEY (film_id) REFERENCES pagila.film(film_id) ON UPDATE CASCADE ON DELETE RESTRICT\n",
      "Triggers:\n",
      "    last_updated BEFORE UPDATE ON pagila.film_actor FOR EACH ROW EXECUTE FUNCTION pagila.last_updated()\n",
      "\n"
     ]
    }
   ],
   "source": [
    "!psql -c \"\\d pagila.film_actor\""
   ]
  },
  {
   "cell_type": "code",
   "execution_count": 19,
   "id": "6410b32b-fb31-4378-8e46-ea3384bd9576",
   "metadata": {},
   "outputs": [
    {
     "name": "stdout",
     "output_type": "stream",
     "text": [
      " actor_id | film_id |      last_update       \n",
      "----------+---------+------------------------\n",
      "        1 |       1 | 2017-02-15 10:05:03+00\n",
      "        1 |      23 | 2017-02-15 10:05:03+00\n",
      "        1 |      25 | 2017-02-15 10:05:03+00\n",
      "(3 rows)\n",
      "\n"
     ]
    }
   ],
   "source": [
    "!psql -c \"select * from pagila.film_actor limit 3\""
   ]
  },
  {
   "cell_type": "code",
   "execution_count": 20,
   "id": "dd468a0c-84b3-4742-b336-07a0cd878da9",
   "metadata": {},
   "outputs": [
    {
     "name": "stdout",
     "output_type": "stream",
     "text": [
      "                                                Table \"pagila.customer\"\n",
      "   Column    |           Type           | Collation | Nullable |                        Default                        \n",
      "-------------+--------------------------+-----------+----------+-------------------------------------------------------\n",
      " customer_id | integer                  |           | not null | nextval('pagila.customer_customer_id_seq1'::regclass)\n",
      " store_id    | smallint                 |           | not null | \n",
      " first_name  | text                     |           | not null | \n",
      " last_name   | text                     |           | not null | \n",
      " email       | text                     |           |          | \n",
      " address_id  | smallint                 |           | not null | \n",
      " activebool  | boolean                  |           | not null | true\n",
      " create_date | date                     |           | not null | 'now'::text::date\n",
      " last_update | timestamp with time zone |           |          | now()\n",
      " active      | integer                  |           |          | \n",
      "Indexes:\n",
      "    \"customer_pkey\" PRIMARY KEY, btree (customer_id)\n",
      "    \"idx_fk_address_id\" btree (address_id)\n",
      "    \"idx_fk_store_id\" btree (store_id)\n",
      "    \"idx_last_name\" btree (last_name)\n",
      "Foreign-key constraints:\n",
      "    \"customer_address_id_fkey\" FOREIGN KEY (address_id) REFERENCES pagila.address(address_id) ON UPDATE CASCADE ON DELETE RESTRICT\n",
      "    \"customer_store_id_fkey\" FOREIGN KEY (store_id) REFERENCES pagila.store(store_id) ON UPDATE CASCADE ON DELETE RESTRICT\n",
      "Referenced by:\n",
      "    TABLE \"pagila.payment\" CONSTRAINT \"customer_id_fkey\" FOREIGN KEY (customer_id) REFERENCES pagila.customer(customer_id) ON UPDATE CASCADE ON DELETE RESTRICT\n",
      "    TABLE \"pagila.rental\" CONSTRAINT \"rental_customer_id_fkey\" FOREIGN KEY (customer_id) REFERENCES pagila.customer(customer_id) ON UPDATE CASCADE ON DELETE RESTRICT\n",
      "Triggers:\n",
      "    last_updated BEFORE UPDATE ON pagila.customer FOR EACH ROW EXECUTE FUNCTION pagila.last_updated()\n",
      "\n"
     ]
    }
   ],
   "source": [
    "!psql -c \"\\d pagila.customer\""
   ]
  },
  {
   "cell_type": "code",
   "execution_count": 21,
   "id": "0bddd0ed-a6f8-45d9-8402-b1b27c556060",
   "metadata": {},
   "outputs": [
    {
     "name": "stdout",
     "output_type": "stream",
     "text": [
      " customer_id | store_id | first_name | last_name |                email                | address_id | activebool | create_date |      last_update       | active \n",
      "-------------+----------+------------+-----------+-------------------------------------+------------+------------+-------------+------------------------+--------\n",
      "           1 |        1 | MARY       | SMITH     | MARY.SMITH@sakilacustomer.org       |          5 | t          | 2017-02-14  | 2017-02-15 09:57:20+00 |      1\n",
      "           2 |        1 | PATRICIA   | JOHNSON   | PATRICIA.JOHNSON@sakilacustomer.org |          6 | t          | 2017-02-14  | 2017-02-15 09:57:20+00 |      1\n",
      "           3 |        1 | LINDA      | WILLIAMS  | LINDA.WILLIAMS@sakilacustomer.org   |          7 | t          | 2017-02-14  | 2017-02-15 09:57:20+00 |      1\n",
      "           4 |        2 | BARBARA    | JONES     | BARBARA.JONES@sakilacustomer.org    |          8 | t          | 2017-02-14  | 2017-02-15 09:57:20+00 |      1\n",
      "           5 |        1 | ELIZABETH  | BROWN     | ELIZABETH.BROWN@sakilacustomer.org  |          9 | t          | 2017-02-14  | 2017-02-15 09:57:20+00 |      1\n",
      "(5 rows)\n",
      "\n"
     ]
    }
   ],
   "source": [
    "!psql -c \"select * from pagila.customer limit 5\""
   ]
  },
  {
   "cell_type": "code",
   "execution_count": 22,
   "id": "0ea6ca5a-fa7d-40e5-864a-0314d058ff12",
   "metadata": {},
   "outputs": [
    {
     "name": "stdout",
     "output_type": "stream",
     "text": [
      "                                                Table \"pagila.inventory\"\n",
      "    Column    |           Type           | Collation | Nullable |                        Default                         \n",
      "--------------+--------------------------+-----------+----------+--------------------------------------------------------\n",
      " inventory_id | integer                  |           | not null | nextval('pagila.inventory_inventory_id_seq'::regclass)\n",
      " film_id      | smallint                 |           | not null | \n",
      " store_id     | smallint                 |           | not null | \n",
      " last_update  | timestamp with time zone |           | not null | now()\n",
      "Indexes:\n",
      "    \"inventory_pkey\" PRIMARY KEY, btree (inventory_id)\n",
      "    \"idx_store_id_film_id\" btree (store_id, film_id)\n",
      "Foreign-key constraints:\n",
      "    \"inventory_film_id_fkey\" FOREIGN KEY (film_id) REFERENCES pagila.film(film_id) ON UPDATE CASCADE ON DELETE RESTRICT\n",
      "    \"inventory_store_id_fkey\" FOREIGN KEY (store_id) REFERENCES pagila.store(store_id) ON UPDATE CASCADE ON DELETE RESTRICT\n",
      "Referenced by:\n",
      "    TABLE \"pagila.rental\" CONSTRAINT \"rental_inventory_id_fkey\" FOREIGN KEY (inventory_id) REFERENCES pagila.inventory(inventory_id) ON UPDATE CASCADE ON DELETE RESTRICT\n",
      "Triggers:\n",
      "    last_updated BEFORE UPDATE ON pagila.inventory FOR EACH ROW EXECUTE FUNCTION pagila.last_updated()\n",
      "\n"
     ]
    }
   ],
   "source": [
    "!psql -c \"\\d pagila.inventory\""
   ]
  },
  {
   "cell_type": "code",
   "execution_count": 23,
   "id": "039670f4-ee88-4c1b-9ffc-3d6acb66f7ce",
   "metadata": {},
   "outputs": [
    {
     "name": "stdout",
     "output_type": "stream",
     "text": [
      " inventory_id | film_id | store_id |      last_update       \n",
      "--------------+---------+----------+------------------------\n",
      "            1 |       1 |        1 | 2017-02-15 10:09:17+00\n",
      "            2 |       1 |        1 | 2017-02-15 10:09:17+00\n",
      "            3 |       1 |        1 | 2017-02-15 10:09:17+00\n",
      "(3 rows)\n",
      "\n"
     ]
    }
   ],
   "source": [
    "!psql -c \"select * from pagila.inventory limit 3\""
   ]
  },
  {
   "cell_type": "code",
   "execution_count": 24,
   "id": "6575f9ed-6683-4a8c-9235-93114679afab",
   "metadata": {},
   "outputs": [
    {
     "name": "stdout",
     "output_type": "stream",
     "text": [
      "                                               Table \"pagila.language\"\n",
      "   Column    |           Type           | Collation | Nullable |                       Default                        \n",
      "-------------+--------------------------+-----------+----------+------------------------------------------------------\n",
      " language_id | integer                  |           | not null | nextval('pagila.language_language_id_seq'::regclass)\n",
      " name        | character(20)            |           | not null | \n",
      " last_update | timestamp with time zone |           | not null | now()\n",
      "Indexes:\n",
      "    \"language_pkey\" PRIMARY KEY, btree (language_id)\n",
      "Referenced by:\n",
      "    TABLE \"pagila.film\" CONSTRAINT \"film_language_id_fkey\" FOREIGN KEY (language_id) REFERENCES pagila.language(language_id) ON UPDATE CASCADE ON DELETE RESTRICT\n",
      "    TABLE \"pagila.film\" CONSTRAINT \"film_original_language_id_fkey\" FOREIGN KEY (original_language_id) REFERENCES pagila.language(language_id) ON UPDATE CASCADE ON DELETE RESTRICT\n",
      "Triggers:\n",
      "    last_updated BEFORE UPDATE ON pagila.language FOR EACH ROW EXECUTE FUNCTION pagila.last_updated()\n",
      "\n"
     ]
    }
   ],
   "source": [
    "!psql -c \"\\d pagila.language\""
   ]
  },
  {
   "cell_type": "code",
   "execution_count": 25,
   "id": "b1379c3d-d291-4b13-bb59-bc1712d32235",
   "metadata": {},
   "outputs": [
    {
     "name": "stdout",
     "output_type": "stream",
     "text": [
      " language_id |         name         |      last_update       \n",
      "-------------+----------------------+------------------------\n",
      "           1 | English              | 2017-02-15 10:02:19+00\n",
      "           2 | Italian              | 2017-02-15 10:02:19+00\n",
      "           3 | Japanese             | 2017-02-15 10:02:19+00\n",
      "           4 | Mandarin             | 2017-02-15 10:02:19+00\n",
      "           5 | French               | 2017-02-15 10:02:19+00\n",
      "(5 rows)\n",
      "\n"
     ]
    }
   ],
   "source": [
    "!psql -c \"select * from pagila.language limit 5\""
   ]
  },
  {
   "cell_type": "code",
   "execution_count": 26,
   "id": "446d9aed-f13a-4092-b534-a49f125134e7",
   "metadata": {},
   "outputs": [
    {
     "name": "stdout",
     "output_type": "stream",
     "text": [
      "                                               Table \"pagila.payment\"\n",
      "    Column    |           Type           | Collation | Nullable |                      Default                       \n",
      "--------------+--------------------------+-----------+----------+----------------------------------------------------\n",
      " payment_id   | integer                  |           | not null | nextval('pagila.payment_payment_id_seq'::regclass)\n",
      " customer_id  | smallint                 |           | not null | \n",
      " staff_id     | smallint                 |           | not null | \n",
      " rental_id    | integer                  |           | not null | \n",
      " amount       | numeric(5,2)             |           | not null | \n",
      " payment_date | timestamp with time zone |           | not null | \n",
      "Indexes:\n",
      "    \"payment_pkey\" PRIMARY KEY, btree (payment_id)\n",
      "    \"idx_fk_customer_id\" btree (customer_id)\n",
      "    \"idx_fk_staff_id\" btree (staff_id)\n",
      "Foreign-key constraints:\n",
      "    \"customer_id_fkey\" FOREIGN KEY (customer_id) REFERENCES pagila.customer(customer_id) ON UPDATE CASCADE ON DELETE RESTRICT\n",
      "    \"rental_id_fkey\" FOREIGN KEY (rental_id) REFERENCES pagila.rental(rental_id) ON UPDATE CASCADE ON DELETE RESTRICT\n",
      "    \"staff_id_fkey\" FOREIGN KEY (staff_id) REFERENCES pagila.staff(staff_id) ON UPDATE CASCADE ON DELETE RESTRICT\n",
      "\n"
     ]
    }
   ],
   "source": [
    "!psql -c \"\\d pagila.payment\""
   ]
  },
  {
   "cell_type": "code",
   "execution_count": 27,
   "id": "e8f591cf-b4c5-494f-9eee-93a42d3b82b9",
   "metadata": {},
   "outputs": [
    {
     "name": "stdout",
     "output_type": "stream",
     "text": [
      " payment_id | customer_id | staff_id | rental_id | amount |         payment_date          \n",
      "------------+-------------+----------+-----------+--------+-------------------------------\n",
      "      16050 |         269 |        2 |         7 |   1.99 | 2017-01-24 21:40:19.996577+00\n",
      "      16051 |         269 |        1 |        98 |   0.99 | 2017-01-25 15:16:50.996577+00\n",
      "      16052 |         269 |        2 |       678 |   6.99 | 2017-01-28 21:44:14.996577+00\n",
      "      16053 |         269 |        2 |       703 |   0.99 | 2017-01-29 00:58:02.996577+00\n",
      "      16054 |         269 |        1 |       750 |   4.99 | 2017-01-29 08:10:06.996577+00\n",
      "(5 rows)\n",
      "\n"
     ]
    }
   ],
   "source": [
    "!psql -c \"select * from pagila.payment limit 5\""
   ]
  },
  {
   "cell_type": "code",
   "execution_count": 28,
   "id": "d09c4126-422e-411a-8ea2-a98fa1401938",
   "metadata": {},
   "outputs": [
    {
     "name": "stdout",
     "output_type": "stream",
     "text": [
      "                                               Table \"pagila.rental\"\n",
      "    Column    |           Type           | Collation | Nullable |                     Default                      \n",
      "--------------+--------------------------+-----------+----------+--------------------------------------------------\n",
      " rental_id    | integer                  |           | not null | nextval('pagila.rental_rental_id_seq'::regclass)\n",
      " rental_date  | timestamp with time zone |           | not null | \n",
      " inventory_id | integer                  |           | not null | \n",
      " customer_id  | smallint                 |           | not null | \n",
      " return_date  | timestamp with time zone |           |          | \n",
      " staff_id     | smallint                 |           | not null | \n",
      " last_update  | timestamp with time zone |           | not null | now()\n",
      "Indexes:\n",
      "    \"rental_pkey\" PRIMARY KEY, btree (rental_id)\n",
      "    \"idx_fk_inventory_id\" btree (inventory_id)\n",
      "    \"idx_unq_rental_rental_date_inventory_id_customer_id\" UNIQUE, btree (rental_date, inventory_id, customer_id)\n",
      "Foreign-key constraints:\n",
      "    \"rental_customer_id_fkey\" FOREIGN KEY (customer_id) REFERENCES pagila.customer(customer_id) ON UPDATE CASCADE ON DELETE RESTRICT\n",
      "    \"rental_inventory_id_fkey\" FOREIGN KEY (inventory_id) REFERENCES pagila.inventory(inventory_id) ON UPDATE CASCADE ON DELETE RESTRICT\n",
      "    \"rental_staff_id_fkey\" FOREIGN KEY (staff_id) REFERENCES pagila.staff(staff_id) ON UPDATE CASCADE ON DELETE RESTRICT\n",
      "Referenced by:\n",
      "    TABLE \"pagila.payment\" CONSTRAINT \"rental_id_fkey\" FOREIGN KEY (rental_id) REFERENCES pagila.rental(rental_id) ON UPDATE CASCADE ON DELETE RESTRICT\n",
      "Triggers:\n",
      "    last_updated BEFORE UPDATE ON pagila.rental FOR EACH ROW EXECUTE FUNCTION pagila.last_updated()\n",
      "\n"
     ]
    }
   ],
   "source": [
    "!psql -c \"\\d pagila.rental\""
   ]
  },
  {
   "cell_type": "code",
   "execution_count": 29,
   "id": "4beb2ce1-ff5f-4a5f-b74c-e8d16c62c2f3",
   "metadata": {},
   "outputs": [
    {
     "name": "stdout",
     "output_type": "stream",
     "text": [
      " rental_id |      rental_date       | inventory_id | customer_id |      return_date       | staff_id |      last_update       \n",
      "-----------+------------------------+--------------+-------------+------------------------+----------+------------------------\n",
      "         2 | 2005-05-24 22:54:33+00 |         1525 |         459 | 2005-05-28 19:40:33+00 |        1 | 2017-02-16 02:30:53+00\n",
      "         3 | 2005-05-24 23:03:39+00 |         1711 |         408 | 2005-06-01 22:12:39+00 |        1 | 2017-02-16 02:30:53+00\n",
      "         4 | 2005-05-24 23:04:41+00 |         2452 |         333 | 2005-06-03 01:43:41+00 |        2 | 2017-02-16 02:30:53+00\n",
      "         5 | 2005-05-24 23:05:21+00 |         2079 |         222 | 2005-06-02 04:33:21+00 |        1 | 2017-02-16 02:30:53+00\n",
      "         6 | 2005-05-24 23:08:07+00 |         2792 |         549 | 2005-05-27 01:32:07+00 |        1 | 2017-02-16 02:30:53+00\n",
      "(5 rows)\n",
      "\n"
     ]
    }
   ],
   "source": [
    "!psql -c \"select * from pagila.rental limit 5\""
   ]
  },
  {
   "cell_type": "code",
   "execution_count": 30,
   "id": "52641039-a1b7-4a40-925f-cd7b9b80bfa0",
   "metadata": {},
   "outputs": [
    {
     "name": "stdout",
     "output_type": "stream",
     "text": [
      "                                              Table \"pagila.staff\"\n",
      "   Column    |           Type           | Collation | Nullable |                    Default                     \n",
      "-------------+--------------------------+-----------+----------+------------------------------------------------\n",
      " staff_id    | integer                  |           | not null | nextval('pagila.staff_staff_id_seq'::regclass)\n",
      " first_name  | text                     |           | not null | \n",
      " last_name   | text                     |           | not null | \n",
      " address_id  | smallint                 |           | not null | \n",
      " email       | text                     |           |          | \n",
      " store_id    | smallint                 |           | not null | \n",
      " active      | boolean                  |           | not null | true\n",
      " username    | text                     |           | not null | \n",
      " password    | text                     |           |          | \n",
      " last_update | timestamp with time zone |           | not null | now()\n",
      " picture     | bytea                    |           |          | \n",
      "Indexes:\n",
      "    \"staff_pkey\" PRIMARY KEY, btree (staff_id)\n",
      "Foreign-key constraints:\n",
      "    \"staff_address_id_fkey\" FOREIGN KEY (address_id) REFERENCES pagila.address(address_id) ON UPDATE CASCADE ON DELETE RESTRICT\n",
      "    \"staff_store_id_fkey\" FOREIGN KEY (store_id) REFERENCES pagila.store(store_id)\n",
      "Referenced by:\n",
      "    TABLE \"pagila.rental\" CONSTRAINT \"rental_staff_id_fkey\" FOREIGN KEY (staff_id) REFERENCES pagila.staff(staff_id) ON UPDATE CASCADE ON DELETE RESTRICT\n",
      "    TABLE \"pagila.payment\" CONSTRAINT \"staff_id_fkey\" FOREIGN KEY (staff_id) REFERENCES pagila.staff(staff_id) ON UPDATE CASCADE ON DELETE RESTRICT\n",
      "Triggers:\n",
      "    last_updated BEFORE UPDATE ON pagila.staff FOR EACH ROW EXECUTE FUNCTION pagila.last_updated()\n",
      "\n"
     ]
    }
   ],
   "source": [
    "!psql -c \"\\d pagila.staff\""
   ]
  },
  {
   "cell_type": "code",
   "execution_count": 31,
   "id": "cf6e11b5-d8f7-4c36-b632-09f5de93f15f",
   "metadata": {},
   "outputs": [
    {
     "name": "stdout",
     "output_type": "stream",
     "text": [
      " staff_id | first_name | last_name | address_id |            email             | store_id | active | username |                 password                 |         last_update          |      picture       \n",
      "----------+------------+-----------+------------+------------------------------+----------+--------+----------+------------------------------------------+------------------------------+--------------------\n",
      "        1 | Mike       | Hillyer   |          3 | Mike.Hillyer@sakilastaff.com |        1 | t      | Mike     | 8cb2237d0679ca88db6464eac60da96345513964 | 2017-05-16 16:13:11.79328+00 | \\x89504e470d0a5a0a\n",
      "        2 | Jon        | Stephens  |          4 | Jon.Stephens@sakilastaff.com |        2 | t      | Jon      | 8cb2237d0679ca88db6464eac60da96345513964 | 2017-05-16 16:13:11.79328+00 | \n",
      "(2 rows)\n",
      "\n"
     ]
    }
   ],
   "source": [
    "!psql -c \"select * from pagila.staff limit 5\""
   ]
  },
  {
   "cell_type": "code",
   "execution_count": 32,
   "id": "07b7294f-084c-4fa1-aeff-98eb2cad117a",
   "metadata": {},
   "outputs": [
    {
     "name": "stdout",
     "output_type": "stream",
     "text": [
      "                                                Table \"pagila.store\"\n",
      "      Column      |           Type           | Collation | Nullable |                    Default                     \n",
      "------------------+--------------------------+-----------+----------+------------------------------------------------\n",
      " store_id         | integer                  |           | not null | nextval('pagila.store_store_id_seq'::regclass)\n",
      " manager_staff_id | smallint                 |           | not null | \n",
      " address_id       | smallint                 |           | not null | \n",
      " last_update      | timestamp with time zone |           | not null | now()\n",
      "Indexes:\n",
      "    \"store_pkey\" PRIMARY KEY, btree (store_id)\n",
      "    \"idx_unq_manager_staff_id\" UNIQUE, btree (manager_staff_id)\n",
      "Foreign-key constraints:\n",
      "    \"store_address_id_fkey\" FOREIGN KEY (address_id) REFERENCES pagila.address(address_id) ON UPDATE CASCADE ON DELETE RESTRICT\n",
      "Referenced by:\n",
      "    TABLE \"pagila.customer\" CONSTRAINT \"customer_store_id_fkey\" FOREIGN KEY (store_id) REFERENCES pagila.store(store_id) ON UPDATE CASCADE ON DELETE RESTRICT\n",
      "    TABLE \"pagila.inventory\" CONSTRAINT \"inventory_store_id_fkey\" FOREIGN KEY (store_id) REFERENCES pagila.store(store_id) ON UPDATE CASCADE ON DELETE RESTRICT\n",
      "    TABLE \"pagila.staff\" CONSTRAINT \"staff_store_id_fkey\" FOREIGN KEY (store_id) REFERENCES pagila.store(store_id)\n",
      "Triggers:\n",
      "    last_updated BEFORE UPDATE ON pagila.store FOR EACH ROW EXECUTE FUNCTION pagila.last_updated()\n",
      "\n"
     ]
    }
   ],
   "source": [
    "!psql -c \"\\d pagila.store\""
   ]
  },
  {
   "cell_type": "code",
   "execution_count": 33,
   "id": "70e77ace-c8b8-4937-85ec-11d61885a33e",
   "metadata": {},
   "outputs": [
    {
     "name": "stdout",
     "output_type": "stream",
     "text": [
      " store_id | manager_staff_id | address_id |      last_update       \n",
      "----------+------------------+------------+------------------------\n",
      "        1 |                1 |          1 | 2017-02-15 09:57:12+00\n",
      "        2 |                2 |          2 | 2017-02-15 09:57:12+00\n",
      "(2 rows)\n",
      "\n"
     ]
    }
   ],
   "source": [
    "!psql -c \"select * from pagila.store limit 5\""
   ]
  },
  {
   "cell_type": "code",
   "execution_count": 34,
   "id": "0c7c6235-0529-4ee1-a809-cdcc89f6da4a",
   "metadata": {},
   "outputs": [
    {
     "name": "stdout",
     "output_type": "stream",
     "text": [
      "                                              Table \"pagila.actor\"\n",
      "   Column    |           Type           | Collation | Nullable |                    Default                     \n",
      "-------------+--------------------------+-----------+----------+------------------------------------------------\n",
      " actor_id    | integer                  |           | not null | nextval('pagila.actor_actor_id_seq'::regclass)\n",
      " first_name  | text                     |           | not null | \n",
      " last_name   | text                     |           | not null | \n",
      " last_update | timestamp with time zone |           | not null | now()\n",
      "Indexes:\n",
      "    \"actor_pkey\" PRIMARY KEY, btree (actor_id)\n",
      "    \"idx_actor_last_name\" btree (last_name)\n",
      "Referenced by:\n",
      "    TABLE \"pagila.film_actor\" CONSTRAINT \"film_actor_actor_id_fkey\" FOREIGN KEY (actor_id) REFERENCES pagila.actor(actor_id) ON UPDATE CASCADE ON DELETE RESTRICT\n",
      "Triggers:\n",
      "    last_updated BEFORE UPDATE ON pagila.actor FOR EACH ROW EXECUTE FUNCTION pagila.last_updated()\n",
      "\n"
     ]
    }
   ],
   "source": [
    "!psql -c \"\\d pagila.actor\""
   ]
  },
  {
   "cell_type": "markdown",
   "id": "01bf96a1-fc68-418f-a833-c464ee06001e",
   "metadata": {},
   "source": [
    "**INNER JOINS**"
   ]
  },
  {
   "cell_type": "markdown",
   "id": "406c55ca-aa38-49f6-9ba7-0ce38648fce1",
   "metadata": {},
   "source": [
    "**1. Getting customer_id, first name, last name, district, and address from the England district** \\\n",
    "*Here we are joining tables `address` and `customer` in order to get a list of customers (ids, names and addresses) WHERE district is England. We need to take names and their id from `customer` and join their address and district (for verification) from `address` on address_id. The output is ORDERed BY customer's last and then first name.*"
   ]
  },
  {
   "cell_type": "code",
   "execution_count": 35,
   "id": "6686c040-41ff-46e4-8b4f-e99808c8ec0d",
   "metadata": {},
   "outputs": [
    {
     "name": "stdout",
     "output_type": "stream",
     "text": [
      " customer_id | first_name | last_name | district |         address         \n",
      "-------------+------------+-----------+----------+-------------------------\n",
      "         556 | ARMANDO    | GRUBER    | England  | 869 Shikarpur Way\n",
      "         252 | MATTIE     | HOFFMAN   | England  | 1497 Yuzhou Drive\n",
      "          16 | SANDRA     | MARTIN    | England  | 360 Toulouse Parkway\n",
      "         477 | DAN        | PAINE     | England  | 808 Naala-Porto Parkway\n",
      "          85 | ANNE       | POWELL    | England  | 1557 Ktahya Boulevard\n",
      "         497 | GILBERT    | SLEDGE    | England  | 1515 Korla Way\n",
      "         583 | MARSHALL   | THORN     | England  | 1584 Ljubertsy Lane\n",
      "(7 rows)\n",
      "\n"
     ]
    }
   ],
   "source": [
    "!psql -c \"SELECT c.customer_id, c.first_name, c.last_name, a.district, a.address FROM pagila.address a INNER JOIN pagila.customer c ON a.address_id = c.address_id WHERE a.district = 'England' ORDER BY last_name, first_name;\""
   ]
  },
  {
   "cell_type": "markdown",
   "id": "075e0091-11f3-4af4-b68e-221ae96b127c",
   "metadata": {},
   "source": [
    "**2. Getting the count of films for the actors who have the last name starting with P** \\\n",
    "*We did INNER JOIN for tables `actor` (first_name, last_name) and `film_actor` on actor_id WHERE the last_name starts with the letter P. Then we GROUPed BY actor_id and counted the rows. The output was ORDERed BY film count in descending order.*"
   ]
  },
  {
   "cell_type": "code",
   "execution_count": 36,
   "id": "1ceee66e-3a8a-4a86-8290-eadab7ed7b87",
   "metadata": {},
   "outputs": [
    {
     "name": "stdout",
     "output_type": "stream",
     "text": [
      " first_name | last_name | film_count \n",
      "------------+-----------+------------\n",
      " JAMES      | PITT      |         31\n",
      " RICHARD    | PENN      |         30\n",
      " OLYMPIA    | PFEIFFER  |         28\n",
      " KIRSTEN    | PALTROW   |         27\n",
      " GARY       | PENN      |         26\n",
      " ELLEN      | PRESLEY   |         25\n",
      " GARY       | PHOENIX   |         25\n",
      " PENELOPE   | PINKETT   |         25\n",
      " MILLA      | PECK      |         24\n",
      " BURT       | POSEY     |         24\n",
      " KENNETH    | PALTROW   |         21\n",
      " SPENCER    | PECK      |         21\n",
      " KENNETH    | PESCI     |         20\n",
      " SANDRA     | PECK      |         19\n",
      "(14 rows)\n",
      "\n"
     ]
    }
   ],
   "source": [
    "!psql -c \"SELECT first_name, last_name, count(*) film_count FROM pagila.actor a INNER JOIN pagila.film_actor fa ON a.actor_id = fa.actor_id WHERE a.last_name LIKE 'P%' GROUP BY a.actor_id ORDER BY film_count DESC\"\n"
   ]
  },
  {
   "cell_type": "markdown",
   "id": "ee7880db-f75d-411a-a383-372f0ebeb122",
   "metadata": {},
   "source": [
    "**3. Getting languages for movies that have a runtime greater than 120 minutes** \\\n",
    "*We join tables `film` (columns title and length) and `language` on language_id, and filtering only movies with runtime longer than 2 hrs and ordering movie titles alphabetically. Showing the first 10 records.* "
   ]
  },
  {
   "cell_type": "code",
   "execution_count": 37,
   "id": "48d69d5e-f57f-4c6f-9e27-0eba482d53f3",
   "metadata": {},
   "outputs": [
    {
     "name": "stdout",
     "output_type": "stream",
     "text": [
      "       title        | runtime |       language       \n",
      "--------------------+---------+----------------------\n",
      " AFRICAN EGG        |     130 | English             \n",
      " AGENT TRUMAN       |     169 | English             \n",
      " ALAMO VIDEOTAPE    |     126 | English             \n",
      " ALASKA PHANTOM     |     136 | English             \n",
      " ALI FOREVER        |     150 | English             \n",
      " ALLEY EVOLUTION    |     180 | English             \n",
      " AMERICAN CIRCUS    |     129 | English             \n",
      " ANALYZE HOOSIERS   |     181 | English             \n",
      " ANONYMOUS HUMAN    |     179 | English             \n",
      " ANTITRUST TOMATOES |     168 | English             \n",
      "(10 rows)\n",
      "\n"
     ]
    }
   ],
   "source": [
    "!psql -c \"SELECT title, length as runtime, name as language FROM pagila.film INNER JOIN pagila.language ON language.language_id = film.language_id WHERE length > 120 ORDER BY title LIMIT 10;\""
   ]
  },
  {
   "cell_type": "markdown",
   "id": "8806926f-9f8e-4bf5-98ae-165f14817eba",
   "metadata": {},
   "source": [
    "**OUTER JOINS**"
   ]
  },
  {
   "cell_type": "markdown",
   "id": "a657c49f-a1c5-4fb3-858b-9189e02237ee",
   "metadata": {},
   "source": [
    "**1. Getting all the DB addresses containing the letter M and showing only store ids.** \\\n",
    "*We join tables `address` (district, address) and `store` (store_id) via LEFT JOIN. So that, in the result we get ALL addresses and districts but only the addresses of the stores have an actual number in store_id. The rest of addresses with empty store_id do not belong to stores, they can belong to customers. We also filter the output addresses with WHERE clause - we have only addresses that have in their names words starting with the letter M. There are only 2 stores in this DB, and both have letter M in their address. The records for stores are listed first in ascending order as instructed by ORDER BY.*"
   ]
  },
  {
   "cell_type": "code",
   "execution_count": 38,
   "id": "448b3e88-4b7c-412d-a3bc-5e914a077705",
   "metadata": {},
   "outputs": [
    {
     "name": "stdout",
     "output_type": "stream",
     "text": [
      " store_id |   district   |            address             \n",
      "----------+--------------+--------------------------------\n",
      "        1 | Alberta      | 47 MySakila Drive\n",
      "        2 | QLD          | 28 MySQL Boulevard\n",
      "          | Gujarat      | 97 Mogiljov Lane\n",
      "          | Tamil Nadu   | 1675 Xiangfan Manor\n",
      "          | So Paulo     | 519 Nyeri Manor\n",
      "          | Tianjin      | 1760 Oshawa Manor\n",
      "          | Central Java | 544 Malm Parkway\n",
      "          | Shanxi       | 1158 Mandi Bahauddin Parkway\n",
      "          | Free State   | 898 Belm Manor\n",
      "          | Ondo & Ekiti | 1006 Santa Brbara dOeste Manor\n",
      "(10 rows)\n",
      "\n"
     ]
    }
   ],
   "source": [
    "!psql -c \"SELECT store_id, district, address FROM pagila.address LEFT JOIN pagila.store ON address.address_id = store.address_id WHERE address LIKE '% M%' ORDER BY store_id LIMIT 10;\"\n"
   ]
  },
  {
   "cell_type": "markdown",
   "id": "856f4d3e-9593-46fe-9a57-8951a75c40fb",
   "metadata": {},
   "source": [
    "**2. Getting ALL addresses in the DB which have a number 2 in their names and ALL staff names and ids** \\\n",
    "*Here we do a FULL JOIN between tables `address` and `staff` on address_id, WHERE the addresses have a number 2 in any position. Thus we see all the addresses with the above restraint and only names and ids for the staff whose addresses have number 2. We get only one such person who is listed in the first row because we ORDER BY staff_id.*"
   ]
  },
  {
   "cell_type": "code",
   "execution_count": 39,
   "id": "b69deb4b-d0ad-467e-9907-728d7f1614b7",
   "metadata": {},
   "outputs": [
    {
     "name": "stdout",
     "output_type": "stream",
     "text": [
      " staff_id | first_name | last_name |            address             \n",
      "----------+------------+-----------+--------------------------------\n",
      "        1 | Mike       | Hillyer   | 23 Workhaven Lane\n",
      "          |            |           | 262 A Corua (La Corua) Parkway\n",
      "          |            |           | 220 Hidalgo Drive\n",
      "          |            |           | 261 Saint Louis Way\n",
      "          |            |           | 226 Brest Manor\n",
      "          |            |           | 201 Effon-Alaiye Way\n",
      "          |            |           | 28 Charlotte Amalie Street\n",
      "          |            |           | 270 Amroha Parkway\n",
      "          |            |           | 226 Halifax Street\n",
      "          |            |           | 207 Cuernavaca Loop\n",
      "(10 rows)\n",
      "\n"
     ]
    }
   ],
   "source": [
    "!psql -c \"SELECT staff_id, first_name, last_name, address FROM pagila.address FULL JOIN pagila.staff ON address.address_id = staff.address_id WHERE address LIKE '2%' ORDER BY staff_id LIMIT 10;\"\n"
   ]
  },
  {
   "cell_type": "markdown",
   "id": "a3ea07ba-8078-44d5-a16e-281ddb93912c",
   "metadata": {},
   "source": [
    "**3. Getting ALL rental_id and rental_time in the DB for which Mike was the staff member** \\\n",
    "*Here we do a RIGHT JOIN between tables `staff` (first_name, last_name) and `rental` (rental_date, rental_id) on staff_id, WHERE the first_name is 'Mike' and ORDER BY rental_date in ascending order. With the above constraints we see all the times when Mike issued a rental. (There may be several different Mikes).*"
   ]
  },
  {
   "cell_type": "code",
   "execution_count": 40,
   "id": "4b120e41-641b-4214-a61c-51cf5f8fbb76",
   "metadata": {},
   "outputs": [
    {
     "name": "stdout",
     "output_type": "stream",
     "text": [
      " first_name | last_name |      rental_date       | rental_id \n",
      "------------+-----------+------------------------+-----------\n",
      " Mike       | Hillyer   | 2005-05-24 22:53:30+00 |         1\n",
      " Mike       | Hillyer   | 2005-05-24 22:54:33+00 |         2\n",
      " Mike       | Hillyer   | 2005-05-24 23:03:39+00 |         3\n",
      " Mike       | Hillyer   | 2005-05-24 23:05:21+00 |         5\n",
      " Mike       | Hillyer   | 2005-05-24 23:08:07+00 |         6\n",
      " Mike       | Hillyer   | 2005-05-25 00:00:40+00 |         9\n",
      " Mike       | Hillyer   | 2005-05-25 00:22:55+00 |        13\n",
      " Mike       | Hillyer   | 2005-05-25 00:31:15+00 |        14\n",
      " Mike       | Hillyer   | 2005-05-25 00:39:22+00 |        15\n",
      " Mike       | Hillyer   | 2005-05-25 01:06:36+00 |        17\n",
      "(10 rows)\n",
      "\n"
     ]
    }
   ],
   "source": [
    "!psql -c \"SELECT first_name, last_name, rental_date, rental_id FROM pagila.staff RIGHT JOIN pagila.rental ON staff.staff_id = rental.staff_id WHERE first_name = 'Mike' ORDER BY rental_date LIMIT 10;\"\n"
   ]
  },
  {
   "cell_type": "markdown",
   "id": "c131098b-88b2-4266-997e-3479b2266055",
   "metadata": {},
   "source": [
    "**4. Getting the film names for the actor James Pitt**\\\n",
    "*First we do the RIGHT JOIN between tables `film_actor` AND `actor` on actor_id and then INNER JOIN with `film` on film_id in order to get the actual film names for each actor name. The output is filtered by WHERE clause stating that the name is JAMES PITT. Finally, the result is ordered by film title in ascending order. We can see that James Pitt starred in 31 films which is consistent with the count shown in the inner join section above.*"
   ]
  },
  {
   "cell_type": "code",
   "execution_count": 41,
   "id": "5e0de281-a667-4972-ace3-eb133cef8853",
   "metadata": {},
   "outputs": [
    {
     "name": "stdout",
     "output_type": "stream",
     "text": [
      " first_name | last_name |         title         \n",
      "------------+-----------+-----------------------\n",
      " JAMES      | PITT      | AMADEUS HOLY\n",
      " JAMES      | PITT      | ARMAGEDDON LOST\n",
      " JAMES      | PITT      | AUTUMN CROW\n",
      " JAMES      | PITT      | CONFUSED CANDLES\n",
      " JAMES      | PITT      | DOCTOR GRAIL\n",
      " JAMES      | PITT      | ENCINO ELF\n",
      " JAMES      | PITT      | EVERYONE CRAFT\n",
      " JAMES      | PITT      | FIDDLER LOST\n",
      " JAMES      | PITT      | FIREBALL PHILADELPHIA\n",
      " JAMES      | PITT      | HEDWIG ALTER\n",
      " JAMES      | PITT      | HELLFIGHTERS SIERRA\n",
      " JAMES      | PITT      | INNOCENT USUAL\n",
      " JAMES      | PITT      | JEDI BENEATH\n",
      " JAMES      | PITT      | JUMPING WRATH\n",
      " JAMES      | PITT      | LONELY ELEPHANT\n",
      " JAMES      | PITT      | LUCKY FLYING\n",
      " JAMES      | PITT      | MAUDE MOD\n",
      " JAMES      | PITT      | MIDNIGHT WESTWARD\n",
      " JAMES      | PITT      | MODERN DORADO\n",
      " JAMES      | PITT      | NATIONAL STORY\n",
      " JAMES      | PITT      | OUTBREAK DIVINE\n",
      " JAMES      | PITT      | PUNK DIVORCE\n",
      " JAMES      | PITT      | RIDER CADDYSHACK\n",
      " JAMES      | PITT      | SATURDAY LAMBS\n",
      " JAMES      | PITT      | SHAKESPEARE SADDLE\n",
      " JAMES      | PITT      | SLIPPER FIDELITY\n",
      " JAMES      | PITT      | SPIRIT FLINTSTONES\n",
      " JAMES      | PITT      | STEEL SANTA\n",
      " JAMES      | PITT      | THIEF PELICAN\n",
      " JAMES      | PITT      | WILLOW TRACY\n",
      " JAMES      | PITT      | YOUNG LANGUAGE\n",
      "(31 rows)\n",
      "\n"
     ]
    }
   ],
   "source": [
    "!psql -c \"SELECT first_name, last_name, title FROM pagila.film_actor fa RIGHT JOIN pagila.actor a ON a.actor_id = fa.actor_id INNER JOIN pagila.film f ON fa.film_id=f.film_id WHERE last_name = 'PITT' AND first_name = 'JAMES' ORDER BY title;\""
   ]
  },
  {
   "cell_type": "markdown",
   "id": "2fbf61c1-04fd-4645-bc33-550d0cc1d450",
   "metadata": {},
   "source": [
    "**SELF JOIN**"
   ]
  },
  {
   "cell_type": "markdown",
   "id": "d8741f53-4f1b-4d7c-8c18-65a67eacded1",
   "metadata": {},
   "source": [
    "**All pairs of non-identical cities in Ukraine, country_id = 100**\\\n",
    "*Here we do a self JOIN with table `city` on country_id and where the city names were not equal, WHERE country_id = 100 (Ukraine). We are listing a pair of such cities in each row. We see the cartesian product of all possible pairs of such cities ORDERed BY city1 name in asscending order.*"
   ]
  },
  {
   "cell_type": "code",
   "execution_count": 42,
   "id": "9b2b302a-6ea1-4b9b-bdec-d3560badbca5",
   "metadata": {},
   "outputs": [
    {
     "name": "stdout",
     "output_type": "stream",
     "text": [
      "        city1        |        city2        | country_id \n",
      "---------------------+---------------------+------------\n",
      " Kamjanets-Podilskyi | Simferopol          |        100\n",
      " Kamjanets-Podilskyi | Konotop             |        100\n",
      " Kamjanets-Podilskyi | Sumy                |        100\n",
      " Kamjanets-Podilskyi | Mukateve            |        100\n",
      " Kamjanets-Podilskyi | ostka               |        100\n",
      " Konotop             | Mukateve            |        100\n",
      " Konotop             | Sumy                |        100\n",
      " Konotop             | Simferopol          |        100\n",
      " Konotop             | ostka               |        100\n",
      " Konotop             | Kamjanets-Podilskyi |        100\n",
      "(10 rows)\n",
      "\n"
     ]
    }
   ],
   "source": [
    "!psql -c \"SELECT a.city city1, b.city city2, a.country_id FROM pagila.city a JOIN pagila.city b ON a.city != b.city AND a.country_id = b.country_id WHERE a.country_id = 100 OR b.country_id = 100 ORDER BY a.city LIMIT 10\""
   ]
  }
 ],
 "metadata": {
  "environment": {
   "kernel": "python3",
   "name": "common-cpu.m103",
   "type": "gcloud",
   "uri": "gcr.io/deeplearning-platform-release/base-cpu:m103"
  },
  "kernelspec": {
   "display_name": "Python 3",
   "language": "python",
   "name": "python3"
  },
  "language_info": {
   "codemirror_mode": {
    "name": "ipython",
    "version": 3
   },
   "file_extension": ".py",
   "mimetype": "text/x-python",
   "name": "python",
   "nbconvert_exporter": "python",
   "pygments_lexer": "ipython3",
   "version": "3.7.12"
  }
 },
 "nbformat": 4,
 "nbformat_minor": 5
}
