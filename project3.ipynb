{
 "cells": [
  {
   "cell_type": "markdown",
   "metadata": {},
   "source": [
    "### Starter code for Project 3. \n",
    "#### Run these cells before starting the assignment. "
   ]
  },
  {
   "cell_type": "markdown",
   "metadata": {},
   "source": [
    "#### 1. create BQ dataset:"
   ]
  },
  {
   "cell_type": "code",
   "execution_count": 1,
   "metadata": {},
   "outputs": [
    {
     "name": "stdout",
     "output_type": "stream",
     "text": [
      "env: dataset_id=school_enrollments\n"
     ]
    }
   ],
   "source": [
    "%env dataset_id=school_enrollments"
   ]
  },
  {
   "cell_type": "code",
   "execution_count": 2,
   "metadata": {},
   "outputs": [
    {
     "name": "stdout",
     "output_type": "stream",
     "text": [
      "BigQuery error in mk operation: Dataset 'f-375123:school_enrollments' already\n",
      "exists.\n"
     ]
    }
   ],
   "source": [
    "!bq --location=US mk --dataset $dataset_id"
   ]
  },
  {
   "cell_type": "markdown",
   "metadata": {},
   "source": [
    "#### 2. create and populate BQ tables:"
   ]
  },
  {
   "cell_type": "code",
   "execution_count": 3,
   "metadata": {},
   "outputs": [],
   "source": [
    "import os"
   ]
  },
  {
   "cell_type": "code",
   "execution_count": 4,
   "metadata": {},
   "outputs": [
    {
     "name": "stdout",
     "output_type": "stream",
     "text": [
      "bq --location=US load --autodetect --skip_leading_rows=1 --source_format=CSV school_enrollments.ak gs://cs327e-open-access-2/school-enrollments/zf406jp4427_ak.csv\n",
      "\n"
     ]
    },
    {
     "name": "stderr",
     "output_type": "stream",
     "text": [
      "Waiting on bqjob_r14ed3bf824b65cb7_00000186bf29f8c1_1 ... (2s) Current status: DONE   \n"
     ]
    },
    {
     "name": "stdout",
     "output_type": "stream",
     "text": [
      "bq --location=US load --autodetect --skip_leading_rows=1 --source_format=CSV school_enrollments.ar gs://cs327e-open-access-2/school-enrollments/zf406jp4427_ar.csv\n",
      "\n"
     ]
    },
    {
     "name": "stderr",
     "output_type": "stream",
     "text": [
      "Waiting on bqjob_r5ce3c26dcbb047bf_00000186bf2a0bf8_1 ... (4s) Current status: DONE   \n"
     ]
    },
    {
     "name": "stdout",
     "output_type": "stream",
     "text": [
      "bq --location=US load --autodetect --skip_leading_rows=1 --source_format=CSV school_enrollments.ca gs://cs327e-open-access-2/school-enrollments/zf406jp4427_ca.csv\n",
      "\n"
     ]
    },
    {
     "name": "stderr",
     "output_type": "stream",
     "text": [
      "Waiting on bqjob_r1e9b3a4ea5875214_00000186bf2a27c3_1 ... (9s) Current status: DONE   \n"
     ]
    },
    {
     "name": "stdout",
     "output_type": "stream",
     "text": [
      "skipping co\n",
      "bq --location=US load --autodetect --skip_leading_rows=1 --source_format=CSV school_enrollments.ct gs://cs327e-open-access-2/school-enrollments/zf406jp4427_ct.csv\n",
      "\n"
     ]
    },
    {
     "name": "stderr",
     "output_type": "stream",
     "text": [
      "Waiting on bqjob_r13cbb482bcd73f98_00000186bf2a5b9a_1 ... (2s) Current status: DONE   \n"
     ]
    },
    {
     "name": "stdout",
     "output_type": "stream",
     "text": [
      "skipping district\n",
      "skipping fl\n",
      "skipping ga\n",
      "bq --location=US load --autodetect --skip_leading_rows=1 --source_format=CSV school_enrollments.hi gs://cs327e-open-access-2/school-enrollments/zf406jp4427_hi.csv\n",
      "\n"
     ]
    },
    {
     "name": "stderr",
     "output_type": "stream",
     "text": [
      "Waiting on bqjob_rfb054d951754472_00000186bf2a6f24_1 ... (2s) Current status: DONE   \n"
     ]
    },
    {
     "name": "stdout",
     "output_type": "stream",
     "text": [
      "skipping id\n",
      "bq --location=US load --autodetect --skip_leading_rows=1 --source_format=CSV school_enrollments.la gs://cs327e-open-access-2/school-enrollments/zf406jp4427_la.csv\n",
      "\n"
     ]
    },
    {
     "name": "stderr",
     "output_type": "stream",
     "text": [
      "Waiting on bqjob_r291989c87c40653b_00000186bf2a822c_1 ... (4s) Current status: DONE   \n"
     ]
    },
    {
     "name": "stdout",
     "output_type": "stream",
     "text": [
      "skipping ma\n",
      "bq --location=US load --autodetect --skip_leading_rows=1 --source_format=CSV school_enrollments.md gs://cs327e-open-access-2/school-enrollments/zf406jp4427_md.csv\n",
      "\n"
     ]
    },
    {
     "name": "stderr",
     "output_type": "stream",
     "text": [
      "Waiting on bqjob_rd23d5469654e038_00000186bf2a9dd1_1 ... (2s) Current status: DONE   \n"
     ]
    },
    {
     "name": "stdout",
     "output_type": "stream",
     "text": [
      "bq --location=US load --autodetect --skip_leading_rows=1 --source_format=CSV school_enrollments.mn gs://cs327e-open-access-2/school-enrollments/zf406jp4427_mn.csv\n",
      "\n"
     ]
    },
    {
     "name": "stderr",
     "output_type": "stream",
     "text": [
      "Waiting on bqjob_r6a1aac2b18e478dd_00000186bf2ab0da_1 ... (5s) Current status: DONE   \n"
     ]
    },
    {
     "name": "stdout",
     "output_type": "stream",
     "text": [
      "skipping mo\n",
      "bq --location=US load --autodetect --skip_leading_rows=1 --source_format=CSV school_enrollments.ms gs://cs327e-open-access-2/school-enrollments/zf406jp4427_ms.csv\n",
      "\n"
     ]
    },
    {
     "name": "stderr",
     "output_type": "stream",
     "text": [
      "Waiting on bqjob_r4a4a9dbcbf69a033_00000186bf2ad083_1 ... (2s) Current status: DONE   \n"
     ]
    },
    {
     "name": "stdout",
     "output_type": "stream",
     "text": [
      "skipping ne\n",
      "bq --location=US load --autodetect --skip_leading_rows=1 --source_format=CSV school_enrollments.nh gs://cs327e-open-access-2/school-enrollments/zf406jp4427_nh.csv\n",
      "\n"
     ]
    },
    {
     "name": "stderr",
     "output_type": "stream",
     "text": [
      "Waiting on bqjob_r364d7e103b5b2848_00000186bf2ae3b8_1 ... (2s) Current status: DONE   \n"
     ]
    },
    {
     "name": "stdout",
     "output_type": "stream",
     "text": [
      "bq --location=US load --autodetect --skip_leading_rows=1 --source_format=CSV school_enrollments.nv gs://cs327e-open-access-2/school-enrollments/zf406jp4427_nv.csv\n",
      "\n"
     ]
    },
    {
     "name": "stderr",
     "output_type": "stream",
     "text": [
      "Waiting on bqjob_r1ccb0341472b978e_00000186bf2af6ce_1 ... (2s) Current status: DONE   \n"
     ]
    },
    {
     "name": "stdout",
     "output_type": "stream",
     "text": [
      "skipping ny\n",
      "bq --location=US load --autodetect --skip_leading_rows=1 --source_format=CSV school_enrollments.ok gs://cs327e-open-access-2/school-enrollments/zf406jp4427_ok.csv\n",
      "\n"
     ]
    },
    {
     "name": "stderr",
     "output_type": "stream",
     "text": [
      "Waiting on bqjob_r3ee68b91fa8a3d74_00000186bf2b09e5_1 ... (3s) Current status: DONE   \n"
     ]
    },
    {
     "name": "stdout",
     "output_type": "stream",
     "text": [
      "skipping or\n",
      "bq --location=US load --autodetect --skip_leading_rows=1 --source_format=CSV school_enrollments.pa gs://cs327e-open-access-2/school-enrollments/zf406jp4427_pa.csv\n",
      "\n"
     ]
    },
    {
     "name": "stderr",
     "output_type": "stream",
     "text": [
      "Waiting on bqjob_r41f70210f48c2802_00000186bf2b21ce_1 ... (5s) Current status: DONE   \n"
     ]
    },
    {
     "name": "stdout",
     "output_type": "stream",
     "text": [
      "bq --location=US load --autodetect --skip_leading_rows=1 --source_format=CSV school_enrollments.sc gs://cs327e-open-access-2/school-enrollments/zf406jp4427_sc.csv\n",
      "\n"
     ]
    },
    {
     "name": "stderr",
     "output_type": "stream",
     "text": [
      "Waiting on bqjob_r35f1c0a31168befc_00000186bf2b44be_1 ... (2s) Current status: DONE   \n"
     ]
    },
    {
     "name": "stdout",
     "output_type": "stream",
     "text": [
      "skipping school\n",
      "skipping sd\n",
      "bq --location=US load --autodetect --skip_leading_rows=1 --source_format=CSV school_enrollments.tx gs://cs327e-open-access-2/school-enrollments/zf406jp4427_tx.csv\n",
      "\n"
     ]
    },
    {
     "name": "stderr",
     "output_type": "stream",
     "text": [
      "Waiting on bqjob_rb8a525cb8329e0e_00000186bf2b57b5_1 ... (4s) Current status: DONE   \n"
     ]
    },
    {
     "name": "stdout",
     "output_type": "stream",
     "text": [
      "bq --location=US load --autodetect --skip_leading_rows=1 --source_format=CSV school_enrollments.wa gs://cs327e-open-access-2/school-enrollments/zf406jp4427_wa.csv\n",
      "\n"
     ]
    },
    {
     "name": "stderr",
     "output_type": "stream",
     "text": [
      "Waiting on bqjob_r3fec3288c41966eb_00000186bf2b72c3_1 ... (5s) Current status: DONE   \n"
     ]
    },
    {
     "name": "stdout",
     "output_type": "stream",
     "text": [
      "skipping wi\n",
      "bq --location=US load --autodetect --skip_leading_rows=1 --source_format=CSV school_enrollments.wy gs://cs327e-open-access-2/school-enrollments/zf406jp4427_wy.csv\n",
      "\n"
     ]
    },
    {
     "name": "stderr",
     "output_type": "stream",
     "text": [
      "Waiting on bqjob_r7638ecee85692fab_00000186bf2b9234_1 ... (2s) Current status: DONE   \n"
     ]
    }
   ],
   "source": [
    "gsutil_cmd = \"gsutil ls gs://cs327e-open-access-2/school-enrollments/*\"\n",
    "file_listings = os.popen(gsutil_cmd)\n",
    "dataset=\"school_enrollments\"\n",
    "\n",
    "for file in file_listings:\n",
    "\n",
    "    start_index = file.rindex(\"_\") + 1\n",
    "    end_index = file.rindex(\".\")\n",
    "    table = file[start_index:end_index]\n",
    "    \n",
    "    if table in (\"co\", \"district\", \"fl\", \"ga\", \"id\", \"ma\", \"mo\", \"ne\", \"ny\", \"or\", \"school\", \"sd\", \"wi\"):\n",
    "        print(\"skipping \" + table)\n",
    "        continue\n",
    "\n",
    "    bq_cmd = \"bq --location=US load --autodetect --skip_leading_rows=1 \"\\\n",
    "             \"--source_format=CSV \" + dataset + \".\" + table + ' ' + file\n",
    "    print(bq_cmd)\n",
    "    \n",
    "    os.system(bq_cmd)"
   ]
  },
  {
   "cell_type": "markdown",
   "metadata": {},
   "source": [
    "#### 3. Find school enrollments by school name, grade level, and year for Texas "
   ]
  },
  {
   "cell_type": "code",
   "execution_count": 5,
   "metadata": {},
   "outputs": [
    {
     "name": "stdout",
     "output_type": "stream",
     "text": [
      "[{\"name\":\"state\",\"type\":\"STRING\",\"mode\":\"NULLABLE\"},{\"name\":\"county\",\"type\":\"STRING\",\"mode\":\"NULLABLE\"},{\"name\":\"county_state_id\",\"type\":\"STRING\",\"mode\":\"NULLABLE\"},{\"name\":\"admin_level\",\"type\":\"STRING\",\"mode\":\"NULLABLE\"},{\"name\":\"district_nces_id\",\"type\":\"INTEGER\",\"mode\":\"NULLABLE\"},{\"name\":\"district_state_id\",\"type\":\"INTEGER\",\"mode\":\"NULLABLE\"},{\"name\":\"district_state_type\",\"type\":\"STRING\",\"mode\":\"NULLABLE\"},{\"name\":\"district\",\"type\":\"STRING\",\"mode\":\"NULLABLE\"},{\"name\":\"ccd_district_type\",\"type\":\"STRING\",\"mode\":\"NULLABLE\"},{\"name\":\"ccd_charter\",\"type\":\"STRING\",\"mode\":\"NULLABLE\"},{\"name\":\"ccd_district_lvl\",\"type\":\"STRING\",\"mode\":\"NULLABLE\"},{\"name\":\"ccd_district_low_grade\",\"type\":\"STRING\",\"mode\":\"NULLABLE\"},{\"name\":\"ccd_district_high_grade\",\"type\":\"STRING\",\"mode\":\"NULLABLE\"},{\"name\":\"school_nces_id\",\"type\":\"INTEGER\",\"mode\":\"NULLABLE\"},{\"name\":\"school_state_id\",\"type\":\"FLOAT\",\"mode\":\"NULLABLE\"},{\"name\":\"school\",\"type\":\"STRING\",\"mode\":\"NULLABLE\"},{\"name\":\"school_state_type\",\"type\":\"STRING\",\"mode\":\"NULLABLE\"},{\"name\":\"ccd_school_type\",\"type\":\"STRING\",\"mode\":\"NULLABLE\"},{\"name\":\"ccd_charter_school\",\"type\":\"BOOLEAN\",\"mode\":\"NULLABLE\"},{\"name\":\"ccd_school_lvl\",\"type\":\"STRING\",\"mode\":\"NULLABLE\"},{\"name\":\"ccd_school_low_grade\",\"type\":\"STRING\",\"mode\":\"NULLABLE\"},{\"name\":\"ccd_school_high_grade\",\"type\":\"STRING\",\"mode\":\"NULLABLE\"},{\"name\":\"year\",\"type\":\"INTEGER\",\"mode\":\"NULLABLE\"},{\"name\":\"term\",\"type\":\"STRING\",\"mode\":\"NULLABLE\"},{\"name\":\"grade\",\"type\":\"STRING\",\"mode\":\"NULLABLE\"},{\"name\":\"white\",\"type\":\"STRING\",\"mode\":\"NULLABLE\"},{\"name\":\"black\",\"type\":\"STRING\",\"mode\":\"NULLABLE\"},{\"name\":\"hispanic\",\"type\":\"STRING\",\"mode\":\"NULLABLE\"},{\"name\":\"native_american\",\"type\":\"STRING\",\"mode\":\"NULLABLE\"},{\"name\":\"native_american_alaskan_native\",\"type\":\"STRING\",\"mode\":\"NULLABLE\"},{\"name\":\"asian\",\"type\":\"STRING\",\"mode\":\"NULLABLE\"},{\"name\":\"native_hawaiian\",\"type\":\"STRING\",\"mode\":\"NULLABLE\"},{\"name\":\"asian_pacific_islander\",\"type\":\"STRING\",\"mode\":\"NULLABLE\"},{\"name\":\"native_hawaiian_pacific_islander\",\"type\":\"STRING\",\"mode\":\"NULLABLE\"},{\"name\":\"pacific_islander\",\"type\":\"STRING\",\"mode\":\"NULLABLE\"},{\"name\":\"multiracial\",\"type\":\"STRING\",\"mode\":\"NULLABLE\"},{\"name\":\"unknown_race\",\"type\":\"STRING\",\"mode\":\"NULLABLE\"},{\"name\":\"male\",\"type\":\"STRING\",\"mode\":\"NULLABLE\"},{\"name\":\"female\",\"type\":\"STRING\",\"mode\":\"NULLABLE\"},{\"name\":\"non_binary\",\"type\":\"STRING\",\"mode\":\"NULLABLE\"},{\"name\":\"unknown_gender\",\"type\":\"STRING\",\"mode\":\"NULLABLE\"},{\"name\":\"ell\",\"type\":\"STRING\",\"mode\":\"NULLABLE\"},{\"name\":\"ell_percent\",\"type\":\"STRING\",\"mode\":\"NULLABLE\"},{\"name\":\"homeless\",\"type\":\"STRING\",\"mode\":\"NULLABLE\"},{\"name\":\"homeless_percent\",\"type\":\"STRING\",\"mode\":\"NULLABLE\"},{\"name\":\"low_income\",\"type\":\"STRING\",\"mode\":\"NULLABLE\"},{\"name\":\"free_and_reduced\",\"type\":\"STRING\",\"mode\":\"NULLABLE\"},{\"name\":\"free_and_reduced_percent\",\"type\":\"STRING\",\"mode\":\"NULLABLE\"},{\"name\":\"disability\",\"type\":\"STRING\",\"mode\":\"NULLABLE\"},{\"name\":\"section_504\",\"type\":\"STRING\",\"mode\":\"NULLABLE\"},{\"name\":\"total\",\"type\":\"STRING\",\"mode\":\"NULLABLE\"}]\n"
     ]
    }
   ],
   "source": [
    "!bq show --schema=true $dataset_id.tx"
   ]
  },
  {
   "cell_type": "markdown",
   "metadata": {},
   "source": [
    "#### Note: STRING type for \"total\" column"
   ]
  },
  {
   "cell_type": "code",
   "execution_count": 6,
   "metadata": {},
   "outputs": [
    {
     "data": {
      "application/vnd.jupyter.widget-view+json": {
       "model_id": "16d4a70c8ddf452eb673ff01d4eeda2a",
       "version_major": 2,
       "version_minor": 0
      },
      "text/plain": [
       "Query is running:   0%|          |"
      ]
     },
     "metadata": {},
     "output_type": "display_data"
    },
    {
     "data": {
      "application/vnd.jupyter.widget-view+json": {
       "model_id": "290077be81f64336be1b8e321293f5a3",
       "version_major": 2,
       "version_minor": 0
      },
      "text/plain": [
       "Downloading:   0%|          |"
      ]
     },
     "metadata": {},
     "output_type": "display_data"
    },
    {
     "data": {
      "text/html": [
       "<div>\n",
       "<style scoped>\n",
       "    .dataframe tbody tr th:only-of-type {\n",
       "        vertical-align: middle;\n",
       "    }\n",
       "\n",
       "    .dataframe tbody tr th {\n",
       "        vertical-align: top;\n",
       "    }\n",
       "\n",
       "    .dataframe thead th {\n",
       "        text-align: right;\n",
       "    }\n",
       "</style>\n",
       "<table border=\"1\" class=\"dataframe\">\n",
       "  <thead>\n",
       "    <tr style=\"text-align: right;\">\n",
       "      <th></th>\n",
       "      <th>district</th>\n",
       "      <th>school</th>\n",
       "      <th>grade</th>\n",
       "      <th>year</th>\n",
       "      <th>total</th>\n",
       "    </tr>\n",
       "  </thead>\n",
       "  <tbody>\n",
       "    <tr>\n",
       "      <th>0</th>\n",
       "      <td>AUSTIN ACHIEVE PUBLIC SCHOOLS</td>\n",
       "      <td>AUSTIN ACHIEVE EL</td>\n",
       "      <td>grade_1</td>\n",
       "      <td>2020</td>\n",
       "      <td>456</td>\n",
       "    </tr>\n",
       "    <tr>\n",
       "      <th>1</th>\n",
       "      <td>AUSTIN ACHIEVE PUBLIC SCHOOLS</td>\n",
       "      <td>AUSTIN ACHIEVE EL</td>\n",
       "      <td>grade_1</td>\n",
       "      <td>2021</td>\n",
       "      <td>448</td>\n",
       "    </tr>\n",
       "    <tr>\n",
       "      <th>2</th>\n",
       "      <td>AUSTIN ACHIEVE PUBLIC SCHOOLS</td>\n",
       "      <td>AUSTIN ACHIEVE EL</td>\n",
       "      <td>grade_2</td>\n",
       "      <td>2020</td>\n",
       "      <td>448</td>\n",
       "    </tr>\n",
       "    <tr>\n",
       "      <th>3</th>\n",
       "      <td>AUSTIN ACHIEVE PUBLIC SCHOOLS</td>\n",
       "      <td>AUSTIN ACHIEVE EL</td>\n",
       "      <td>grade_2</td>\n",
       "      <td>2021</td>\n",
       "      <td>556</td>\n",
       "    </tr>\n",
       "    <tr>\n",
       "      <th>4</th>\n",
       "      <td>AUSTIN ACHIEVE PUBLIC SCHOOLS</td>\n",
       "      <td>AUSTIN ACHIEVE EL</td>\n",
       "      <td>grade_3</td>\n",
       "      <td>2020</td>\n",
       "      <td>520</td>\n",
       "    </tr>\n",
       "    <tr>\n",
       "      <th>...</th>\n",
       "      <td>...</td>\n",
       "      <td>...</td>\n",
       "      <td>...</td>\n",
       "      <td>...</td>\n",
       "      <td>...</td>\n",
       "    </tr>\n",
       "    <tr>\n",
       "      <th>1734</th>\n",
       "      <td>UNIVERSITY OF TEXAS AT AUSTIN H S</td>\n",
       "      <td>UNIVERSITY OF TEXAS AT AUSTIN H S</td>\n",
       "      <td>grade_11</td>\n",
       "      <td>2021</td>\n",
       "      <td>328</td>\n",
       "    </tr>\n",
       "    <tr>\n",
       "      <th>1735</th>\n",
       "      <td>UNIVERSITY OF TEXAS AT AUSTIN H S</td>\n",
       "      <td>UNIVERSITY OF TEXAS AT AUSTIN H S</td>\n",
       "      <td>grade_12</td>\n",
       "      <td>2020</td>\n",
       "      <td>388</td>\n",
       "    </tr>\n",
       "    <tr>\n",
       "      <th>1736</th>\n",
       "      <td>UNIVERSITY OF TEXAS AT AUSTIN H S</td>\n",
       "      <td>UNIVERSITY OF TEXAS AT AUSTIN H S</td>\n",
       "      <td>grade_12</td>\n",
       "      <td>2021</td>\n",
       "      <td>348</td>\n",
       "    </tr>\n",
       "    <tr>\n",
       "      <th>1737</th>\n",
       "      <td>UNIVERSITY OF TEXAS AT AUSTIN H S</td>\n",
       "      <td>UNIVERSITY OF TEXAS AT AUSTIN H S</td>\n",
       "      <td>grade_9</td>\n",
       "      <td>2020</td>\n",
       "      <td>132</td>\n",
       "    </tr>\n",
       "    <tr>\n",
       "      <th>1738</th>\n",
       "      <td>UNIVERSITY OF TEXAS AT AUSTIN H S</td>\n",
       "      <td>UNIVERSITY OF TEXAS AT AUSTIN H S</td>\n",
       "      <td>grade_9</td>\n",
       "      <td>2021</td>\n",
       "      <td>180</td>\n",
       "    </tr>\n",
       "  </tbody>\n",
       "</table>\n",
       "<p>1739 rows × 5 columns</p>\n",
       "</div>"
      ],
      "text/plain": [
       "                               district                             school  \\\n",
       "0         AUSTIN ACHIEVE PUBLIC SCHOOLS                  AUSTIN ACHIEVE EL   \n",
       "1         AUSTIN ACHIEVE PUBLIC SCHOOLS                  AUSTIN ACHIEVE EL   \n",
       "2         AUSTIN ACHIEVE PUBLIC SCHOOLS                  AUSTIN ACHIEVE EL   \n",
       "3         AUSTIN ACHIEVE PUBLIC SCHOOLS                  AUSTIN ACHIEVE EL   \n",
       "4         AUSTIN ACHIEVE PUBLIC SCHOOLS                  AUSTIN ACHIEVE EL   \n",
       "...                                 ...                                ...   \n",
       "1734  UNIVERSITY OF TEXAS AT AUSTIN H S  UNIVERSITY OF TEXAS AT AUSTIN H S   \n",
       "1735  UNIVERSITY OF TEXAS AT AUSTIN H S  UNIVERSITY OF TEXAS AT AUSTIN H S   \n",
       "1736  UNIVERSITY OF TEXAS AT AUSTIN H S  UNIVERSITY OF TEXAS AT AUSTIN H S   \n",
       "1737  UNIVERSITY OF TEXAS AT AUSTIN H S  UNIVERSITY OF TEXAS AT AUSTIN H S   \n",
       "1738  UNIVERSITY OF TEXAS AT AUSTIN H S  UNIVERSITY OF TEXAS AT AUSTIN H S   \n",
       "\n",
       "         grade  year  total  \n",
       "0      grade_1  2020    456  \n",
       "1      grade_1  2021    448  \n",
       "2      grade_2  2020    448  \n",
       "3      grade_2  2021    556  \n",
       "4      grade_3  2020    520  \n",
       "...        ...   ...    ...  \n",
       "1734  grade_11  2021    328  \n",
       "1735  grade_12  2020    388  \n",
       "1736  grade_12  2021    348  \n",
       "1737   grade_9  2020    132  \n",
       "1738   grade_9  2021    180  \n",
       "\n",
       "[1739 rows x 5 columns]"
      ]
     },
     "execution_count": 6,
     "metadata": {},
     "output_type": "execute_result"
    }
   ],
   "source": [
    "%%bigquery\n",
    "select district, school, grade, year, sum(cast(replace(replace(total, \",\", \"\"), \"<\", \"\") as int64)) as total\n",
    "from school_enrollments.tx\n",
    "where total != \"\" and school != \"\" and district like '%AUSTIN%'\n",
    "group by district, school, grade, year\n",
    "order by district, school, grade, year"
   ]
  },
  {
   "cell_type": "markdown",
   "metadata": {},
   "source": [
    "##### Documentation on BQ's string functions: https://cloud.google.com/bigquery/docs/reference/standard-sql/string_functions"
   ]
  },
  {
   "cell_type": "code",
   "execution_count": 7,
   "metadata": {},
   "outputs": [
    {
     "name": "stdout",
     "output_type": "stream",
     "text": [
      "BigQuery error in mk operation: Dataset 'f-375123:views' already exists.\n"
     ]
    }
   ],
   "source": [
    "!bq --location=US mk --dataset \"views\""
   ]
  },
  {
   "cell_type": "code",
   "execution_count": 8,
   "metadata": {},
   "outputs": [
    {
     "name": "stdout",
     "output_type": "stream",
     "text": [
      "Executing query with job ID: 5c21d186-ecdc-48c6-8956-295e08b31d58\n",
      "Query executing: 0.38s"
     ]
    },
    {
     "name": "stderr",
     "output_type": "stream",
     "text": [
      "\n",
      "ERROR:\n",
      " 409 Already Exists: Table f-375123:views.austin_enrollments_by_school_grade_year\n",
      "\n",
      "Location: US\n",
      "Job ID: 5c21d186-ecdc-48c6-8956-295e08b31d58\n",
      "\n"
     ]
    }
   ],
   "source": [
    "%%bigquery\n",
    "create view views.austin_enrollments_by_school_grade_year as\n",
    "select district, school, grade, year, sum(cast(replace(replace(total, \",\", \"\"), \"<\", \"\") as int64)) as total\n",
    "from school_enrollments.tx\n",
    "where total != \"\" and school != \"\" and district like '%AUSTIN%'\n",
    "group by district, school, grade, year\n",
    "order by district, school, grade, year"
   ]
  },
  {
   "cell_type": "code",
   "execution_count": 9,
   "metadata": {},
   "outputs": [
    {
     "data": {
      "application/vnd.jupyter.widget-view+json": {
       "model_id": "5ac5cb8889ed490c809f8bd9d45c4b65",
       "version_major": 2,
       "version_minor": 0
      },
      "text/plain": [
       "Query is running:   0%|          |"
      ]
     },
     "metadata": {},
     "output_type": "display_data"
    },
    {
     "data": {
      "application/vnd.jupyter.widget-view+json": {
       "model_id": "10a2bb53bb6447d7aad0c41223718ed2",
       "version_major": 2,
       "version_minor": 0
      },
      "text/plain": [
       "Downloading:   0%|          |"
      ]
     },
     "metadata": {},
     "output_type": "display_data"
    },
    {
     "data": {
      "text/html": [
       "<div>\n",
       "<style scoped>\n",
       "    .dataframe tbody tr th:only-of-type {\n",
       "        vertical-align: middle;\n",
       "    }\n",
       "\n",
       "    .dataframe tbody tr th {\n",
       "        vertical-align: top;\n",
       "    }\n",
       "\n",
       "    .dataframe thead th {\n",
       "        text-align: right;\n",
       "    }\n",
       "</style>\n",
       "<table border=\"1\" class=\"dataframe\">\n",
       "  <thead>\n",
       "    <tr style=\"text-align: right;\">\n",
       "      <th></th>\n",
       "      <th>school</th>\n",
       "      <th>grade</th>\n",
       "      <th>year</th>\n",
       "      <th>total</th>\n",
       "    </tr>\n",
       "  </thead>\n",
       "  <tbody>\n",
       "    <tr>\n",
       "      <th>0</th>\n",
       "      <td>AKINS H S</td>\n",
       "      <td>grade_10</td>\n",
       "      <td>2020</td>\n",
       "      <td>2880</td>\n",
       "    </tr>\n",
       "    <tr>\n",
       "      <th>1</th>\n",
       "      <td>AKINS H S</td>\n",
       "      <td>grade_10</td>\n",
       "      <td>2021</td>\n",
       "      <td>2988</td>\n",
       "    </tr>\n",
       "    <tr>\n",
       "      <th>2</th>\n",
       "      <td>AKINS H S</td>\n",
       "      <td>grade_11</td>\n",
       "      <td>2020</td>\n",
       "      <td>2656</td>\n",
       "    </tr>\n",
       "    <tr>\n",
       "      <th>3</th>\n",
       "      <td>AKINS H S</td>\n",
       "      <td>grade_11</td>\n",
       "      <td>2021</td>\n",
       "      <td>2652</td>\n",
       "    </tr>\n",
       "    <tr>\n",
       "      <th>4</th>\n",
       "      <td>AKINS H S</td>\n",
       "      <td>grade_12</td>\n",
       "      <td>2020</td>\n",
       "      <td>2436</td>\n",
       "    </tr>\n",
       "    <tr>\n",
       "      <th>...</th>\n",
       "      <td>...</td>\n",
       "      <td>...</td>\n",
       "      <td>...</td>\n",
       "      <td>...</td>\n",
       "    </tr>\n",
       "    <tr>\n",
       "      <th>1734</th>\n",
       "      <td>ZILKER EL</td>\n",
       "      <td>grade_5</td>\n",
       "      <td>2021</td>\n",
       "      <td>276</td>\n",
       "    </tr>\n",
       "    <tr>\n",
       "      <th>1735</th>\n",
       "      <td>ZILKER EL</td>\n",
       "      <td>kindergarten</td>\n",
       "      <td>2020</td>\n",
       "      <td>308</td>\n",
       "    </tr>\n",
       "    <tr>\n",
       "      <th>1736</th>\n",
       "      <td>ZILKER EL</td>\n",
       "      <td>kindergarten</td>\n",
       "      <td>2021</td>\n",
       "      <td>252</td>\n",
       "    </tr>\n",
       "    <tr>\n",
       "      <th>1737</th>\n",
       "      <td>ZILKER EL</td>\n",
       "      <td>pre_kindergarten</td>\n",
       "      <td>2020</td>\n",
       "      <td>120</td>\n",
       "    </tr>\n",
       "    <tr>\n",
       "      <th>1738</th>\n",
       "      <td>ZILKER EL</td>\n",
       "      <td>pre_kindergarten</td>\n",
       "      <td>2021</td>\n",
       "      <td>52</td>\n",
       "    </tr>\n",
       "  </tbody>\n",
       "</table>\n",
       "<p>1739 rows × 4 columns</p>\n",
       "</div>"
      ],
      "text/plain": [
       "         school             grade  year  total\n",
       "0     AKINS H S          grade_10  2020   2880\n",
       "1     AKINS H S          grade_10  2021   2988\n",
       "2     AKINS H S          grade_11  2020   2656\n",
       "3     AKINS H S          grade_11  2021   2652\n",
       "4     AKINS H S          grade_12  2020   2436\n",
       "...         ...               ...   ...    ...\n",
       "1734  ZILKER EL           grade_5  2021    276\n",
       "1735  ZILKER EL      kindergarten  2020    308\n",
       "1736  ZILKER EL      kindergarten  2021    252\n",
       "1737  ZILKER EL  pre_kindergarten  2020    120\n",
       "1738  ZILKER EL  pre_kindergarten  2021     52\n",
       "\n",
       "[1739 rows x 4 columns]"
      ]
     },
     "execution_count": 9,
     "metadata": {},
     "output_type": "execute_result"
    }
   ],
   "source": [
    "%%bigquery\n",
    "select * from views.austin_enrollments_by_school_grade_year"
   ]
  },
  {
   "cell_type": "code",
   "execution_count": 10,
   "metadata": {},
   "outputs": [
    {
     "name": "stdout",
     "output_type": "stream",
     "text": [
      "Executing query with job ID: c5861a30-8968-4819-94bc-4bf94a6d7893\n",
      "Query executing: 0.27s"
     ]
    },
    {
     "name": "stderr",
     "output_type": "stream",
     "text": [
      "\n",
      "ERROR:\n",
      " 409 Already Exists: Table f-375123:views.austin_enrollments_TX\n",
      "\n",
      "Location: US\n",
      "Job ID: c5861a30-8968-4819-94bc-4bf94a6d7893\n",
      "\n"
     ]
    }
   ],
   "source": [
    "%%bigquery\n",
    "create view views.austin_enrollments_TX as\n",
    "select state, school, grade, year, sum(cast(replace(replace(total, \",\", \"\"), \"<\", \"\") as int64)) as total\n",
    "from school_enrollments.tx\n",
    "where total != \"\" and school != \"\" and district like '%AUSTIN%'\n",
    "group by state, school, grade, year\n",
    "order by state, school, grade, year"
   ]
  },
  {
   "cell_type": "code",
   "execution_count": 11,
   "metadata": {},
   "outputs": [
    {
     "name": "stdout",
     "output_type": "stream",
     "text": [
      "Executing query with job ID: 78c772f4-7a3a-48ef-b9b3-cedbdedb33df\n",
      "Query executing: 0.23s"
     ]
    },
    {
     "name": "stderr",
     "output_type": "stream",
     "text": [
      "\n",
      "ERROR:\n",
      " 409 Already Exists: Table f-375123:views.brownsville_enrollments_TX\n",
      "\n",
      "Location: US\n",
      "Job ID: 78c772f4-7a3a-48ef-b9b3-cedbdedb33df\n",
      "\n"
     ]
    }
   ],
   "source": [
    "%%bigquery\n",
    "create view views.brownsville_enrollments_TX as\n",
    "select state, school, grade, year, sum(cast(replace(replace(total, \",\", \"\"), \"<\", \"\") as int64)) as total\n",
    "from school_enrollments.tx\n",
    "where total != \"\" and school != \"\" and district like '%BROWNSVILLE%'\n",
    "group by state, school, grade, year\n",
    "order by state, school, grade, year"
   ]
  },
  {
   "cell_type": "code",
   "execution_count": 12,
   "metadata": {},
   "outputs": [
    {
     "data": {
      "application/vnd.jupyter.widget-view+json": {
       "model_id": "0c46b6af740a40dbbebca1e9e11c7fff",
       "version_major": 2,
       "version_minor": 0
      },
      "text/plain": [
       "Query is running:   0%|          |"
      ]
     },
     "metadata": {},
     "output_type": "display_data"
    },
    {
     "data": {
      "application/vnd.jupyter.widget-view+json": {
       "model_id": "c61d7ba096b94965b5b0a22d76f75c7f",
       "version_major": 2,
       "version_minor": 0
      },
      "text/plain": [
       "Downloading:   0%|          |"
      ]
     },
     "metadata": {},
     "output_type": "display_data"
    },
    {
     "data": {
      "text/html": [
       "<div>\n",
       "<style scoped>\n",
       "    .dataframe tbody tr th:only-of-type {\n",
       "        vertical-align: middle;\n",
       "    }\n",
       "\n",
       "    .dataframe tbody tr th {\n",
       "        vertical-align: top;\n",
       "    }\n",
       "\n",
       "    .dataframe thead th {\n",
       "        text-align: right;\n",
       "    }\n",
       "</style>\n",
       "<table border=\"1\" class=\"dataframe\">\n",
       "  <thead>\n",
       "    <tr style=\"text-align: right;\">\n",
       "      <th></th>\n",
       "      <th>state</th>\n",
       "      <th>school</th>\n",
       "      <th>grade</th>\n",
       "      <th>year</th>\n",
       "      <th>total</th>\n",
       "    </tr>\n",
       "  </thead>\n",
       "  <tbody>\n",
       "    <tr>\n",
       "      <th>0</th>\n",
       "      <td>TX</td>\n",
       "      <td>AKINS H S</td>\n",
       "      <td>grade_10</td>\n",
       "      <td>2020</td>\n",
       "      <td>2880</td>\n",
       "    </tr>\n",
       "    <tr>\n",
       "      <th>1</th>\n",
       "      <td>TX</td>\n",
       "      <td>AKINS H S</td>\n",
       "      <td>grade_10</td>\n",
       "      <td>2021</td>\n",
       "      <td>2988</td>\n",
       "    </tr>\n",
       "    <tr>\n",
       "      <th>2</th>\n",
       "      <td>TX</td>\n",
       "      <td>AKINS H S</td>\n",
       "      <td>grade_11</td>\n",
       "      <td>2020</td>\n",
       "      <td>2656</td>\n",
       "    </tr>\n",
       "    <tr>\n",
       "      <th>3</th>\n",
       "      <td>TX</td>\n",
       "      <td>AKINS H S</td>\n",
       "      <td>grade_11</td>\n",
       "      <td>2021</td>\n",
       "      <td>2652</td>\n",
       "    </tr>\n",
       "    <tr>\n",
       "      <th>4</th>\n",
       "      <td>TX</td>\n",
       "      <td>AKINS H S</td>\n",
       "      <td>grade_12</td>\n",
       "      <td>2020</td>\n",
       "      <td>2436</td>\n",
       "    </tr>\n",
       "    <tr>\n",
       "      <th>...</th>\n",
       "      <td>...</td>\n",
       "      <td>...</td>\n",
       "      <td>...</td>\n",
       "      <td>...</td>\n",
       "      <td>...</td>\n",
       "    </tr>\n",
       "    <tr>\n",
       "      <th>1734</th>\n",
       "      <td>TX</td>\n",
       "      <td>ZILKER EL</td>\n",
       "      <td>grade_5</td>\n",
       "      <td>2021</td>\n",
       "      <td>276</td>\n",
       "    </tr>\n",
       "    <tr>\n",
       "      <th>1735</th>\n",
       "      <td>TX</td>\n",
       "      <td>ZILKER EL</td>\n",
       "      <td>kindergarten</td>\n",
       "      <td>2020</td>\n",
       "      <td>308</td>\n",
       "    </tr>\n",
       "    <tr>\n",
       "      <th>1736</th>\n",
       "      <td>TX</td>\n",
       "      <td>ZILKER EL</td>\n",
       "      <td>kindergarten</td>\n",
       "      <td>2021</td>\n",
       "      <td>252</td>\n",
       "    </tr>\n",
       "    <tr>\n",
       "      <th>1737</th>\n",
       "      <td>TX</td>\n",
       "      <td>ZILKER EL</td>\n",
       "      <td>pre_kindergarten</td>\n",
       "      <td>2020</td>\n",
       "      <td>120</td>\n",
       "    </tr>\n",
       "    <tr>\n",
       "      <th>1738</th>\n",
       "      <td>TX</td>\n",
       "      <td>ZILKER EL</td>\n",
       "      <td>pre_kindergarten</td>\n",
       "      <td>2021</td>\n",
       "      <td>52</td>\n",
       "    </tr>\n",
       "  </tbody>\n",
       "</table>\n",
       "<p>1739 rows × 5 columns</p>\n",
       "</div>"
      ],
      "text/plain": [
       "     state     school             grade  year  total\n",
       "0       TX  AKINS H S          grade_10  2020   2880\n",
       "1       TX  AKINS H S          grade_10  2021   2988\n",
       "2       TX  AKINS H S          grade_11  2020   2656\n",
       "3       TX  AKINS H S          grade_11  2021   2652\n",
       "4       TX  AKINS H S          grade_12  2020   2436\n",
       "...    ...        ...               ...   ...    ...\n",
       "1734    TX  ZILKER EL           grade_5  2021    276\n",
       "1735    TX  ZILKER EL      kindergarten  2020    308\n",
       "1736    TX  ZILKER EL      kindergarten  2021    252\n",
       "1737    TX  ZILKER EL  pre_kindergarten  2020    120\n",
       "1738    TX  ZILKER EL  pre_kindergarten  2021     52\n",
       "\n",
       "[1739 rows x 5 columns]"
      ]
     },
     "execution_count": 12,
     "metadata": {},
     "output_type": "execute_result"
    }
   ],
   "source": [
    "%%bigquery\n",
    "select * from views.austin_enrollments_TX"
   ]
  },
  {
   "cell_type": "code",
   "execution_count": 13,
   "metadata": {},
   "outputs": [
    {
     "data": {
      "application/vnd.jupyter.widget-view+json": {
       "model_id": "ca12f53addb84088993b732cc041e9dc",
       "version_major": 2,
       "version_minor": 0
      },
      "text/plain": [
       "Query is running:   0%|          |"
      ]
     },
     "metadata": {},
     "output_type": "display_data"
    },
    {
     "data": {
      "application/vnd.jupyter.widget-view+json": {
       "model_id": "22d9587da8f84fa9a6babe5ef9287a7f",
       "version_major": 2,
       "version_minor": 0
      },
      "text/plain": [
       "Downloading:   0%|          |"
      ]
     },
     "metadata": {},
     "output_type": "display_data"
    },
    {
     "data": {
      "text/html": [
       "<div>\n",
       "<style scoped>\n",
       "    .dataframe tbody tr th:only-of-type {\n",
       "        vertical-align: middle;\n",
       "    }\n",
       "\n",
       "    .dataframe tbody tr th {\n",
       "        vertical-align: top;\n",
       "    }\n",
       "\n",
       "    .dataframe thead th {\n",
       "        text-align: right;\n",
       "    }\n",
       "</style>\n",
       "<table border=\"1\" class=\"dataframe\">\n",
       "  <thead>\n",
       "    <tr style=\"text-align: right;\">\n",
       "      <th></th>\n",
       "      <th>state</th>\n",
       "      <th>school</th>\n",
       "      <th>grade</th>\n",
       "      <th>year</th>\n",
       "      <th>total</th>\n",
       "    </tr>\n",
       "  </thead>\n",
       "  <tbody>\n",
       "    <tr>\n",
       "      <th>0</th>\n",
       "      <td>TX</td>\n",
       "      <td>AIKEN EL</td>\n",
       "      <td>early_education</td>\n",
       "      <td>2020</td>\n",
       "      <td>40</td>\n",
       "    </tr>\n",
       "    <tr>\n",
       "      <th>1</th>\n",
       "      <td>TX</td>\n",
       "      <td>AIKEN EL</td>\n",
       "      <td>grade_1</td>\n",
       "      <td>2020</td>\n",
       "      <td>392</td>\n",
       "    </tr>\n",
       "    <tr>\n",
       "      <th>2</th>\n",
       "      <td>TX</td>\n",
       "      <td>AIKEN EL</td>\n",
       "      <td>grade_1</td>\n",
       "      <td>2021</td>\n",
       "      <td>320</td>\n",
       "    </tr>\n",
       "    <tr>\n",
       "      <th>3</th>\n",
       "      <td>TX</td>\n",
       "      <td>AIKEN EL</td>\n",
       "      <td>grade_2</td>\n",
       "      <td>2020</td>\n",
       "      <td>412</td>\n",
       "    </tr>\n",
       "    <tr>\n",
       "      <th>4</th>\n",
       "      <td>TX</td>\n",
       "      <td>AIKEN EL</td>\n",
       "      <td>grade_2</td>\n",
       "      <td>2021</td>\n",
       "      <td>384</td>\n",
       "    </tr>\n",
       "    <tr>\n",
       "      <th>...</th>\n",
       "      <td>...</td>\n",
       "      <td>...</td>\n",
       "      <td>...</td>\n",
       "      <td>...</td>\n",
       "      <td>...</td>\n",
       "    </tr>\n",
       "    <tr>\n",
       "      <th>639</th>\n",
       "      <td>TX</td>\n",
       "      <td>YTURRIA EL</td>\n",
       "      <td>grade_5</td>\n",
       "      <td>2021</td>\n",
       "      <td>384</td>\n",
       "    </tr>\n",
       "    <tr>\n",
       "      <th>640</th>\n",
       "      <td>TX</td>\n",
       "      <td>YTURRIA EL</td>\n",
       "      <td>kindergarten</td>\n",
       "      <td>2020</td>\n",
       "      <td>240</td>\n",
       "    </tr>\n",
       "    <tr>\n",
       "      <th>641</th>\n",
       "      <td>TX</td>\n",
       "      <td>YTURRIA EL</td>\n",
       "      <td>kindergarten</td>\n",
       "      <td>2021</td>\n",
       "      <td>256</td>\n",
       "    </tr>\n",
       "    <tr>\n",
       "      <th>642</th>\n",
       "      <td>TX</td>\n",
       "      <td>YTURRIA EL</td>\n",
       "      <td>pre_kindergarten</td>\n",
       "      <td>2020</td>\n",
       "      <td>432</td>\n",
       "    </tr>\n",
       "    <tr>\n",
       "      <th>643</th>\n",
       "      <td>TX</td>\n",
       "      <td>YTURRIA EL</td>\n",
       "      <td>pre_kindergarten</td>\n",
       "      <td>2021</td>\n",
       "      <td>396</td>\n",
       "    </tr>\n",
       "  </tbody>\n",
       "</table>\n",
       "<p>644 rows × 5 columns</p>\n",
       "</div>"
      ],
      "text/plain": [
       "    state      school             grade  year  total\n",
       "0      TX    AIKEN EL   early_education  2020     40\n",
       "1      TX    AIKEN EL           grade_1  2020    392\n",
       "2      TX    AIKEN EL           grade_1  2021    320\n",
       "3      TX    AIKEN EL           grade_2  2020    412\n",
       "4      TX    AIKEN EL           grade_2  2021    384\n",
       "..    ...         ...               ...   ...    ...\n",
       "639    TX  YTURRIA EL           grade_5  2021    384\n",
       "640    TX  YTURRIA EL      kindergarten  2020    240\n",
       "641    TX  YTURRIA EL      kindergarten  2021    256\n",
       "642    TX  YTURRIA EL  pre_kindergarten  2020    432\n",
       "643    TX  YTURRIA EL  pre_kindergarten  2021    396\n",
       "\n",
       "[644 rows x 5 columns]"
      ]
     },
     "execution_count": 13,
     "metadata": {},
     "output_type": "execute_result"
    }
   ],
   "source": [
    "%%bigquery\n",
    "select * from views.brownsville_enrollments_TX"
   ]
  },
  {
   "cell_type": "markdown",
   "metadata": {},
   "source": [
    "#### 4. Open Data Studio and create a chart from this view:\n",
    "##### https://datastudio.google.com/"
   ]
  },
  {
   "cell_type": "markdown",
   "metadata": {},
   "source": [
    "#### Project 3 homework marker. Start homework from here. "
   ]
  },
  {
   "cell_type": "markdown",
   "metadata": {},
   "source": [
    "*Pre-comment: Please, notice we work with a dataset  views.austin_enrollments_TX  (lines 10-11 above) which is a modification of the original views.austin_enrollments_by_school_grade_year. The difference is that enrollments_TX dataset contains a column 'state' (all instances are 'TX'). Next was a view of Brownsville, TX dataset created to be used in the queries.*"
   ]
  },
  {
   "cell_type": "markdown",
   "metadata": {},
   "source": [
    "**1. Creating a view of California school enrollments in Los Angeles county.**"
   ]
  },
  {
   "cell_type": "markdown",
   "metadata": {},
   "source": [
    "*Please notice that different states have slightly different enrollment tables, hence the query looks different from the one that creates Austin View.*"
   ]
  },
  {
   "cell_type": "code",
   "execution_count": 14,
   "metadata": {},
   "outputs": [
    {
     "name": "stdout",
     "output_type": "stream",
     "text": [
      "Executing query with job ID: 4585ce3b-600a-457b-a685-fe26839008d1\n",
      "Query executing: 0.39s"
     ]
    },
    {
     "name": "stderr",
     "output_type": "stream",
     "text": [
      "\n",
      "ERROR:\n",
      " 409 Already Exists: Table f-375123:views.LA_enrollments_CA\n",
      "\n",
      "Location: US\n",
      "Job ID: 4585ce3b-600a-457b-a685-fe26839008d1\n",
      "\n"
     ]
    }
   ],
   "source": [
    "%%bigquery\n",
    "create view views.LA_enrollments_CA as\n",
    "select state, school, grade, year, sum(total) as total\n",
    "from school_enrollments.ca\n",
    "where total != 0 and school != \"\" and county like '%LOS ANGELES%'\n",
    "group by state, school, grade, year\n",
    "order by state, school, grade, year"
   ]
  },
  {
   "cell_type": "code",
   "execution_count": 15,
   "metadata": {},
   "outputs": [
    {
     "data": {
      "application/vnd.jupyter.widget-view+json": {
       "model_id": "5e3d6f137a5a49e0bd986847af67f9e4",
       "version_major": 2,
       "version_minor": 0
      },
      "text/plain": [
       "Query is running:   0%|          |"
      ]
     },
     "metadata": {},
     "output_type": "display_data"
    },
    {
     "data": {
      "application/vnd.jupyter.widget-view+json": {
       "model_id": "4242ac2354df4594a5e099d94dea3f8f",
       "version_major": 2,
       "version_minor": 0
      },
      "text/plain": [
       "Downloading:   0%|          |"
      ]
     },
     "metadata": {},
     "output_type": "display_data"
    },
    {
     "data": {
      "text/html": [
       "<div>\n",
       "<style scoped>\n",
       "    .dataframe tbody tr th:only-of-type {\n",
       "        vertical-align: middle;\n",
       "    }\n",
       "\n",
       "    .dataframe tbody tr th {\n",
       "        vertical-align: top;\n",
       "    }\n",
       "\n",
       "    .dataframe thead th {\n",
       "        text-align: right;\n",
       "    }\n",
       "</style>\n",
       "<table border=\"1\" class=\"dataframe\">\n",
       "  <thead>\n",
       "    <tr style=\"text-align: right;\">\n",
       "      <th></th>\n",
       "      <th>state</th>\n",
       "      <th>school</th>\n",
       "      <th>grade</th>\n",
       "      <th>year</th>\n",
       "      <th>total</th>\n",
       "    </tr>\n",
       "  </thead>\n",
       "  <tbody>\n",
       "    <tr>\n",
       "      <th>0</th>\n",
       "      <td>CA</td>\n",
       "      <td>138th Street</td>\n",
       "      <td>grade_3</td>\n",
       "      <td>2021</td>\n",
       "      <td>584.0</td>\n",
       "    </tr>\n",
       "    <tr>\n",
       "      <th>1</th>\n",
       "      <td>CA</td>\n",
       "      <td>138th Street</td>\n",
       "      <td>grade_4</td>\n",
       "      <td>2021</td>\n",
       "      <td>596.0</td>\n",
       "    </tr>\n",
       "    <tr>\n",
       "      <th>2</th>\n",
       "      <td>CA</td>\n",
       "      <td>138th Street</td>\n",
       "      <td>grade_5</td>\n",
       "      <td>2021</td>\n",
       "      <td>596.0</td>\n",
       "    </tr>\n",
       "    <tr>\n",
       "      <th>3</th>\n",
       "      <td>CA</td>\n",
       "      <td>138th Street</td>\n",
       "      <td>k_12_total</td>\n",
       "      <td>2021</td>\n",
       "      <td>1776.0</td>\n",
       "    </tr>\n",
       "    <tr>\n",
       "      <th>4</th>\n",
       "      <td>CA</td>\n",
       "      <td>ABC Secondary (Alternative)</td>\n",
       "      <td>grade_10</td>\n",
       "      <td>2020</td>\n",
       "      <td>8.0</td>\n",
       "    </tr>\n",
       "    <tr>\n",
       "      <th>...</th>\n",
       "      <td>...</td>\n",
       "      <td>...</td>\n",
       "      <td>...</td>\n",
       "      <td>...</td>\n",
       "      <td>...</td>\n",
       "    </tr>\n",
       "    <tr>\n",
       "      <th>27253</th>\n",
       "      <td>CA</td>\n",
       "      <td>iQ Academy California-Los Angeles</td>\n",
       "      <td>grade_8</td>\n",
       "      <td>2021</td>\n",
       "      <td>420.0</td>\n",
       "    </tr>\n",
       "    <tr>\n",
       "      <th>27254</th>\n",
       "      <td>CA</td>\n",
       "      <td>iQ Academy California-Los Angeles</td>\n",
       "      <td>grade_9</td>\n",
       "      <td>2020</td>\n",
       "      <td>260.0</td>\n",
       "    </tr>\n",
       "    <tr>\n",
       "      <th>27255</th>\n",
       "      <td>CA</td>\n",
       "      <td>iQ Academy California-Los Angeles</td>\n",
       "      <td>grade_9</td>\n",
       "      <td>2021</td>\n",
       "      <td>332.0</td>\n",
       "    </tr>\n",
       "    <tr>\n",
       "      <th>27256</th>\n",
       "      <td>CA</td>\n",
       "      <td>iQ Academy California-Los Angeles</td>\n",
       "      <td>k_12_total</td>\n",
       "      <td>2020</td>\n",
       "      <td>3132.0</td>\n",
       "    </tr>\n",
       "    <tr>\n",
       "      <th>27257</th>\n",
       "      <td>CA</td>\n",
       "      <td>iQ Academy California-Los Angeles</td>\n",
       "      <td>k_12_total</td>\n",
       "      <td>2021</td>\n",
       "      <td>4240.0</td>\n",
       "    </tr>\n",
       "  </tbody>\n",
       "</table>\n",
       "<p>27258 rows × 5 columns</p>\n",
       "</div>"
      ],
      "text/plain": [
       "      state                             school       grade  year   total\n",
       "0        CA                       138th Street     grade_3  2021   584.0\n",
       "1        CA                       138th Street     grade_4  2021   596.0\n",
       "2        CA                       138th Street     grade_5  2021   596.0\n",
       "3        CA                       138th Street  k_12_total  2021  1776.0\n",
       "4        CA        ABC Secondary (Alternative)    grade_10  2020     8.0\n",
       "...     ...                                ...         ...   ...     ...\n",
       "27253    CA  iQ Academy California-Los Angeles     grade_8  2021   420.0\n",
       "27254    CA  iQ Academy California-Los Angeles     grade_9  2020   260.0\n",
       "27255    CA  iQ Academy California-Los Angeles     grade_9  2021   332.0\n",
       "27256    CA  iQ Academy California-Los Angeles  k_12_total  2020  3132.0\n",
       "27257    CA  iQ Academy California-Los Angeles  k_12_total  2021  4240.0\n",
       "\n",
       "[27258 rows x 5 columns]"
      ]
     },
     "execution_count": 15,
     "metadata": {},
     "output_type": "execute_result"
    }
   ],
   "source": [
    "%%bigquery\n",
    "select * from views.LA_enrollments_CA"
   ]
  },
  {
   "cell_type": "markdown",
   "metadata": {},
   "source": [
    "**2. Looking at Austin high schools - we are interested in number of grades in each school and total enrollments in 2020 and 2021.**"
   ]
  },
  {
   "cell_type": "markdown",
   "metadata": {},
   "source": [
    "*Schools are ordered by total yearly enrollments, and only high schools are included, 25 schools total. The largest school by enrollments is Bowie and the smallest is Garza.*"
   ]
  },
  {
   "cell_type": "code",
   "execution_count": 16,
   "metadata": {},
   "outputs": [
    {
     "data": {
      "application/vnd.jupyter.widget-view+json": {
       "model_id": "569282858b6149399082c3642c77f133",
       "version_major": 2,
       "version_minor": 0
      },
      "text/plain": [
       "Query is running:   0%|          |"
      ]
     },
     "metadata": {},
     "output_type": "display_data"
    },
    {
     "data": {
      "application/vnd.jupyter.widget-view+json": {
       "model_id": "3cd38c4e8a134b48a0ab77a2fc31cdc3",
       "version_major": 2,
       "version_minor": 0
      },
      "text/plain": [
       "Downloading:   0%|          |"
      ]
     },
     "metadata": {},
     "output_type": "display_data"
    },
    {
     "data": {
      "text/html": [
       "<div>\n",
       "<style scoped>\n",
       "    .dataframe tbody tr th:only-of-type {\n",
       "        vertical-align: middle;\n",
       "    }\n",
       "\n",
       "    .dataframe tbody tr th {\n",
       "        vertical-align: top;\n",
       "    }\n",
       "\n",
       "    .dataframe thead th {\n",
       "        text-align: right;\n",
       "    }\n",
       "</style>\n",
       "<table border=\"1\" class=\"dataframe\">\n",
       "  <thead>\n",
       "    <tr style=\"text-align: right;\">\n",
       "      <th></th>\n",
       "      <th>school</th>\n",
       "      <th>year</th>\n",
       "      <th>grades_number</th>\n",
       "      <th>total_enrollment_per_year</th>\n",
       "    </tr>\n",
       "  </thead>\n",
       "  <tbody>\n",
       "    <tr>\n",
       "      <th>0</th>\n",
       "      <td>BOWIE H S</td>\n",
       "      <td>2021</td>\n",
       "      <td>4</td>\n",
       "      <td>11544</td>\n",
       "    </tr>\n",
       "    <tr>\n",
       "      <th>1</th>\n",
       "      <td>BOWIE H S</td>\n",
       "      <td>2020</td>\n",
       "      <td>4</td>\n",
       "      <td>11384</td>\n",
       "    </tr>\n",
       "    <tr>\n",
       "      <th>2</th>\n",
       "      <td>AKINS H S</td>\n",
       "      <td>2021</td>\n",
       "      <td>4</td>\n",
       "      <td>11240</td>\n",
       "    </tr>\n",
       "    <tr>\n",
       "      <th>3</th>\n",
       "      <td>AKINS H S</td>\n",
       "      <td>2020</td>\n",
       "      <td>4</td>\n",
       "      <td>11008</td>\n",
       "    </tr>\n",
       "    <tr>\n",
       "      <th>4</th>\n",
       "      <td>AUSTIN H S</td>\n",
       "      <td>2020</td>\n",
       "      <td>4</td>\n",
       "      <td>9440</td>\n",
       "    </tr>\n",
       "    <tr>\n",
       "      <th>5</th>\n",
       "      <td>AUSTIN H S</td>\n",
       "      <td>2021</td>\n",
       "      <td>4</td>\n",
       "      <td>9396</td>\n",
       "    </tr>\n",
       "    <tr>\n",
       "      <th>6</th>\n",
       "      <td>ANDERSON H S</td>\n",
       "      <td>2021</td>\n",
       "      <td>4</td>\n",
       "      <td>8964</td>\n",
       "    </tr>\n",
       "    <tr>\n",
       "      <th>7</th>\n",
       "      <td>ANDERSON H S</td>\n",
       "      <td>2020</td>\n",
       "      <td>4</td>\n",
       "      <td>8864</td>\n",
       "    </tr>\n",
       "    <tr>\n",
       "      <th>8</th>\n",
       "      <td>MCCALLUM H S</td>\n",
       "      <td>2021</td>\n",
       "      <td>4</td>\n",
       "      <td>7340</td>\n",
       "    </tr>\n",
       "    <tr>\n",
       "      <th>9</th>\n",
       "      <td>MCCALLUM H S</td>\n",
       "      <td>2020</td>\n",
       "      <td>4</td>\n",
       "      <td>7092</td>\n",
       "    </tr>\n",
       "    <tr>\n",
       "      <th>10</th>\n",
       "      <td>NAVARRO EARLY COLLEGE H S</td>\n",
       "      <td>2021</td>\n",
       "      <td>4</td>\n",
       "      <td>6280</td>\n",
       "    </tr>\n",
       "    <tr>\n",
       "      <th>11</th>\n",
       "      <td>NAVARRO EARLY COLLEGE H S</td>\n",
       "      <td>2020</td>\n",
       "      <td>4</td>\n",
       "      <td>6088</td>\n",
       "    </tr>\n",
       "    <tr>\n",
       "      <th>12</th>\n",
       "      <td>LASA H S</td>\n",
       "      <td>2020</td>\n",
       "      <td>4</td>\n",
       "      <td>5140</td>\n",
       "    </tr>\n",
       "    <tr>\n",
       "      <th>13</th>\n",
       "      <td>LASA H S</td>\n",
       "      <td>2021</td>\n",
       "      <td>4</td>\n",
       "      <td>5016</td>\n",
       "    </tr>\n",
       "    <tr>\n",
       "      <th>14</th>\n",
       "      <td>TRAVIS EARLY COLLEGE H S</td>\n",
       "      <td>2021</td>\n",
       "      <td>4</td>\n",
       "      <td>4972</td>\n",
       "    </tr>\n",
       "    <tr>\n",
       "      <th>15</th>\n",
       "      <td>TRAVIS EARLY COLLEGE H S</td>\n",
       "      <td>2020</td>\n",
       "      <td>4</td>\n",
       "      <td>4724</td>\n",
       "    </tr>\n",
       "    <tr>\n",
       "      <th>16</th>\n",
       "      <td>NORTHEAST EARLY COLLEGE H S</td>\n",
       "      <td>2020</td>\n",
       "      <td>4</td>\n",
       "      <td>4556</td>\n",
       "    </tr>\n",
       "    <tr>\n",
       "      <th>17</th>\n",
       "      <td>NORTHEAST EARLY COLLEGE H S</td>\n",
       "      <td>2021</td>\n",
       "      <td>4</td>\n",
       "      <td>4348</td>\n",
       "    </tr>\n",
       "    <tr>\n",
       "      <th>18</th>\n",
       "      <td>AUSTIN ACHIEVE H S</td>\n",
       "      <td>2021</td>\n",
       "      <td>4</td>\n",
       "      <td>2336</td>\n",
       "    </tr>\n",
       "    <tr>\n",
       "      <th>19</th>\n",
       "      <td>AUSTIN ACHIEVE H S</td>\n",
       "      <td>2020</td>\n",
       "      <td>4</td>\n",
       "      <td>2080</td>\n",
       "    </tr>\n",
       "    <tr>\n",
       "      <th>20</th>\n",
       "      <td>INTERNATIONAL H S</td>\n",
       "      <td>2020</td>\n",
       "      <td>2</td>\n",
       "      <td>1404</td>\n",
       "    </tr>\n",
       "    <tr>\n",
       "      <th>21</th>\n",
       "      <td>UNIVERSITY OF TEXAS AT AUSTIN H S</td>\n",
       "      <td>2021</td>\n",
       "      <td>4</td>\n",
       "      <td>1096</td>\n",
       "    </tr>\n",
       "    <tr>\n",
       "      <th>22</th>\n",
       "      <td>UNIVERSITY OF TEXAS AT AUSTIN H S</td>\n",
       "      <td>2020</td>\n",
       "      <td>4</td>\n",
       "      <td>988</td>\n",
       "    </tr>\n",
       "    <tr>\n",
       "      <th>23</th>\n",
       "      <td>INTERNATIONAL H S</td>\n",
       "      <td>2021</td>\n",
       "      <td>2</td>\n",
       "      <td>984</td>\n",
       "    </tr>\n",
       "    <tr>\n",
       "      <th>24</th>\n",
       "      <td>GARZA INDEPENDENCE H S</td>\n",
       "      <td>2021</td>\n",
       "      <td>2</td>\n",
       "      <td>732</td>\n",
       "    </tr>\n",
       "    <tr>\n",
       "      <th>25</th>\n",
       "      <td>GARZA INDEPENDENCE H S</td>\n",
       "      <td>2020</td>\n",
       "      <td>3</td>\n",
       "      <td>664</td>\n",
       "    </tr>\n",
       "  </tbody>\n",
       "</table>\n",
       "</div>"
      ],
      "text/plain": [
       "                               school  year  grades_number  \\\n",
       "0                           BOWIE H S  2021              4   \n",
       "1                           BOWIE H S  2020              4   \n",
       "2                           AKINS H S  2021              4   \n",
       "3                           AKINS H S  2020              4   \n",
       "4                          AUSTIN H S  2020              4   \n",
       "5                          AUSTIN H S  2021              4   \n",
       "6                        ANDERSON H S  2021              4   \n",
       "7                        ANDERSON H S  2020              4   \n",
       "8                        MCCALLUM H S  2021              4   \n",
       "9                        MCCALLUM H S  2020              4   \n",
       "10          NAVARRO EARLY COLLEGE H S  2021              4   \n",
       "11          NAVARRO EARLY COLLEGE H S  2020              4   \n",
       "12                           LASA H S  2020              4   \n",
       "13                           LASA H S  2021              4   \n",
       "14           TRAVIS EARLY COLLEGE H S  2021              4   \n",
       "15           TRAVIS EARLY COLLEGE H S  2020              4   \n",
       "16        NORTHEAST EARLY COLLEGE H S  2020              4   \n",
       "17        NORTHEAST EARLY COLLEGE H S  2021              4   \n",
       "18                 AUSTIN ACHIEVE H S  2021              4   \n",
       "19                 AUSTIN ACHIEVE H S  2020              4   \n",
       "20                  INTERNATIONAL H S  2020              2   \n",
       "21  UNIVERSITY OF TEXAS AT AUSTIN H S  2021              4   \n",
       "22  UNIVERSITY OF TEXAS AT AUSTIN H S  2020              4   \n",
       "23                  INTERNATIONAL H S  2021              2   \n",
       "24             GARZA INDEPENDENCE H S  2021              2   \n",
       "25             GARZA INDEPENDENCE H S  2020              3   \n",
       "\n",
       "    total_enrollment_per_year  \n",
       "0                       11544  \n",
       "1                       11384  \n",
       "2                       11240  \n",
       "3                       11008  \n",
       "4                        9440  \n",
       "5                        9396  \n",
       "6                        8964  \n",
       "7                        8864  \n",
       "8                        7340  \n",
       "9                        7092  \n",
       "10                       6280  \n",
       "11                       6088  \n",
       "12                       5140  \n",
       "13                       5016  \n",
       "14                       4972  \n",
       "15                       4724  \n",
       "16                       4556  \n",
       "17                       4348  \n",
       "18                       2336  \n",
       "19                       2080  \n",
       "20                       1404  \n",
       "21                       1096  \n",
       "22                        988  \n",
       "23                        984  \n",
       "24                        732  \n",
       "25                        664  "
      ]
     },
     "execution_count": 16,
     "metadata": {},
     "output_type": "execute_result"
    }
   ],
   "source": [
    "%%bigquery\n",
    "select school, year, count(*) grades_number, sum(total) total_enrollment_per_year \n",
    "from views.austin_enrollments_TX\n",
    "where year=2020 or year=2021\n",
    "group by school, year having school like '%H S%'\n",
    "order by total_enrollment_per_year desc"
   ]
  },
  {
   "cell_type": "markdown",
   "metadata": {},
   "source": [
    "**3. Looking at 3 specific schools in Northwest area of Austin.**"
   ]
  },
  {
   "cell_type": "markdown",
   "metadata": {},
   "source": [
    "*For both 2020 and 2021 the enrollments were the largest in Anderson high, followed by Murchison middle, then Doss elementary.*"
   ]
  },
  {
   "cell_type": "code",
   "execution_count": 17,
   "metadata": {},
   "outputs": [
    {
     "data": {
      "application/vnd.jupyter.widget-view+json": {
       "model_id": "6cf96650f2974addb2a4551f5d60c7a3",
       "version_major": 2,
       "version_minor": 0
      },
      "text/plain": [
       "Query is running:   0%|          |"
      ]
     },
     "metadata": {},
     "output_type": "display_data"
    },
    {
     "data": {
      "application/vnd.jupyter.widget-view+json": {
       "model_id": "012005740a114d1480f8b16f7a63e9a9",
       "version_major": 2,
       "version_minor": 0
      },
      "text/plain": [
       "Downloading:   0%|          |"
      ]
     },
     "metadata": {},
     "output_type": "display_data"
    },
    {
     "data": {
      "text/html": [
       "<div>\n",
       "<style scoped>\n",
       "    .dataframe tbody tr th:only-of-type {\n",
       "        vertical-align: middle;\n",
       "    }\n",
       "\n",
       "    .dataframe tbody tr th {\n",
       "        vertical-align: top;\n",
       "    }\n",
       "\n",
       "    .dataframe thead th {\n",
       "        text-align: right;\n",
       "    }\n",
       "</style>\n",
       "<table border=\"1\" class=\"dataframe\">\n",
       "  <thead>\n",
       "    <tr style=\"text-align: right;\">\n",
       "      <th></th>\n",
       "      <th>school</th>\n",
       "      <th>year</th>\n",
       "      <th>grades_number</th>\n",
       "      <th>total_enrollment_per_year</th>\n",
       "    </tr>\n",
       "  </thead>\n",
       "  <tbody>\n",
       "    <tr>\n",
       "      <th>0</th>\n",
       "      <td>DOSS EL</td>\n",
       "      <td>&lt;NA&gt;</td>\n",
       "      <td>16</td>\n",
       "      <td>6372</td>\n",
       "    </tr>\n",
       "    <tr>\n",
       "      <th>1</th>\n",
       "      <td>MURCHISON MIDDLE</td>\n",
       "      <td>&lt;NA&gt;</td>\n",
       "      <td>6</td>\n",
       "      <td>10396</td>\n",
       "    </tr>\n",
       "    <tr>\n",
       "      <th>2</th>\n",
       "      <td>ANDERSON H S</td>\n",
       "      <td>&lt;NA&gt;</td>\n",
       "      <td>8</td>\n",
       "      <td>17828</td>\n",
       "    </tr>\n",
       "    <tr>\n",
       "      <th>3</th>\n",
       "      <td>DOSS EL</td>\n",
       "      <td>2020</td>\n",
       "      <td>8</td>\n",
       "      <td>3344</td>\n",
       "    </tr>\n",
       "    <tr>\n",
       "      <th>4</th>\n",
       "      <td>MURCHISON MIDDLE</td>\n",
       "      <td>2020</td>\n",
       "      <td>3</td>\n",
       "      <td>5412</td>\n",
       "    </tr>\n",
       "    <tr>\n",
       "      <th>5</th>\n",
       "      <td>ANDERSON H S</td>\n",
       "      <td>2020</td>\n",
       "      <td>4</td>\n",
       "      <td>8864</td>\n",
       "    </tr>\n",
       "    <tr>\n",
       "      <th>6</th>\n",
       "      <td>DOSS EL</td>\n",
       "      <td>2021</td>\n",
       "      <td>8</td>\n",
       "      <td>3028</td>\n",
       "    </tr>\n",
       "    <tr>\n",
       "      <th>7</th>\n",
       "      <td>MURCHISON MIDDLE</td>\n",
       "      <td>2021</td>\n",
       "      <td>3</td>\n",
       "      <td>4984</td>\n",
       "    </tr>\n",
       "    <tr>\n",
       "      <th>8</th>\n",
       "      <td>ANDERSON H S</td>\n",
       "      <td>2021</td>\n",
       "      <td>4</td>\n",
       "      <td>8964</td>\n",
       "    </tr>\n",
       "  </tbody>\n",
       "</table>\n",
       "</div>"
      ],
      "text/plain": [
       "             school  year  grades_number  total_enrollment_per_year\n",
       "0           DOSS EL  <NA>             16                       6372\n",
       "1  MURCHISON MIDDLE  <NA>              6                      10396\n",
       "2      ANDERSON H S  <NA>              8                      17828\n",
       "3           DOSS EL  2020              8                       3344\n",
       "4  MURCHISON MIDDLE  2020              3                       5412\n",
       "5      ANDERSON H S  2020              4                       8864\n",
       "6           DOSS EL  2021              8                       3028\n",
       "7  MURCHISON MIDDLE  2021              3                       4984\n",
       "8      ANDERSON H S  2021              4                       8964"
      ]
     },
     "execution_count": 17,
     "metadata": {},
     "output_type": "execute_result"
    }
   ],
   "source": [
    "%%bigquery\n",
    "select school, year, count(*) grades_number, sum(total) total_enrollment_per_year \n",
    "from views.austin_enrollments_TX \n",
    "group by rollup (school, year) \n",
    "having school like '%DOSS%' or school like '%MURCHISON%' or school like '%ANDERSON%' \n",
    "order by year, total_enrollment_per_year"
   ]
  },
  {
   "cell_type": "markdown",
   "metadata": {},
   "source": [
    "**4. Uniting 2 sets of schools: Austin, TX and Los Angeles, CA.**"
   ]
  },
  {
   "cell_type": "markdown",
   "metadata": {},
   "source": [
    "*2021 enrollments are shown, the largest and the smallest schools are both in Los Angeles.*"
   ]
  },
  {
   "cell_type": "code",
   "execution_count": 18,
   "metadata": {},
   "outputs": [
    {
     "data": {
      "application/vnd.jupyter.widget-view+json": {
       "model_id": "f7f8fbca4b15461fad143a2bb87b2909",
       "version_major": 2,
       "version_minor": 0
      },
      "text/plain": [
       "Query is running:   0%|          |"
      ]
     },
     "metadata": {},
     "output_type": "display_data"
    },
    {
     "data": {
      "application/vnd.jupyter.widget-view+json": {
       "model_id": "6fac7840bb20478892a9ea9295b745ce",
       "version_major": 2,
       "version_minor": 0
      },
      "text/plain": [
       "Downloading:   0%|          |"
      ]
     },
     "metadata": {},
     "output_type": "display_data"
    },
    {
     "data": {
      "text/html": [
       "<div>\n",
       "<style scoped>\n",
       "    .dataframe tbody tr th:only-of-type {\n",
       "        vertical-align: middle;\n",
       "    }\n",
       "\n",
       "    .dataframe tbody tr th {\n",
       "        vertical-align: top;\n",
       "    }\n",
       "\n",
       "    .dataframe thead th {\n",
       "        text-align: right;\n",
       "    }\n",
       "</style>\n",
       "<table border=\"1\" class=\"dataframe\">\n",
       "  <thead>\n",
       "    <tr style=\"text-align: right;\">\n",
       "      <th></th>\n",
       "      <th>state</th>\n",
       "      <th>school</th>\n",
       "      <th>total_enrollment_per_year</th>\n",
       "    </tr>\n",
       "  </thead>\n",
       "  <tbody>\n",
       "    <tr>\n",
       "      <th>0</th>\n",
       "      <td>CA</td>\n",
       "      <td>Granada Hills Charter</td>\n",
       "      <td>43696.0</td>\n",
       "    </tr>\n",
       "    <tr>\n",
       "      <th>1</th>\n",
       "      <td>CA</td>\n",
       "      <td>California Virtual Academy @ Los Angeles</td>\n",
       "      <td>41232.0</td>\n",
       "    </tr>\n",
       "    <tr>\n",
       "      <th>2</th>\n",
       "      <td>CA</td>\n",
       "      <td>Washington Elementary</td>\n",
       "      <td>41072.0</td>\n",
       "    </tr>\n",
       "    <tr>\n",
       "      <th>3</th>\n",
       "      <td>CA</td>\n",
       "      <td>Downey High</td>\n",
       "      <td>34424.0</td>\n",
       "    </tr>\n",
       "    <tr>\n",
       "      <th>4</th>\n",
       "      <td>CA</td>\n",
       "      <td>Paramount High</td>\n",
       "      <td>33688.0</td>\n",
       "    </tr>\n",
       "    <tr>\n",
       "      <th>...</th>\n",
       "      <td>...</td>\n",
       "      <td>...</td>\n",
       "      <td>...</td>\n",
       "    </tr>\n",
       "    <tr>\n",
       "      <th>2234</th>\n",
       "      <td>TX</td>\n",
       "      <td>MAINSPRING SCHOOLS</td>\n",
       "      <td>64.0</td>\n",
       "    </tr>\n",
       "    <tr>\n",
       "      <th>2235</th>\n",
       "      <td>CA</td>\n",
       "      <td>Vista (Alternative)</td>\n",
       "      <td>56.0</td>\n",
       "    </tr>\n",
       "    <tr>\n",
       "      <th>2236</th>\n",
       "      <td>CA</td>\n",
       "      <td>Wilsona Achievement Academy</td>\n",
       "      <td>48.0</td>\n",
       "    </tr>\n",
       "    <tr>\n",
       "      <th>2237</th>\n",
       "      <td>CA</td>\n",
       "      <td>Jewel City Community Day</td>\n",
       "      <td>40.0</td>\n",
       "    </tr>\n",
       "    <tr>\n",
       "      <th>2238</th>\n",
       "      <td>CA</td>\n",
       "      <td>CDS Elementary</td>\n",
       "      <td>24.0</td>\n",
       "    </tr>\n",
       "  </tbody>\n",
       "</table>\n",
       "<p>2239 rows × 3 columns</p>\n",
       "</div>"
      ],
      "text/plain": [
       "     state                                    school  \\\n",
       "0       CA                     Granada Hills Charter   \n",
       "1       CA  California Virtual Academy @ Los Angeles   \n",
       "2       CA                     Washington Elementary   \n",
       "3       CA                               Downey High   \n",
       "4       CA                            Paramount High   \n",
       "...    ...                                       ...   \n",
       "2234    TX                        MAINSPRING SCHOOLS   \n",
       "2235    CA                       Vista (Alternative)   \n",
       "2236    CA               Wilsona Achievement Academy   \n",
       "2237    CA                  Jewel City Community Day   \n",
       "2238    CA                            CDS Elementary   \n",
       "\n",
       "      total_enrollment_per_year  \n",
       "0                       43696.0  \n",
       "1                       41232.0  \n",
       "2                       41072.0  \n",
       "3                       34424.0  \n",
       "4                       33688.0  \n",
       "...                         ...  \n",
       "2234                       64.0  \n",
       "2235                       56.0  \n",
       "2236                       48.0  \n",
       "2237                       40.0  \n",
       "2238                       24.0  \n",
       "\n",
       "[2239 rows x 3 columns]"
      ]
     },
     "execution_count": 18,
     "metadata": {},
     "output_type": "execute_result"
    }
   ],
   "source": [
    "%%bigquery\n",
    "select state, school, sum(total) total_enrollment_per_year \n",
    "from views.austin_enrollments_TX\n",
    "where year = 2021\n",
    "group by state, school\n",
    "union all\n",
    "select state, school, sum(total) total_enrollment_per_year \n",
    "from views.LA_enrollments_CA\n",
    "where year = 2021\n",
    "group by state, school\n",
    "order by total_enrollment_per_year desc"
   ]
  },
  {
   "cell_type": "markdown",
   "metadata": {},
   "source": [
    "**5. Creating a table of total enrollments of Austin schools in 2020 and 2021 stratified by school type (Elementary, Middle, High).**"
   ]
  },
  {
   "cell_type": "markdown",
   "metadata": {},
   "source": [
    "*First, the subquery in `from` clause creates a table with all Austin schools and their total enrollments per year startified by school type (elementary, middle, high). The schools of type 'Other' are not included. Then we aggregate the enrollment per year by school type and show in ascending order.*"
   ]
  },
  {
   "cell_type": "code",
   "execution_count": 19,
   "metadata": {},
   "outputs": [
    {
     "data": {
      "application/vnd.jupyter.widget-view+json": {
       "model_id": "2417df9f41b544a882d46bcde23a764e",
       "version_major": 2,
       "version_minor": 0
      },
      "text/plain": [
       "Query is running:   0%|          |"
      ]
     },
     "metadata": {},
     "output_type": "display_data"
    },
    {
     "data": {
      "application/vnd.jupyter.widget-view+json": {
       "model_id": "2cc6107d28fe491fb656978105f02d67",
       "version_major": 2,
       "version_minor": 0
      },
      "text/plain": [
       "Downloading:   0%|          |"
      ]
     },
     "metadata": {},
     "output_type": "display_data"
    },
    {
     "data": {
      "text/html": [
       "<div>\n",
       "<style scoped>\n",
       "    .dataframe tbody tr th:only-of-type {\n",
       "        vertical-align: middle;\n",
       "    }\n",
       "\n",
       "    .dataframe tbody tr th {\n",
       "        vertical-align: top;\n",
       "    }\n",
       "\n",
       "    .dataframe thead th {\n",
       "        text-align: right;\n",
       "    }\n",
       "</style>\n",
       "<table border=\"1\" class=\"dataframe\">\n",
       "  <thead>\n",
       "    <tr style=\"text-align: right;\">\n",
       "      <th></th>\n",
       "      <th>school_type</th>\n",
       "      <th>total_enrollment</th>\n",
       "      <th>year</th>\n",
       "    </tr>\n",
       "  </thead>\n",
       "  <tbody>\n",
       "    <tr>\n",
       "      <th>0</th>\n",
       "      <td>Middle</td>\n",
       "      <td>42128</td>\n",
       "      <td>2021</td>\n",
       "    </tr>\n",
       "    <tr>\n",
       "      <th>1</th>\n",
       "      <td>Middle</td>\n",
       "      <td>43744</td>\n",
       "      <td>2020</td>\n",
       "    </tr>\n",
       "    <tr>\n",
       "      <th>2</th>\n",
       "      <td>High</td>\n",
       "      <td>73432</td>\n",
       "      <td>2020</td>\n",
       "    </tr>\n",
       "    <tr>\n",
       "      <th>3</th>\n",
       "      <td>High</td>\n",
       "      <td>74248</td>\n",
       "      <td>2021</td>\n",
       "    </tr>\n",
       "    <tr>\n",
       "      <th>4</th>\n",
       "      <td>Elementary</td>\n",
       "      <td>159292</td>\n",
       "      <td>2021</td>\n",
       "    </tr>\n",
       "    <tr>\n",
       "      <th>5</th>\n",
       "      <td>Elementary</td>\n",
       "      <td>178840</td>\n",
       "      <td>2020</td>\n",
       "    </tr>\n",
       "  </tbody>\n",
       "</table>\n",
       "</div>"
      ],
      "text/plain": [
       "  school_type  total_enrollment  year\n",
       "0      Middle             42128  2021\n",
       "1      Middle             43744  2020\n",
       "2        High             73432  2020\n",
       "3        High             74248  2021\n",
       "4  Elementary            159292  2021\n",
       "5  Elementary            178840  2020"
      ]
     },
     "execution_count": 19,
     "metadata": {},
     "output_type": "execute_result"
    }
   ],
   "source": [
    "%%bigquery\n",
    "select school_type, sum(enrollment) as total_enrollment, year\n",
    "from\n",
    "(select a.school, a.year, sum(total) as enrollment,\n",
    "           case\n",
    "           when school like '%EL%' then 'Elementary'\n",
    "           when school like '%MIDDLE%' then 'Middle'\n",
    "           when school like '%H S%' then 'High'\n",
    "           else 'Other'\n",
    "           end school_type\n",
    "           from views.austin_enrollments_TX as a\n",
    "           group by a.school, a.year having school_type != 'Other'\n",
    "           order by school_type)\n",
    "group by school_type, year having year=2021 or year=2020\n",
    "order by total_enrollment"
   ]
  },
  {
   "cell_type": "markdown",
   "metadata": {},
   "source": [
    "*Creating a view with a previous query 5 for Data Studio*"
   ]
  },
  {
   "cell_type": "code",
   "execution_count": 1,
   "metadata": {},
   "outputs": [
    {
     "data": {
      "application/vnd.jupyter.widget-view+json": {
       "model_id": "03289d46f822461dac064301426c70ce",
       "version_major": 2,
       "version_minor": 0
      },
      "text/plain": [
       "Query is running:   0%|          |"
      ]
     },
     "metadata": {},
     "output_type": "display_data"
    },
    {
     "data": {
      "text/html": [
       "<div>\n",
       "<style scoped>\n",
       "    .dataframe tbody tr th:only-of-type {\n",
       "        vertical-align: middle;\n",
       "    }\n",
       "\n",
       "    .dataframe tbody tr th {\n",
       "        vertical-align: top;\n",
       "    }\n",
       "\n",
       "    .dataframe thead th {\n",
       "        text-align: right;\n",
       "    }\n",
       "</style>\n",
       "<table border=\"1\" class=\"dataframe\">\n",
       "  <thead>\n",
       "    <tr style=\"text-align: right;\">\n",
       "      <th></th>\n",
       "    </tr>\n",
       "  </thead>\n",
       "  <tbody>\n",
       "  </tbody>\n",
       "</table>\n",
       "</div>"
      ],
      "text/plain": [
       "Empty DataFrame\n",
       "Columns: []\n",
       "Index: []"
      ]
     },
     "execution_count": 1,
     "metadata": {},
     "output_type": "execute_result"
    }
   ],
   "source": [
    "%%bigquery\n",
    "create view views.Austin_ElMidHi as\n",
    "select school_type, sum(enrollment) as total_enrollment, year\n",
    "from\n",
    "(select a.school, a.year, sum(total) as enrollment,\n",
    "           case\n",
    "           when school like '%EL%' then 'Elementary'\n",
    "           when school like '%MIDDLE%' then 'Middle'\n",
    "           when school like '%H S%' then 'High'\n",
    "           else 'Other'\n",
    "           end school_type\n",
    "           from views.austin_enrollments_TX as a\n",
    "           group by a.school, a.year having school_type != 'Other'\n",
    "           order by school_type)\n",
    "group by school_type, year having year=2021 or year=2020\n",
    "order by total_enrollment"
   ]
  },
  {
   "cell_type": "markdown",
   "metadata": {},
   "source": [
    "**6. Creating a table of total enrollments of Brownsville schools in 2021.**"
   ]
  },
  {
   "cell_type": "code",
   "execution_count": 20,
   "metadata": {},
   "outputs": [
    {
     "data": {
      "application/vnd.jupyter.widget-view+json": {
       "model_id": "2b464ea5c7484d0e9773c93b659c6105",
       "version_major": 2,
       "version_minor": 0
      },
      "text/plain": [
       "Query is running:   0%|          |"
      ]
     },
     "metadata": {},
     "output_type": "display_data"
    },
    {
     "data": {
      "application/vnd.jupyter.widget-view+json": {
       "model_id": "3a0ba7ddecf14e44af025d8e3ea6cd8f",
       "version_major": 2,
       "version_minor": 0
      },
      "text/plain": [
       "Downloading:   0%|          |"
      ]
     },
     "metadata": {},
     "output_type": "display_data"
    },
    {
     "data": {
      "text/html": [
       "<div>\n",
       "<style scoped>\n",
       "    .dataframe tbody tr th:only-of-type {\n",
       "        vertical-align: middle;\n",
       "    }\n",
       "\n",
       "    .dataframe tbody tr th {\n",
       "        vertical-align: top;\n",
       "    }\n",
       "\n",
       "    .dataframe thead th {\n",
       "        text-align: right;\n",
       "    }\n",
       "</style>\n",
       "<table border=\"1\" class=\"dataframe\">\n",
       "  <thead>\n",
       "    <tr style=\"text-align: right;\">\n",
       "      <th></th>\n",
       "      <th>district</th>\n",
       "      <th>school</th>\n",
       "      <th>grade</th>\n",
       "      <th>year</th>\n",
       "      <th>total</th>\n",
       "    </tr>\n",
       "  </thead>\n",
       "  <tbody>\n",
       "    <tr>\n",
       "      <th>0</th>\n",
       "      <td>BROWNSVILLE ISD</td>\n",
       "      <td>CAMERON CO J J A E P</td>\n",
       "      <td>20</td>\n",
       "      <td>2021</td>\n",
       "      <td>200</td>\n",
       "    </tr>\n",
       "    <tr>\n",
       "      <th>1</th>\n",
       "      <td>BROWNSVILLE ISD</td>\n",
       "      <td>GARZA EL</td>\n",
       "      <td>28</td>\n",
       "      <td>2021</td>\n",
       "      <td>1156</td>\n",
       "    </tr>\n",
       "    <tr>\n",
       "      <th>2</th>\n",
       "      <td>BROWNSVILLE ISD</td>\n",
       "      <td>DEL CASTILLO EL</td>\n",
       "      <td>32</td>\n",
       "      <td>2021</td>\n",
       "      <td>1248</td>\n",
       "    </tr>\n",
       "    <tr>\n",
       "      <th>3</th>\n",
       "      <td>BROWNSVILLE ISD</td>\n",
       "      <td>SOUTHMOST EL</td>\n",
       "      <td>28</td>\n",
       "      <td>2021</td>\n",
       "      <td>1332</td>\n",
       "    </tr>\n",
       "    <tr>\n",
       "      <th>4</th>\n",
       "      <td>BROWNSVILLE ISD</td>\n",
       "      <td>EL JARDIN EL</td>\n",
       "      <td>28</td>\n",
       "      <td>2021</td>\n",
       "      <td>1348</td>\n",
       "    </tr>\n",
       "    <tr>\n",
       "      <th>5</th>\n",
       "      <td>BROWNSVILLE ISD</td>\n",
       "      <td>SKINNER EL</td>\n",
       "      <td>28</td>\n",
       "      <td>2021</td>\n",
       "      <td>1464</td>\n",
       "    </tr>\n",
       "    <tr>\n",
       "      <th>6</th>\n",
       "      <td>BROWNSVILLE ISD</td>\n",
       "      <td>PALM GROVE EL</td>\n",
       "      <td>28</td>\n",
       "      <td>2021</td>\n",
       "      <td>1492</td>\n",
       "    </tr>\n",
       "    <tr>\n",
       "      <th>7</th>\n",
       "      <td>BROWNSVILLE ISD</td>\n",
       "      <td>BROWNSVILLE EARLY COLLEGE H S</td>\n",
       "      <td>16</td>\n",
       "      <td>2021</td>\n",
       "      <td>1680</td>\n",
       "    </tr>\n",
       "    <tr>\n",
       "      <th>8</th>\n",
       "      <td>BROWNSVILLE ISD</td>\n",
       "      <td>VILLA NUEVA EL</td>\n",
       "      <td>32</td>\n",
       "      <td>2021</td>\n",
       "      <td>1756</td>\n",
       "    </tr>\n",
       "    <tr>\n",
       "      <th>9</th>\n",
       "      <td>BROWNSVILLE ISD</td>\n",
       "      <td>MORNINGSIDE EL</td>\n",
       "      <td>28</td>\n",
       "      <td>2021</td>\n",
       "      <td>1828</td>\n",
       "    </tr>\n",
       "    <tr>\n",
       "      <th>10</th>\n",
       "      <td>BROWNSVILLE ISD</td>\n",
       "      <td>MARTIN EL</td>\n",
       "      <td>32</td>\n",
       "      <td>2021</td>\n",
       "      <td>1844</td>\n",
       "    </tr>\n",
       "    <tr>\n",
       "      <th>11</th>\n",
       "      <td>BROWNSVILLE ISD</td>\n",
       "      <td>PENA EL</td>\n",
       "      <td>28</td>\n",
       "      <td>2021</td>\n",
       "      <td>1856</td>\n",
       "    </tr>\n",
       "    <tr>\n",
       "      <th>12</th>\n",
       "      <td>BROWNSVILLE ISD</td>\n",
       "      <td>GALLEGOS EL</td>\n",
       "      <td>28</td>\n",
       "      <td>2021</td>\n",
       "      <td>1864</td>\n",
       "    </tr>\n",
       "    <tr>\n",
       "      <th>13</th>\n",
       "      <td>BROWNSVILLE ISD</td>\n",
       "      <td>GARDEN PARK EL</td>\n",
       "      <td>28</td>\n",
       "      <td>2021</td>\n",
       "      <td>1876</td>\n",
       "    </tr>\n",
       "    <tr>\n",
       "      <th>14</th>\n",
       "      <td>BROWNSVILLE ISD</td>\n",
       "      <td>CASTANEDA EL</td>\n",
       "      <td>28</td>\n",
       "      <td>2021</td>\n",
       "      <td>2008</td>\n",
       "    </tr>\n",
       "    <tr>\n",
       "      <th>15</th>\n",
       "      <td>BROWNSVILLE ISD</td>\n",
       "      <td>BRITE EL</td>\n",
       "      <td>28</td>\n",
       "      <td>2021</td>\n",
       "      <td>2068</td>\n",
       "    </tr>\n",
       "    <tr>\n",
       "      <th>16</th>\n",
       "      <td>BROWNSVILLE ISD</td>\n",
       "      <td>PUTEGNAT EL</td>\n",
       "      <td>28</td>\n",
       "      <td>2021</td>\n",
       "      <td>2072</td>\n",
       "    </tr>\n",
       "    <tr>\n",
       "      <th>17</th>\n",
       "      <td>BROWNSVILLE ISD</td>\n",
       "      <td>CROMACK EL</td>\n",
       "      <td>32</td>\n",
       "      <td>2021</td>\n",
       "      <td>2076</td>\n",
       "    </tr>\n",
       "    <tr>\n",
       "      <th>18</th>\n",
       "      <td>BROWNSVILLE ISD</td>\n",
       "      <td>SHARP EL</td>\n",
       "      <td>28</td>\n",
       "      <td>2021</td>\n",
       "      <td>2136</td>\n",
       "    </tr>\n",
       "    <tr>\n",
       "      <th>19</th>\n",
       "      <td>BROWNSVILLE ISD</td>\n",
       "      <td>KELLER EL</td>\n",
       "      <td>32</td>\n",
       "      <td>2021</td>\n",
       "      <td>2204</td>\n",
       "    </tr>\n",
       "    <tr>\n",
       "      <th>20</th>\n",
       "      <td>BROWNSVILLE ISD</td>\n",
       "      <td>YTURRIA EL</td>\n",
       "      <td>28</td>\n",
       "      <td>2021</td>\n",
       "      <td>2204</td>\n",
       "    </tr>\n",
       "    <tr>\n",
       "      <th>21</th>\n",
       "      <td>BROWNSVILLE ISD</td>\n",
       "      <td>RUSSELL EL</td>\n",
       "      <td>28</td>\n",
       "      <td>2021</td>\n",
       "      <td>2340</td>\n",
       "    </tr>\n",
       "    <tr>\n",
       "      <th>22</th>\n",
       "      <td>BROWNSVILLE ISD</td>\n",
       "      <td>ORTIZ EL</td>\n",
       "      <td>32</td>\n",
       "      <td>2021</td>\n",
       "      <td>2380</td>\n",
       "    </tr>\n",
       "    <tr>\n",
       "      <th>23</th>\n",
       "      <td>BROWNSVILLE ISD</td>\n",
       "      <td>AIKEN EL</td>\n",
       "      <td>28</td>\n",
       "      <td>2021</td>\n",
       "      <td>2440</td>\n",
       "    </tr>\n",
       "    <tr>\n",
       "      <th>24</th>\n",
       "      <td>BROWNSVILLE ISD</td>\n",
       "      <td>PEREZ EL</td>\n",
       "      <td>32</td>\n",
       "      <td>2021</td>\n",
       "      <td>2528</td>\n",
       "    </tr>\n",
       "    <tr>\n",
       "      <th>25</th>\n",
       "      <td>BROWNSVILLE ISD</td>\n",
       "      <td>EGLY EL</td>\n",
       "      <td>32</td>\n",
       "      <td>2021</td>\n",
       "      <td>2540</td>\n",
       "    </tr>\n",
       "    <tr>\n",
       "      <th>26</th>\n",
       "      <td>BROWNSVILLE ISD</td>\n",
       "      <td>BESTEIRO MIDDLE</td>\n",
       "      <td>12</td>\n",
       "      <td>2021</td>\n",
       "      <td>2544</td>\n",
       "    </tr>\n",
       "    <tr>\n",
       "      <th>27</th>\n",
       "      <td>BROWNSVILLE ISD</td>\n",
       "      <td>BREEDEN EL</td>\n",
       "      <td>32</td>\n",
       "      <td>2021</td>\n",
       "      <td>2568</td>\n",
       "    </tr>\n",
       "    <tr>\n",
       "      <th>28</th>\n",
       "      <td>BROWNSVILLE ISD</td>\n",
       "      <td>BURNS EL</td>\n",
       "      <td>32</td>\n",
       "      <td>2021</td>\n",
       "      <td>2616</td>\n",
       "    </tr>\n",
       "    <tr>\n",
       "      <th>29</th>\n",
       "      <td>BROWNSVILLE ISD</td>\n",
       "      <td>VERMILLION ROAD EL</td>\n",
       "      <td>32</td>\n",
       "      <td>2021</td>\n",
       "      <td>2752</td>\n",
       "    </tr>\n",
       "    <tr>\n",
       "      <th>30</th>\n",
       "      <td>BROWNSVILLE ISD</td>\n",
       "      <td>HUDSON EL</td>\n",
       "      <td>32</td>\n",
       "      <td>2021</td>\n",
       "      <td>2848</td>\n",
       "    </tr>\n",
       "    <tr>\n",
       "      <th>31</th>\n",
       "      <td>BROWNSVILLE ISD</td>\n",
       "      <td>VELA MIDDLE</td>\n",
       "      <td>12</td>\n",
       "      <td>2021</td>\n",
       "      <td>2856</td>\n",
       "    </tr>\n",
       "    <tr>\n",
       "      <th>32</th>\n",
       "      <td>BROWNSVILLE ISD</td>\n",
       "      <td>CHAMPION EL</td>\n",
       "      <td>28</td>\n",
       "      <td>2021</td>\n",
       "      <td>2868</td>\n",
       "    </tr>\n",
       "    <tr>\n",
       "      <th>33</th>\n",
       "      <td>BROWNSVILLE ISD</td>\n",
       "      <td>GONZALEZ EL</td>\n",
       "      <td>28</td>\n",
       "      <td>2021</td>\n",
       "      <td>2888</td>\n",
       "    </tr>\n",
       "    <tr>\n",
       "      <th>34</th>\n",
       "      <td>BROWNSVILLE ISD</td>\n",
       "      <td>PERKINS MIDDLE</td>\n",
       "      <td>12</td>\n",
       "      <td>2021</td>\n",
       "      <td>2912</td>\n",
       "    </tr>\n",
       "    <tr>\n",
       "      <th>35</th>\n",
       "      <td>BROWNSVILLE ISD</td>\n",
       "      <td>CANALES EL</td>\n",
       "      <td>28</td>\n",
       "      <td>2021</td>\n",
       "      <td>2932</td>\n",
       "    </tr>\n",
       "    <tr>\n",
       "      <th>36</th>\n",
       "      <td>BROWNSVILLE ISD</td>\n",
       "      <td>PAREDES EL</td>\n",
       "      <td>28</td>\n",
       "      <td>2021</td>\n",
       "      <td>3188</td>\n",
       "    </tr>\n",
       "    <tr>\n",
       "      <th>37</th>\n",
       "      <td>BROWNSVILLE ISD</td>\n",
       "      <td>LUCIO MIDDLE</td>\n",
       "      <td>12</td>\n",
       "      <td>2021</td>\n",
       "      <td>3392</td>\n",
       "    </tr>\n",
       "    <tr>\n",
       "      <th>38</th>\n",
       "      <td>BROWNSVILLE ISD</td>\n",
       "      <td>PULLAM EL</td>\n",
       "      <td>32</td>\n",
       "      <td>2021</td>\n",
       "      <td>3408</td>\n",
       "    </tr>\n",
       "    <tr>\n",
       "      <th>39</th>\n",
       "      <td>BROWNSVILLE ISD</td>\n",
       "      <td>BENAVIDES EL</td>\n",
       "      <td>32</td>\n",
       "      <td>2021</td>\n",
       "      <td>3480</td>\n",
       "    </tr>\n",
       "    <tr>\n",
       "      <th>40</th>\n",
       "      <td>BROWNSVILLE ISD</td>\n",
       "      <td>STELL MIDDLE</td>\n",
       "      <td>12</td>\n",
       "      <td>2021</td>\n",
       "      <td>3544</td>\n",
       "    </tr>\n",
       "    <tr>\n",
       "      <th>41</th>\n",
       "      <td>BROWNSVILLE ISD</td>\n",
       "      <td>OLIVEIRA MIDDLE</td>\n",
       "      <td>12</td>\n",
       "      <td>2021</td>\n",
       "      <td>3552</td>\n",
       "    </tr>\n",
       "    <tr>\n",
       "      <th>42</th>\n",
       "      <td>BROWNSVILLE ISD</td>\n",
       "      <td>MANZANO MIDDLE</td>\n",
       "      <td>12</td>\n",
       "      <td>2021</td>\n",
       "      <td>3580</td>\n",
       "    </tr>\n",
       "    <tr>\n",
       "      <th>43</th>\n",
       "      <td>BROWNSVILLE ISD</td>\n",
       "      <td>FAULK MIDDLE</td>\n",
       "      <td>12</td>\n",
       "      <td>2021</td>\n",
       "      <td>4204</td>\n",
       "    </tr>\n",
       "    <tr>\n",
       "      <th>44</th>\n",
       "      <td>BROWNSVILLE ISD</td>\n",
       "      <td>GARCIA MIDDLE</td>\n",
       "      <td>12</td>\n",
       "      <td>2021</td>\n",
       "      <td>4228</td>\n",
       "    </tr>\n",
       "    <tr>\n",
       "      <th>45</th>\n",
       "      <td>BROWNSVILLE ISD</td>\n",
       "      <td>STILLMAN MIDDLE</td>\n",
       "      <td>12</td>\n",
       "      <td>2021</td>\n",
       "      <td>4508</td>\n",
       "    </tr>\n",
       "    <tr>\n",
       "      <th>46</th>\n",
       "      <td>BROWNSVILLE ISD</td>\n",
       "      <td>LOPEZ EARLY COLLEGE H S</td>\n",
       "      <td>16</td>\n",
       "      <td>2021</td>\n",
       "      <td>7688</td>\n",
       "    </tr>\n",
       "    <tr>\n",
       "      <th>47</th>\n",
       "      <td>BROWNSVILLE ISD</td>\n",
       "      <td>PORTER EARLY COLLEGE H S</td>\n",
       "      <td>16</td>\n",
       "      <td>2021</td>\n",
       "      <td>7812</td>\n",
       "    </tr>\n",
       "    <tr>\n",
       "      <th>48</th>\n",
       "      <td>BROWNSVILLE ISD</td>\n",
       "      <td>PACE EARLY COLLEGE H S</td>\n",
       "      <td>16</td>\n",
       "      <td>2021</td>\n",
       "      <td>8256</td>\n",
       "    </tr>\n",
       "    <tr>\n",
       "      <th>49</th>\n",
       "      <td>BROWNSVILLE ISD</td>\n",
       "      <td>VETERANS MEMORIAL EARLY COLLEGE H</td>\n",
       "      <td>16</td>\n",
       "      <td>2021</td>\n",
       "      <td>8368</td>\n",
       "    </tr>\n",
       "    <tr>\n",
       "      <th>50</th>\n",
       "      <td>BROWNSVILLE ISD</td>\n",
       "      <td>RIVERA EARLY COLLEGE H S</td>\n",
       "      <td>16</td>\n",
       "      <td>2021</td>\n",
       "      <td>9356</td>\n",
       "    </tr>\n",
       "    <tr>\n",
       "      <th>51</th>\n",
       "      <td>BROWNSVILLE ISD</td>\n",
       "      <td>HANNA EARLY COLLEGE H S</td>\n",
       "      <td>16</td>\n",
       "      <td>2021</td>\n",
       "      <td>9764</td>\n",
       "    </tr>\n",
       "  </tbody>\n",
       "</table>\n",
       "</div>"
      ],
      "text/plain": [
       "           district                             school  grade  year  total\n",
       "0   BROWNSVILLE ISD               CAMERON CO J J A E P     20  2021    200\n",
       "1   BROWNSVILLE ISD                           GARZA EL     28  2021   1156\n",
       "2   BROWNSVILLE ISD                    DEL CASTILLO EL     32  2021   1248\n",
       "3   BROWNSVILLE ISD                       SOUTHMOST EL     28  2021   1332\n",
       "4   BROWNSVILLE ISD                       EL JARDIN EL     28  2021   1348\n",
       "5   BROWNSVILLE ISD                         SKINNER EL     28  2021   1464\n",
       "6   BROWNSVILLE ISD                      PALM GROVE EL     28  2021   1492\n",
       "7   BROWNSVILLE ISD      BROWNSVILLE EARLY COLLEGE H S     16  2021   1680\n",
       "8   BROWNSVILLE ISD                     VILLA NUEVA EL     32  2021   1756\n",
       "9   BROWNSVILLE ISD                     MORNINGSIDE EL     28  2021   1828\n",
       "10  BROWNSVILLE ISD                          MARTIN EL     32  2021   1844\n",
       "11  BROWNSVILLE ISD                            PENA EL     28  2021   1856\n",
       "12  BROWNSVILLE ISD                        GALLEGOS EL     28  2021   1864\n",
       "13  BROWNSVILLE ISD                     GARDEN PARK EL     28  2021   1876\n",
       "14  BROWNSVILLE ISD                       CASTANEDA EL     28  2021   2008\n",
       "15  BROWNSVILLE ISD                           BRITE EL     28  2021   2068\n",
       "16  BROWNSVILLE ISD                        PUTEGNAT EL     28  2021   2072\n",
       "17  BROWNSVILLE ISD                         CROMACK EL     32  2021   2076\n",
       "18  BROWNSVILLE ISD                           SHARP EL     28  2021   2136\n",
       "19  BROWNSVILLE ISD                          KELLER EL     32  2021   2204\n",
       "20  BROWNSVILLE ISD                         YTURRIA EL     28  2021   2204\n",
       "21  BROWNSVILLE ISD                         RUSSELL EL     28  2021   2340\n",
       "22  BROWNSVILLE ISD                           ORTIZ EL     32  2021   2380\n",
       "23  BROWNSVILLE ISD                           AIKEN EL     28  2021   2440\n",
       "24  BROWNSVILLE ISD                           PEREZ EL     32  2021   2528\n",
       "25  BROWNSVILLE ISD                            EGLY EL     32  2021   2540\n",
       "26  BROWNSVILLE ISD                    BESTEIRO MIDDLE     12  2021   2544\n",
       "27  BROWNSVILLE ISD                         BREEDEN EL     32  2021   2568\n",
       "28  BROWNSVILLE ISD                           BURNS EL     32  2021   2616\n",
       "29  BROWNSVILLE ISD                 VERMILLION ROAD EL     32  2021   2752\n",
       "30  BROWNSVILLE ISD                          HUDSON EL     32  2021   2848\n",
       "31  BROWNSVILLE ISD                        VELA MIDDLE     12  2021   2856\n",
       "32  BROWNSVILLE ISD                        CHAMPION EL     28  2021   2868\n",
       "33  BROWNSVILLE ISD                        GONZALEZ EL     28  2021   2888\n",
       "34  BROWNSVILLE ISD                     PERKINS MIDDLE     12  2021   2912\n",
       "35  BROWNSVILLE ISD                         CANALES EL     28  2021   2932\n",
       "36  BROWNSVILLE ISD                         PAREDES EL     28  2021   3188\n",
       "37  BROWNSVILLE ISD                       LUCIO MIDDLE     12  2021   3392\n",
       "38  BROWNSVILLE ISD                          PULLAM EL     32  2021   3408\n",
       "39  BROWNSVILLE ISD                       BENAVIDES EL     32  2021   3480\n",
       "40  BROWNSVILLE ISD                       STELL MIDDLE     12  2021   3544\n",
       "41  BROWNSVILLE ISD                    OLIVEIRA MIDDLE     12  2021   3552\n",
       "42  BROWNSVILLE ISD                     MANZANO MIDDLE     12  2021   3580\n",
       "43  BROWNSVILLE ISD                       FAULK MIDDLE     12  2021   4204\n",
       "44  BROWNSVILLE ISD                      GARCIA MIDDLE     12  2021   4228\n",
       "45  BROWNSVILLE ISD                    STILLMAN MIDDLE     12  2021   4508\n",
       "46  BROWNSVILLE ISD            LOPEZ EARLY COLLEGE H S     16  2021   7688\n",
       "47  BROWNSVILLE ISD           PORTER EARLY COLLEGE H S     16  2021   7812\n",
       "48  BROWNSVILLE ISD             PACE EARLY COLLEGE H S     16  2021   8256\n",
       "49  BROWNSVILLE ISD  VETERANS MEMORIAL EARLY COLLEGE H     16  2021   8368\n",
       "50  BROWNSVILLE ISD           RIVERA EARLY COLLEGE H S     16  2021   9356\n",
       "51  BROWNSVILLE ISD            HANNA EARLY COLLEGE H S     16  2021   9764"
      ]
     },
     "execution_count": 20,
     "metadata": {},
     "output_type": "execute_result"
    }
   ],
   "source": [
    "%%bigquery\n",
    "select district, school, count(*) grade, year, sum(cast(replace(replace(total, \",\", \"\"), \"<\", \"\") as int64)) as total\n",
    "from school_enrollments.tx\n",
    "where year = 2021 and total != \"\" and school != \"\" and district='BROWNSVILLE ISD'\n",
    "group by district, school, year\n",
    "order by total, school, year"
   ]
  },
  {
   "cell_type": "markdown",
   "metadata": {},
   "source": [
    "**7. Creating a table showing all elementary schools and their enrollment that operated in Brownsville, TX in 2021.**"
   ]
  },
  {
   "cell_type": "code",
   "execution_count": 4,
   "metadata": {},
   "outputs": [
    {
     "data": {
      "application/vnd.jupyter.widget-view+json": {
       "model_id": "032b7aa2a6f543458e8311a38f0de9f6",
       "version_major": 2,
       "version_minor": 0
      },
      "text/plain": [
       "Query is running:   0%|          |"
      ]
     },
     "metadata": {},
     "output_type": "display_data"
    },
    {
     "data": {
      "application/vnd.jupyter.widget-view+json": {
       "model_id": "8697f15c4e754d36adc43ed2becfba68",
       "version_major": 2,
       "version_minor": 0
      },
      "text/plain": [
       "Downloading:   0%|          |"
      ]
     },
     "metadata": {},
     "output_type": "display_data"
    },
    {
     "data": {
      "text/html": [
       "<div>\n",
       "<style scoped>\n",
       "    .dataframe tbody tr th:only-of-type {\n",
       "        vertical-align: middle;\n",
       "    }\n",
       "\n",
       "    .dataframe tbody tr th {\n",
       "        vertical-align: top;\n",
       "    }\n",
       "\n",
       "    .dataframe thead th {\n",
       "        text-align: right;\n",
       "    }\n",
       "</style>\n",
       "<table border=\"1\" class=\"dataframe\">\n",
       "  <thead>\n",
       "    <tr style=\"text-align: right;\">\n",
       "      <th></th>\n",
       "      <th>school</th>\n",
       "      <th>year</th>\n",
       "      <th>total_enrollment</th>\n",
       "    </tr>\n",
       "  </thead>\n",
       "  <tbody>\n",
       "    <tr>\n",
       "      <th>0</th>\n",
       "      <td>AIKEN EL</td>\n",
       "      <td>2021</td>\n",
       "      <td>2440</td>\n",
       "    </tr>\n",
       "    <tr>\n",
       "      <th>1</th>\n",
       "      <td>BENAVIDES EL</td>\n",
       "      <td>2021</td>\n",
       "      <td>3480</td>\n",
       "    </tr>\n",
       "    <tr>\n",
       "      <th>2</th>\n",
       "      <td>BREEDEN EL</td>\n",
       "      <td>2021</td>\n",
       "      <td>2568</td>\n",
       "    </tr>\n",
       "    <tr>\n",
       "      <th>3</th>\n",
       "      <td>BRITE EL</td>\n",
       "      <td>2021</td>\n",
       "      <td>2068</td>\n",
       "    </tr>\n",
       "    <tr>\n",
       "      <th>4</th>\n",
       "      <td>BURNS EL</td>\n",
       "      <td>2021</td>\n",
       "      <td>2616</td>\n",
       "    </tr>\n",
       "    <tr>\n",
       "      <th>5</th>\n",
       "      <td>CANALES EL</td>\n",
       "      <td>2021</td>\n",
       "      <td>2932</td>\n",
       "    </tr>\n",
       "    <tr>\n",
       "      <th>6</th>\n",
       "      <td>CASTANEDA EL</td>\n",
       "      <td>2021</td>\n",
       "      <td>2008</td>\n",
       "    </tr>\n",
       "    <tr>\n",
       "      <th>7</th>\n",
       "      <td>CHAMPION EL</td>\n",
       "      <td>2021</td>\n",
       "      <td>2868</td>\n",
       "    </tr>\n",
       "    <tr>\n",
       "      <th>8</th>\n",
       "      <td>CROMACK EL</td>\n",
       "      <td>2021</td>\n",
       "      <td>2076</td>\n",
       "    </tr>\n",
       "    <tr>\n",
       "      <th>9</th>\n",
       "      <td>DEL CASTILLO EL</td>\n",
       "      <td>2021</td>\n",
       "      <td>1248</td>\n",
       "    </tr>\n",
       "    <tr>\n",
       "      <th>10</th>\n",
       "      <td>EGLY EL</td>\n",
       "      <td>2021</td>\n",
       "      <td>2540</td>\n",
       "    </tr>\n",
       "    <tr>\n",
       "      <th>11</th>\n",
       "      <td>EL JARDIN EL</td>\n",
       "      <td>2021</td>\n",
       "      <td>1348</td>\n",
       "    </tr>\n",
       "    <tr>\n",
       "      <th>12</th>\n",
       "      <td>GALLEGOS EL</td>\n",
       "      <td>2021</td>\n",
       "      <td>1864</td>\n",
       "    </tr>\n",
       "    <tr>\n",
       "      <th>13</th>\n",
       "      <td>GARDEN PARK EL</td>\n",
       "      <td>2021</td>\n",
       "      <td>1876</td>\n",
       "    </tr>\n",
       "    <tr>\n",
       "      <th>14</th>\n",
       "      <td>GARZA EL</td>\n",
       "      <td>2021</td>\n",
       "      <td>1156</td>\n",
       "    </tr>\n",
       "    <tr>\n",
       "      <th>15</th>\n",
       "      <td>GONZALEZ EL</td>\n",
       "      <td>2021</td>\n",
       "      <td>2888</td>\n",
       "    </tr>\n",
       "    <tr>\n",
       "      <th>16</th>\n",
       "      <td>HUDSON EL</td>\n",
       "      <td>2021</td>\n",
       "      <td>2848</td>\n",
       "    </tr>\n",
       "    <tr>\n",
       "      <th>17</th>\n",
       "      <td>KELLER EL</td>\n",
       "      <td>2021</td>\n",
       "      <td>2204</td>\n",
       "    </tr>\n",
       "    <tr>\n",
       "      <th>18</th>\n",
       "      <td>MARTIN EL</td>\n",
       "      <td>2021</td>\n",
       "      <td>1844</td>\n",
       "    </tr>\n",
       "    <tr>\n",
       "      <th>19</th>\n",
       "      <td>MORNINGSIDE EL</td>\n",
       "      <td>2021</td>\n",
       "      <td>1828</td>\n",
       "    </tr>\n",
       "    <tr>\n",
       "      <th>20</th>\n",
       "      <td>ORTIZ EL</td>\n",
       "      <td>2021</td>\n",
       "      <td>2380</td>\n",
       "    </tr>\n",
       "    <tr>\n",
       "      <th>21</th>\n",
       "      <td>PALM GROVE EL</td>\n",
       "      <td>2021</td>\n",
       "      <td>1492</td>\n",
       "    </tr>\n",
       "    <tr>\n",
       "      <th>22</th>\n",
       "      <td>PAREDES EL</td>\n",
       "      <td>2021</td>\n",
       "      <td>3188</td>\n",
       "    </tr>\n",
       "    <tr>\n",
       "      <th>23</th>\n",
       "      <td>PENA EL</td>\n",
       "      <td>2021</td>\n",
       "      <td>1856</td>\n",
       "    </tr>\n",
       "    <tr>\n",
       "      <th>24</th>\n",
       "      <td>PEREZ EL</td>\n",
       "      <td>2021</td>\n",
       "      <td>2528</td>\n",
       "    </tr>\n",
       "    <tr>\n",
       "      <th>25</th>\n",
       "      <td>PULLAM EL</td>\n",
       "      <td>2021</td>\n",
       "      <td>3408</td>\n",
       "    </tr>\n",
       "    <tr>\n",
       "      <th>26</th>\n",
       "      <td>PUTEGNAT EL</td>\n",
       "      <td>2021</td>\n",
       "      <td>2072</td>\n",
       "    </tr>\n",
       "    <tr>\n",
       "      <th>27</th>\n",
       "      <td>RUSSELL EL</td>\n",
       "      <td>2021</td>\n",
       "      <td>2340</td>\n",
       "    </tr>\n",
       "    <tr>\n",
       "      <th>28</th>\n",
       "      <td>SHARP EL</td>\n",
       "      <td>2021</td>\n",
       "      <td>2136</td>\n",
       "    </tr>\n",
       "    <tr>\n",
       "      <th>29</th>\n",
       "      <td>SKINNER EL</td>\n",
       "      <td>2021</td>\n",
       "      <td>1464</td>\n",
       "    </tr>\n",
       "    <tr>\n",
       "      <th>30</th>\n",
       "      <td>SOUTHMOST EL</td>\n",
       "      <td>2021</td>\n",
       "      <td>1332</td>\n",
       "    </tr>\n",
       "    <tr>\n",
       "      <th>31</th>\n",
       "      <td>VERMILLION ROAD EL</td>\n",
       "      <td>2021</td>\n",
       "      <td>2752</td>\n",
       "    </tr>\n",
       "    <tr>\n",
       "      <th>32</th>\n",
       "      <td>VILLA NUEVA EL</td>\n",
       "      <td>2021</td>\n",
       "      <td>1756</td>\n",
       "    </tr>\n",
       "    <tr>\n",
       "      <th>33</th>\n",
       "      <td>YTURRIA EL</td>\n",
       "      <td>2021</td>\n",
       "      <td>2204</td>\n",
       "    </tr>\n",
       "  </tbody>\n",
       "</table>\n",
       "</div>"
      ],
      "text/plain": [
       "                school  year  total_enrollment\n",
       "0             AIKEN EL  2021              2440\n",
       "1         BENAVIDES EL  2021              3480\n",
       "2           BREEDEN EL  2021              2568\n",
       "3             BRITE EL  2021              2068\n",
       "4             BURNS EL  2021              2616\n",
       "5           CANALES EL  2021              2932\n",
       "6         CASTANEDA EL  2021              2008\n",
       "7          CHAMPION EL  2021              2868\n",
       "8           CROMACK EL  2021              2076\n",
       "9      DEL CASTILLO EL  2021              1248\n",
       "10             EGLY EL  2021              2540\n",
       "11        EL JARDIN EL  2021              1348\n",
       "12         GALLEGOS EL  2021              1864\n",
       "13      GARDEN PARK EL  2021              1876\n",
       "14            GARZA EL  2021              1156\n",
       "15         GONZALEZ EL  2021              2888\n",
       "16           HUDSON EL  2021              2848\n",
       "17           KELLER EL  2021              2204\n",
       "18           MARTIN EL  2021              1844\n",
       "19      MORNINGSIDE EL  2021              1828\n",
       "20            ORTIZ EL  2021              2380\n",
       "21       PALM GROVE EL  2021              1492\n",
       "22          PAREDES EL  2021              3188\n",
       "23             PENA EL  2021              1856\n",
       "24            PEREZ EL  2021              2528\n",
       "25           PULLAM EL  2021              3408\n",
       "26         PUTEGNAT EL  2021              2072\n",
       "27          RUSSELL EL  2021              2340\n",
       "28            SHARP EL  2021              2136\n",
       "29          SKINNER EL  2021              1464\n",
       "30        SOUTHMOST EL  2021              1332\n",
       "31  VERMILLION ROAD EL  2021              2752\n",
       "32      VILLA NUEVA EL  2021              1756\n",
       "33          YTURRIA EL  2021              2204"
      ]
     },
     "execution_count": 4,
     "metadata": {},
     "output_type": "execute_result"
    }
   ],
   "source": [
    "%%bigquery\n",
    "select school, year, sum(total) as total_enrollment\n",
    "from views.brownsville_enrollments_TX\n",
    "where year = 2021\n",
    "group by school, year\n",
    "having school like '% EL%'\n",
    "order by year"
   ]
  },
  {
   "cell_type": "markdown",
   "metadata": {},
   "source": [
    "*Creating a view with a previous query 7 for Data Studio*"
   ]
  },
  {
   "cell_type": "code",
   "execution_count": 5,
   "metadata": {},
   "outputs": [
    {
     "data": {
      "application/vnd.jupyter.widget-view+json": {
       "model_id": "32664404c98c4a3992559514b20db6fd",
       "version_major": 2,
       "version_minor": 0
      },
      "text/plain": [
       "Query is running:   0%|          |"
      ]
     },
     "metadata": {},
     "output_type": "display_data"
    },
    {
     "data": {
      "text/html": [
       "<div>\n",
       "<style scoped>\n",
       "    .dataframe tbody tr th:only-of-type {\n",
       "        vertical-align: middle;\n",
       "    }\n",
       "\n",
       "    .dataframe tbody tr th {\n",
       "        vertical-align: top;\n",
       "    }\n",
       "\n",
       "    .dataframe thead th {\n",
       "        text-align: right;\n",
       "    }\n",
       "</style>\n",
       "<table border=\"1\" class=\"dataframe\">\n",
       "  <thead>\n",
       "    <tr style=\"text-align: right;\">\n",
       "      <th></th>\n",
       "    </tr>\n",
       "  </thead>\n",
       "  <tbody>\n",
       "  </tbody>\n",
       "</table>\n",
       "</div>"
      ],
      "text/plain": [
       "Empty DataFrame\n",
       "Columns: []\n",
       "Index: []"
      ]
     },
     "execution_count": 5,
     "metadata": {},
     "output_type": "execute_result"
    }
   ],
   "source": [
    "%%bigquery\n",
    "create view views.Brownsville_El as\n",
    "select school, year, sum(total) as total_enrollment\n",
    "from views.brownsville_enrollments_TX\n",
    "where year = 2021\n",
    "group by school, year\n",
    "having school like '% EL%'\n",
    "order by year"
   ]
  },
  {
   "cell_type": "markdown",
   "metadata": {},
   "source": [
    "**8. Creating a table showing how many schools CA, PA, and TX had operating in 2020 and 2021.**"
   ]
  },
  {
   "cell_type": "code",
   "execution_count": 1,
   "metadata": {},
   "outputs": [
    {
     "data": {
      "application/vnd.jupyter.widget-view+json": {
       "model_id": "38a04c091a784fa085087ef51726ce24",
       "version_major": 2,
       "version_minor": 0
      },
      "text/plain": [
       "Query is running:   0%|          |"
      ]
     },
     "metadata": {},
     "output_type": "display_data"
    },
    {
     "data": {
      "application/vnd.jupyter.widget-view+json": {
       "model_id": "ade2f1b585e8439da5037a29f7e40615",
       "version_major": 2,
       "version_minor": 0
      },
      "text/plain": [
       "Downloading:   0%|          |"
      ]
     },
     "metadata": {},
     "output_type": "display_data"
    },
    {
     "data": {
      "text/html": [
       "<div>\n",
       "<style scoped>\n",
       "    .dataframe tbody tr th:only-of-type {\n",
       "        vertical-align: middle;\n",
       "    }\n",
       "\n",
       "    .dataframe tbody tr th {\n",
       "        vertical-align: top;\n",
       "    }\n",
       "\n",
       "    .dataframe thead th {\n",
       "        text-align: right;\n",
       "    }\n",
       "</style>\n",
       "<table border=\"1\" class=\"dataframe\">\n",
       "  <thead>\n",
       "    <tr style=\"text-align: right;\">\n",
       "      <th></th>\n",
       "      <th>state</th>\n",
       "      <th>year</th>\n",
       "      <th>schools</th>\n",
       "    </tr>\n",
       "  </thead>\n",
       "  <tbody>\n",
       "    <tr>\n",
       "      <th>0</th>\n",
       "      <td>CA</td>\n",
       "      <td>2020</td>\n",
       "      <td>8769</td>\n",
       "    </tr>\n",
       "    <tr>\n",
       "      <th>1</th>\n",
       "      <td>CA</td>\n",
       "      <td>2021</td>\n",
       "      <td>8747</td>\n",
       "    </tr>\n",
       "    <tr>\n",
       "      <th>2</th>\n",
       "      <td>PA</td>\n",
       "      <td>2021</td>\n",
       "      <td>3188</td>\n",
       "    </tr>\n",
       "    <tr>\n",
       "      <th>3</th>\n",
       "      <td>PA</td>\n",
       "      <td>2020</td>\n",
       "      <td>3223</td>\n",
       "    </tr>\n",
       "    <tr>\n",
       "      <th>4</th>\n",
       "      <td>TX</td>\n",
       "      <td>2021</td>\n",
       "      <td>7982</td>\n",
       "    </tr>\n",
       "    <tr>\n",
       "      <th>5</th>\n",
       "      <td>TX</td>\n",
       "      <td>2020</td>\n",
       "      <td>7969</td>\n",
       "    </tr>\n",
       "  </tbody>\n",
       "</table>\n",
       "</div>"
      ],
      "text/plain": [
       "  state  year  schools\n",
       "0    CA  2020     8769\n",
       "1    CA  2021     8747\n",
       "2    PA  2021     3188\n",
       "3    PA  2020     3223\n",
       "4    TX  2021     7982\n",
       "5    TX  2020     7969"
      ]
     },
     "execution_count": 1,
     "metadata": {},
     "output_type": "execute_result"
    }
   ],
   "source": [
    "%%bigquery\n",
    "select state, year, count(DISTINCT school) as schools\n",
    "from school_enrollments.tx\n",
    "group by year, state\n",
    "union all\n",
    "select state, year, COUNT(DISTINCT school)\n",
    "from school_enrollments.ca\n",
    "group by year, state\n",
    "union all\n",
    "select state, year, COUNT(DISTINCT school)\n",
    "from school_enrollments.pa\n",
    "group by year, state\n",
    "order by state\n",
    "\n"
   ]
  },
  {
   "cell_type": "code",
   "execution_count": null,
   "metadata": {},
   "outputs": [],
   "source": []
  }
 ],
 "metadata": {
  "environment": {
   "kernel": "python3",
   "name": "common-cpu.m103",
   "type": "gcloud",
   "uri": "gcr.io/deeplearning-platform-release/base-cpu:m103"
  },
  "kernelspec": {
   "display_name": "Python 3",
   "language": "python",
   "name": "python3"
  },
  "language_info": {
   "codemirror_mode": {
    "name": "ipython",
    "version": 3
   },
   "file_extension": ".py",
   "mimetype": "text/x-python",
   "name": "python",
   "nbconvert_exporter": "python",
   "pygments_lexer": "ipython3",
   "version": "3.7.12"
  }
 },
 "nbformat": 4,
 "nbformat_minor": 4
}
