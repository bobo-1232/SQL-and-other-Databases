{
 "cells": [
  {
   "cell_type": "code",
   "execution_count": 1,
   "id": "c9ac591b-05d0-436a-a06a-c03425719547",
   "metadata": {},
   "outputs": [
    {
     "name": "stdout",
     "output_type": "stream",
     "text": [
      "env: BASE_DIR=/home/jupyter/fs_shopify\n"
     ]
    }
   ],
   "source": [
    "%env BASE_DIR=/home/jupyter/fs_shopify"
   ]
  },
  {
   "cell_type": "code",
   "execution_count": 2,
   "id": "a0844c31-c1b6-4b6a-b456-979e2f5a1472",
   "metadata": {},
   "outputs": [
    {
     "name": "stdout",
     "output_type": "stream",
     "text": [
      "Copying gs://cs327e-open-access-2/shopify.zip...\n",
      "/ [1 files][  3.2 MiB/  3.2 MiB]                                                \n",
      "Operation completed over 1 objects/3.2 MiB.                                      \n"
     ]
    }
   ],
   "source": [
    "!gsutil cp gs://cs327e-open-access-2/shopify.zip $BASE_DIR"
   ]
  },
  {
   "cell_type": "code",
   "execution_count": null,
   "id": "17f36b76-879e-4e10-bd0f-dcc504073f64",
   "metadata": {},
   "outputs": [
    {
     "name": "stdout",
     "output_type": "stream",
     "text": [
      "Archive:  /home/jupyter/fs_shopify/shopify.zip\n",
      "replace __MACOSX/._shopify? [y]es, [n]o, [A]ll, [N]one, [r]ename: "
     ]
    }
   ],
   "source": [
    "!unzip $BASE_DIR/shopify.zip"
   ]
  },
  {
   "cell_type": "code",
   "execution_count": 1,
   "id": "018035f6-d441-47d5-87ce-23f667e3f78c",
   "metadata": {},
   "outputs": [],
   "source": [
    "import pandas as pd\n",
    "from google.cloud import firestore\n",
    "db = firestore.Client()\n",
    "batch = db.batch()"
   ]
  },
  {
   "cell_type": "code",
   "execution_count": null,
   "id": "b1adde50-5844-4ec4-8990-5bad5a4497c4",
   "metadata": {},
   "outputs": [],
   "source": [
    "import pandas as pd\n",
    "from google.cloud import firestore\n",
    "db = firestore.Client()\n",
    "batch = db.batch()\n",
    "\n",
    "df = pd.read_csv('shopify/categories.csv', sep=',', header=0, lineterminator='\\n')\n",
    "rows = df.values.tolist()\n",
    "\n",
    "for row in rows:\n",
    "    print(row)"
   ]
  },
  {
   "cell_type": "markdown",
   "id": "4186c0f6-36ee-44ca-b6cc-e5b617e4c77d",
   "metadata": {},
   "source": [
    "## 1. Creating Category Collection - Access Pattern #1"
   ]
  },
  {
   "cell_type": "code",
   "execution_count": null,
   "id": "a340c1bc-8400-42a1-ae54-4c214a492c02",
   "metadata": {},
   "outputs": [],
   "source": [
    "import pandas as pd\n",
    "from google.cloud import firestore\n",
    "db = firestore.Client()\n",
    "batch = db.batch()\n",
    "\n",
    "df = pd.read_csv('shopify/apps_categories.csv', sep=',', header=0, lineterminator='\\n')\n",
    "apps_cat_rows = df.values.tolist()\n",
    "\n",
    "df = pd.read_csv('shopify/categories.csv', sep=',', header=0, lineterminator='\\n')\n",
    "cat_rows = df.values.tolist()\n",
    "\n",
    "df = pd.read_csv('shopify/apps.csv', sep=',', header=0, lineterminator='\\n')\n",
    "apps_rows = df.values.tolist()\n",
    "\n",
    "# main collection Category\n",
    "for cat_row in cat_rows:\n",
    "    cat_record = {}\n",
    "    current_cat = cat_row[0]\n",
    "    cat_record['cat_id'] = cat_row[0]\n",
    "    cat_record['title'] = cat_row[1]\n",
    "\n",
    "    cat_ref = db.collection('Category').document(cat_row[1])\n",
    "    batch.set(cat_ref, cat_record)\n",
    "    batch.commit()\n",
    "\n",
    "    # for each cat_id/title finding suitable app_ids\n",
    "    for apps_cat_row in  apps_cat_rows:\n",
    "        if apps_cat_row[1] == current_cat: #cat_row[0]\n",
    "            #appid = app_cat_row[0]\n",
    "        #creating a dict (doc) for the matching app_id\n",
    "            for apps_row in apps_rows:\n",
    "                if apps_row[0] == apps_cat_row[0]:\n",
    "                    app_record = {}\n",
    "                    app_record['app_id'] = apps_row[0]\n",
    "                    app_record['url'] = apps_row[1]\n",
    "                    app_record['app_title'] = apps_row[2]\n",
    "                    app_record['developer'] = apps_row[3]\n",
    "                    app_record['developer_link'] = apps_row[4]\n",
    "                    app_record['icon'] = apps_row[5]\n",
    "                    app_record['rating'] = apps_row[6]\n",
    "                    app_record['reviews_count'] = apps_row[7]\n",
    "\n",
    "                    app_ref = cat_ref.collection('Apps').document(apps_row[0])\n",
    "                    batch.set(app_ref, app_record)\n",
    "                    batch.commit()\n",
    "                    break\n",
    "                    "
   ]
  },
  {
   "cell_type": "markdown",
   "id": "266bc360-b245-4b5f-bdc6-706237ce2f58",
   "metadata": {},
   "source": [
    "## 2. Queries related to Access Pattern #1"
   ]
  },
  {
   "cell_type": "code",
   "execution_count": 2,
   "id": "24869da7-72f5-4721-925b-7f272ec173d7",
   "metadata": {},
   "outputs": [
    {
     "name": "stdout",
     "output_type": "stream",
     "text": [
      "Reporting => {'cat_id': 'c576a841fd4f333a6f074d68e76a1d37', 'title': 'Reporting'}\n"
     ]
    }
   ],
   "source": [
    "cat_ref = db.collection('Category')\n",
    "query = cat_ref.where('title', '==', 'Reporting')\n",
    "results = query.stream()\n",
    "\n",
    "for result in results:\n",
    "    print(f'{result.id} => {result.to_dict()}')"
   ]
  },
  {
   "cell_type": "markdown",
   "id": "ee3d0d15-bac6-401a-bc42-df9b99625e61",
   "metadata": {
    "tags": []
   },
   "source": [
    "#### 2a. Counts of documents in collections and subcollections (Access Pattern #1).\n",
    "*Notice, # of apps in Apps subcollection is not the same as in Apps collection bc apps in the subcollection are not unique, may be included in several categories*"
   ]
  },
  {
   "cell_type": "code",
   "execution_count": 3,
   "id": "88c6bb5b-362d-4f9a-9c08-25bf31e2c2bf",
   "metadata": {},
   "outputs": [
    {
     "name": "stdout",
     "output_type": "stream",
     "text": [
      "Category collection: 12\n"
     ]
    }
   ],
   "source": [
    "count_Category = db.collection_group('Category')\n",
    "results = count_Category.stream()\n",
    "n = 0\n",
    "for line in results:\n",
    "    sub = db.collection('Category').document('Apps')\n",
    "    #print(f'{line.id} => {line.to_dict()}')\n",
    "    n += 1\n",
    "print('Category collection:', n)\n"
   ]
  },
  {
   "cell_type": "code",
   "execution_count": 4,
   "id": "e370ae11-d049-4f4a-baa2-5adb1dfe498b",
   "metadata": {},
   "outputs": [
    {
     "name": "stdout",
     "output_type": "stream",
     "text": [
      "Category \"Customer support\" Apps number: 310\n",
      "Category \"Finances\" Apps number: 133\n",
      "Category \"Finding and adding products\" Apps number: 176\n",
      "Category \"Inventory management\" Apps number: 251\n",
      "Category \"Marketing\" Apps number: 794\n",
      "Category \"Orders and shipping\" Apps number: 602\n",
      "Category \"Places to sell\" Apps number: 83\n",
      "Category \"Productivity\" Apps number: 190\n",
      "Category \"Reporting\" Apps number: 249\n",
      "Category \"Sales and conversion optimization\" Apps number: 957\n",
      "Category \"Store design\" Apps number: 1537\n",
      "Category \"Trust and security\" Apps number: 101\n",
      "Apps subcollection Total: 5383\n"
     ]
    }
   ],
   "source": [
    "n = 0\n",
    "cat_ref = db.collection('Category')\n",
    "main_coll = cat_ref.stream()\n",
    "for el in main_coll:\n",
    "    k = 0\n",
    "    subs = cat_ref.document(el.id).collection('Apps').stream()\n",
    "    for sub in subs:\n",
    "        n += 1\n",
    "        k += 1\n",
    "    print(f'Category \"{el.id}\" Apps number:', k)    \n",
    "print('Apps subcollection Total:', n)"
   ]
  },
  {
   "cell_type": "code",
   "execution_count": 13,
   "id": "4642bf6f-da81-499a-b147-fbb486d9f4d3",
   "metadata": {},
   "outputs": [
    {
     "name": "stdout",
     "output_type": "stream",
     "text": [
      "Customer support => 64430ad2835be8ad60c59e7d44e4b0b1\n",
      "Finances => 26a72de0d02e0e4e5f615332d61a878e\n",
      "Finding and adding products => bd125b49ce6b0425d29e33cb8b49a496\n",
      "Inventory management => 9fe78acd078fc030de72c896adc93a2d\n",
      "Marketing => c769c2bd15500dd906102d9be97fdceb\n",
      "Orders and shipping => 30ea2315e910c5e5335de42d5e87dca5\n",
      "Places to sell => 30a930262efca129caafcd586bc7e6fe\n",
      "Productivity => 737ad50051083aa051d127a53b3ac0da\n",
      "Reporting => c576a841fd4f333a6f074d68e76a1d37\n",
      "Sales and conversion optimization => 5eb4e29e50e3f178acc614236ed107f4\n",
      "Store design => c3f9db73c29bc33607778f9935c3c4dc\n",
      "Trust and security => e44cd5379a3166568741a07cc81ef6e5\n"
     ]
    }
   ],
   "source": [
    "cat_ref = db.collection('Category')\n",
    "query = cat_ref\n",
    "results = query.stream()\n",
    "for result in results:\n",
    "    cat = result.to_dict()\n",
    "    print(f'{result.id} =>', '{}'.format(cat['cat_id']))"
   ]
  },
  {
   "cell_type": "markdown",
   "id": "67901076-fad1-491f-9cb2-02b00901c68e",
   "metadata": {
    "tags": []
   },
   "source": [
    "#### 2b. Top 10 Productivity apps by rating in descending order."
   ]
  },
  {
   "cell_type": "code",
   "execution_count": 14,
   "id": "1d3370c7-7117-43b7-834c-ef5c7ec12784",
   "metadata": {},
   "outputs": [
    {
     "name": "stdout",
     "output_type": "stream",
     "text": [
      "Top 10 Productivity Category Apps:\n",
      "ID: fe5ae45c-379c-42bf-be7d-b5f6e15fc13c => title: \"Customer Tags\", developer: Union Works Apps, rating: 5.0, reviews count: 21\n",
      "ID: f99bb1e3-f326-4f10-8901-491652e9809b => title: \"Order Tagger\", developer: Union Works Apps, rating: 5.0, reviews count: 68\n",
      "ID: f864e3bd-da0e-41dc-be65-984325331475 => title: \"SilkRoad ‑ Facebook Auto Ads\", developer: SilkRoad, rating: 5.0, reviews count: 2\n",
      "ID: f5344e64-9cda-4d97-b198-2aaeb5170518 => title: \"Xporter Data Export Tool\", developer: Modd Apps Inc., rating: 5.0, reviews count: 223\n",
      "ID: ed77a32d-0fa3-458b-b639-e01ea7b78ec0 => title: \"FraudBlock Fraud Prevention\", developer: ShopFox, rating: 5.0, reviews count: 6\n",
      "ID: e0e231d6-4988-4a8c-ad84-cf18d0f38738 => title: \"Automation Fox\", developer: Automation Fox, rating: 5.0, reviews count: 1\n",
      "ID: d75fa395-3a4d-41c3-88d1-2f802c1e2411 => title: \"AirPower\", developer: BaseGenius, rating: 5.0, reviews count: 1\n",
      "ID: d0be03ff-f74d-4fb5-8d2c-79541a1aea1b => title: \"Excelify\", developer: Excelify.io, rating: 5.0, reviews count: 178\n",
      "ID: c9a86f8c-817e-4bb5-bbdd-e0e669bd7816 => title: \"UPC Code Manager\", developer: Ventures & Adventures, rating: 5.0, reviews count: 1\n",
      "ID: c7578030-19fd-42e1-a5a5-03c7861220aa => title: \"EzySlips ‑ Shipping Automation\", developer: Onjection Labs, rating: 5.0, reviews count: 219\n"
     ]
    }
   ],
   "source": [
    "cat_ref = db.collection('Category')\n",
    "query = cat_ref.document('Productivity').collection('Apps').order_by('rating', direction=firestore.Query.DESCENDING).limit(10)\n",
    "results = query.stream()\n",
    "print('Top 10 Productivity Category Apps:')\n",
    "for result in results:\n",
    "    sub = result.to_dict()\n",
    "    print(f'ID: {result.id} =>', 'title: \"{}\", developer: {}, rating: {}, reviews count: {}'.\\\n",
    "          format(sub['app_title'], sub['developer'], sub['rating'], sub['reviews_count']))\n",
    "    "
   ]
  },
  {
   "cell_type": "markdown",
   "id": "a526abb4-06a4-4cac-88f0-443ffeaf9e80",
   "metadata": {},
   "source": [
    "## 3. Creating Apps Collection - Access Pattern #2,3,4"
   ]
  },
  {
   "cell_type": "code",
   "execution_count": 5,
   "id": "962ae1f5-3700-4f0b-be29-2466077b677a",
   "metadata": {},
   "outputs": [],
   "source": [
    "## Olga's Copy\n",
    "import pandas as pd\n",
    "from google.cloud import firestore\n",
    "db = firestore.Client()\n",
    "batch = db.batch()\n",
    "\n",
    "df = pd.read_csv('shopify/apps.csv', sep=',', header=0, lineterminator='\\n')\n",
    "apps_rows = df.values.tolist()\n",
    "\n",
    "df = pd.read_csv('shopify/pricing_plans.csv', sep=',', header=0, lineterminator='\\n')\n",
    "price_plans = df.values.tolist()\n",
    "\n",
    "df = pd.read_csv('shopify/pricing_plan_features.csv', sep=',', header=0, lineterminator='\\n')\n",
    "price_feats = df.values.tolist()\n",
    "\n",
    "df = pd.read_csv('shopify/key_benefits.csv', sep=',', header=0, lineterminator='\\n')\n",
    "key_bens = df.values.tolist()\n",
    "\n",
    "# main collection Apps\n",
    "for apps_row in apps_rows:\n",
    "    app_record = {}\n",
    "    app_record['app_id'] = apps_row[0]\n",
    "    app_record['url'] = apps_row[1]\n",
    "    app_record['app_title'] = apps_row[2]\n",
    "    app_record['developer'] = apps_row[3]\n",
    "    app_record['developer_link'] = apps_row[4]\n",
    "    app_record['icon'] = apps_row[5]\n",
    "    app_record['rating'] = apps_row[6]\n",
    "    app_record['reviews_count'] = apps_row[7]\n",
    "\n",
    "    app_ref = db.collection('Apps').document(apps_row[0])\n",
    "    batch.set(app_ref, app_record)\n",
    "    batch.commit()\n",
    "\n",
    "    #For each app adding the key benefits\n",
    "    for key_ben in key_bens:\n",
    "        if key_ben[0] == apps_row[0]:\n",
    "            key_record = {}\n",
    "            key_record['title'] = key_ben[1]\n",
    "            key_record['description'] = key_ben[2]\n",
    "\n",
    "            key_ref = app_ref.collection('Key_Benefits').document()\n",
    "            batch.set(key_ref, key_record)\n",
    "            batch.commit()\n",
    "    \n",
    "    #For each app adding the pricing plans\n",
    "    for price_plan in price_plans:\n",
    "        if price_plan[1] == apps_row[0]:           \n",
    "            price_record = {}\n",
    "            price_record['plan_id'] = price_plan[0]\n",
    "            price_record['title'] = price_plan[2]\n",
    "            price_record['price'] = price_plan[3]\n",
    "\n",
    "            price_ref = app_ref.collection('Pricing_Plans').document(price_plan[0])\n",
    "            batch.set(price_ref, price_record)\n",
    "            batch.commit()\n",
    "            \n",
    "            #For each pricing plan adding the features\n",
    "            for feat in price_feats:\n",
    "                if feat[0] == price_plan[0]:\n",
    "                    price_feat = {}\n",
    "                    price_feat['feature'] = feat[2]\n",
    "\n",
    "                    feat_ref = price_ref.collection('Features').document()\n",
    "                    batch.set(feat_ref, price_feat)\n",
    "                    batch.commit()\n",
    "                    \n",
    "            "
   ]
  },
  {
   "cell_type": "markdown",
   "id": "0c213a66-967b-4250-9878-6f1c820224e4",
   "metadata": {
    "tags": []
   },
   "source": [
    "## 4. Queries related to Access Pattern #2, 3, 4"
   ]
  },
  {
   "cell_type": "code",
   "execution_count": 6,
   "id": "3cc8423a-f492-4839-becf-c60f68565f74",
   "metadata": {},
   "outputs": [
    {
     "name": "stdout",
     "output_type": "stream",
     "text": [
      "c187acf3-1104-4620-aa00-ca9506ad7ce5 => Live Chat for Slack, rating: 4.2\n"
     ]
    }
   ],
   "source": [
    "import pandas as pd\n",
    "from google.cloud import firestore\n",
    "db = firestore.Client()\n",
    "batch = db.batch()\n",
    "\n",
    "app_ref = db.collection('Apps')\n",
    "query = app_ref.where('app_title', '==', 'Live Chat for Slack')\n",
    "results = query.stream()\n",
    "\n",
    "for result in results:\n",
    "    app = result.to_dict()\n",
    "    print(f'{result.id} =>', '{}, rating: {}'.format(app['app_title'], app['rating']) )\n"
   ]
  },
  {
   "cell_type": "markdown",
   "id": "c68c08c1-4e57-46e5-a383-6158bbf95c15",
   "metadata": {},
   "source": [
    "#### 4a. Counts of documents in collections and subcollections (Access Pattern #2, 3, 4)."
   ]
  },
  {
   "cell_type": "code",
   "execution_count": null,
   "id": "58df1921-e8ba-473a-8bad-57d8ae77b776",
   "metadata": {},
   "outputs": [
    {
     "name": "stdout",
     "output_type": "stream",
     "text": [
      "Apps Collection Total: 3547\n",
      "Pricing_Plans Subcollection Total: 6275\n",
      "Key_Benefits Subcollection Total: 9541\n"
     ]
    }
   ],
   "source": [
    "import pandas as pd\n",
    "from google.cloud import firestore\n",
    "db = firestore.Client()\n",
    "batch = db.batch()\n",
    "\n",
    "# commented lines are counting and printing pricing plans per each app. Does not make sense printing as there are 3K+ apps\n",
    "# same approach can be used for other sub-subcollections.\n",
    "apps_num = 0\n",
    "n = 0\n",
    "m = 0\n",
    "p = 0\n",
    "app_ref = db.collection('Apps')\n",
    "main_coll = app_ref.stream()\n",
    "for el in main_coll:\n",
    "    apps_num += 1\n",
    "    #k = 0\n",
    "    prices = app_ref.document(el.id).collection('Pricing_Plans').stream()\n",
    "    for price in prices:\n",
    "        n += 1        \n",
    "        #k += 1\n",
    "    #print(f'App \"{el.id}\" Pricing Plans:', k)\n",
    "    benefits = app_ref.document(el.id).collection('Key_Benefits').stream()\n",
    "    for ben in benefits:\n",
    "        m += 1\n",
    "        \n",
    "print('Apps Collection Total:', apps_num)        \n",
    "print('Pricing_Plans Subcollection Total:', n)\n",
    "print('Key_Benefits Subcollection Total:', m)"
   ]
  },
  {
   "cell_type": "code",
   "execution_count": 8,
   "id": "53e7bf99-c6e5-4ff5-8173-3ca3211c79dc",
   "metadata": {},
   "outputs": [
    {
     "name": "stdout",
     "output_type": "stream",
     "text": [
      "Features Subcollection Total: 16270\n"
     ]
    }
   ],
   "source": [
    "#Counting features\n",
    "f_count = 0\n",
    "for app_ref in db.collection('Apps').list_documents():\n",
    "    for price_ref in app_ref.collection('Pricing_Plans').list_documents():\n",
    "        f_count += price_ref.collection('Features').count().get()[0][0].value\n",
    "print('Features Subcollection Total:', f_count)"
   ]
  },
  {
   "cell_type": "markdown",
   "id": "9fe54adf-0d29-4567-ab9a-75b5a670487f",
   "metadata": {},
   "source": [
    "#### 4b. Top 10 apps with the highest number of reviews"
   ]
  },
  {
   "cell_type": "code",
   "execution_count": 29,
   "id": "93bf2209-05ac-4922-ba11-18f9578b8170",
   "metadata": {},
   "outputs": [
    {
     "name": "stdout",
     "output_type": "stream",
     "text": [
      "Top 10 apps with the highest number of reviews\n",
      "ID: d9f142ee-b141-4dc4-9353-173db61d2eb0 => Title: Privy ‑ Exit Pop Ups & Email, Developer: Privy, Rating: 4.7, Reviews_count: 23078\n",
      "ID: 78ea0810-c008-4a4e-a82f-de0c790e3286 => Title: Free Shipping Bar, Developer: Hextom, Rating: 4.9, Reviews_count: 8737\n",
      "ID: b88488b0-9912-44d3-b736-224c36f09d95 => Title: Sales Pop ‑ Popup Notification, Developer: CartKit, Rating: 4.8, Reviews_count: 6905\n",
      "ID: e528a60e-94f8-4e92-80e2-5bc6013b8283 => Title: BEST Currency Converter, Developer: Grizzly Apps, Rating: 4.8, Reviews_count: 5986\n",
      "ID: be2640c4-01b5-4d52-9f68-cae8c0734d0d => Title: Recart FB Messenger Marketing, Developer: Recart, Rating: 4.8, Reviews_count: 5596\n",
      "ID: 70bff9e0-4316-4cc6-84ce-92fcd1bc6925 => Title: EU Cookie Bar ‑ Cookie GDPR, Developer: Booster Apps, Rating: 4.7, Reviews_count: 5259\n",
      "ID: 171816e2-27d4-4552-a65e-ab44a312fe04 => Title: Sales Pop Master ‑ Countdown, Developer: Autoketing, Rating: 4.8, Reviews_count: 4931\n",
      "ID: 9025eff0-d714-4df1-930f-43f5582979ad => Title: Ultimate Sales Boost, Developer: Hextom, Rating: 4.8, Reviews_count: 4847\n",
      "ID: 404183ac-6d52-4960-85d2-8350f37c2f0b => Title: Ads by Varinode, Developer: Varinode, Inc., Rating: 4.9, Reviews_count: 4245\n",
      "ID: 0380c5ed-7b91-4d4b-9a4e-f6a1c50269dd => Title: Quick Announcement Bar, Developer: Hextom, Rating: 4.9, Reviews_count: 4237\n"
     ]
    }
   ],
   "source": [
    "query = db.collection('Apps').order_by('reviews_count', direction=firestore.Query.DESCENDING).limit(10)\n",
    "results = query.stream()\n",
    "print('Top 10 apps with the highest number of reviews')\n",
    "for result in results:\n",
    "    app = result.to_dict()\n",
    "    print(f'ID: {result.id} =>', 'Title: {}, Developer: {}, Rating: {}, Reviews_count: {}'.\\\n",
    "         format(app['app_title'], app['developer'], app['rating'], app['reviews_count']))\n"
   ]
  }
 ],
 "metadata": {
  "environment": {
   "kernel": "python3",
   "name": "common-cpu.m103",
   "type": "gcloud",
   "uri": "gcr.io/deeplearning-platform-release/base-cpu:m103"
  },
  "kernelspec": {
   "display_name": "Python 3",
   "language": "python",
   "name": "python3"
  },
  "language_info": {
   "codemirror_mode": {
    "name": "ipython",
    "version": 3
   },
   "file_extension": ".py",
   "mimetype": "text/x-python",
   "name": "python",
   "nbconvert_exporter": "python",
   "pygments_lexer": "ipython3",
   "version": "3.7.12"
  }
 },
 "nbformat": 4,
 "nbformat_minor": 5
}
