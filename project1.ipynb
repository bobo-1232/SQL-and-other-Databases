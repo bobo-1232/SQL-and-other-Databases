{
 "cells": [
  {
   "cell_type": "code",
   "execution_count": 1,
   "id": "646f170a-8117-4405-9ac7-07f4cb4fa31f",
   "metadata": {},
   "outputs": [],
   "source": [
    "!mysql < /home/jupyter/sakila/sakila-database.sql"
   ]
  },
  {
   "cell_type": "code",
   "execution_count": 2,
   "id": "257741b3-8f8c-4b10-8353-77c3d30e6a7d",
   "metadata": {
    "tags": []
   },
   "outputs": [],
   "source": [
    "!mysql < /home/jupyter/sakila/sakila-data.sql"
   ]
  },
  {
   "cell_type": "code",
   "execution_count": 3,
   "id": "1427e6a4-3b8c-449b-a9df-0fa9f455ba7f",
   "metadata": {},
   "outputs": [
    {
     "name": "stdout",
     "output_type": "stream",
     "text": [
      "+----------------------------+\n",
      "| Tables_in_sakila           |\n",
      "+----------------------------+\n",
      "| actor                      |\n",
      "| actor_info                 |\n",
      "| address                    |\n",
      "| category                   |\n",
      "| city                       |\n",
      "| country                    |\n",
      "| customer                   |\n",
      "| customer_list              |\n",
      "| film                       |\n",
      "| film_actor                 |\n",
      "| film_category              |\n",
      "| film_list                  |\n",
      "| film_text                  |\n",
      "| inventory                  |\n",
      "| language                   |\n",
      "| nicer_but_slower_film_list |\n",
      "| payment                    |\n",
      "| rental                     |\n",
      "| sales_by_film_category     |\n",
      "| sales_by_store             |\n",
      "| staff                      |\n",
      "| staff_list                 |\n",
      "| store                      |\n",
      "+----------------------------+\n"
     ]
    }
   ],
   "source": [
    "!mysql sakila -e \"show tables\""
   ]
  },
  {
   "cell_type": "code",
   "execution_count": 4,
   "id": "80717c62-1744-49e4-8a22-a2f7efcbf6af",
   "metadata": {},
   "outputs": [
    {
     "name": "stdout",
     "output_type": "stream",
     "text": [
      "+-------------+-------------------+------+-----+-------------------+-----------------------------------------------+\n",
      "| Field       | Type              | Null | Key | Default           | Extra                                         |\n",
      "+-------------+-------------------+------+-----+-------------------+-----------------------------------------------+\n",
      "| actor_id    | smallint unsigned | NO   | PRI | NULL              | auto_increment                                |\n",
      "| first_name  | varchar(45)       | NO   |     | NULL              |                                               |\n",
      "| last_name   | varchar(45)       | NO   | MUL | NULL              |                                               |\n",
      "| last_update | timestamp         | NO   |     | CURRENT_TIMESTAMP | DEFAULT_GENERATED on update CURRENT_TIMESTAMP |\n",
      "+-------------+-------------------+------+-----+-------------------+-----------------------------------------------+\n"
     ]
    }
   ],
   "source": [
    "!mysql sakila -e \"desc actor\""
   ]
  },
  {
   "cell_type": "markdown",
   "id": "a1cbf9e6-682b-4ab6-82a9-8abc3aeb678a",
   "metadata": {},
   "source": [
    "● **Write queries to get a row count for five of the tables in the database. Include the five SQL statements.**"
   ]
  },
  {
   "cell_type": "code",
   "execution_count": 5,
   "id": "6cfd0bcd-b0c6-411a-a003-8d9f238549a0",
   "metadata": {},
   "outputs": [
    {
     "name": "stdout",
     "output_type": "stream",
     "text": [
      "+----------+\n",
      "| count(*) |\n",
      "+----------+\n",
      "|      200 |\n",
      "+----------+\n"
     ]
    }
   ],
   "source": [
    "!mysql sakila -e \"select count(*) from actor\""
   ]
  },
  {
   "cell_type": "code",
   "execution_count": 6,
   "id": "79184319-e0a2-4ea7-a0f6-1f9d7e726cdc",
   "metadata": {},
   "outputs": [
    {
     "name": "stdout",
     "output_type": "stream",
     "text": [
      "+----------+\n",
      "| count(*) |\n",
      "+----------+\n",
      "|      600 |\n",
      "+----------+\n"
     ]
    }
   ],
   "source": [
    "!mysql sakila -e \"select count(*) from city\""
   ]
  },
  {
   "cell_type": "code",
   "execution_count": 7,
   "id": "1fb0183d-c5f8-4929-b2fc-9607b4783aba",
   "metadata": {},
   "outputs": [
    {
     "name": "stdout",
     "output_type": "stream",
     "text": [
      "+----------+\n",
      "| count(*) |\n",
      "+----------+\n",
      "|      109 |\n",
      "+----------+\n"
     ]
    }
   ],
   "source": [
    "!mysql sakila -e \"select count(*) from country\""
   ]
  },
  {
   "cell_type": "code",
   "execution_count": 8,
   "id": "7872c576-e151-4fbb-81c4-c39a09c5a445",
   "metadata": {},
   "outputs": [
    {
     "name": "stdout",
     "output_type": "stream",
     "text": [
      "+----------+\n",
      "| count(*) |\n",
      "+----------+\n",
      "|     1000 |\n",
      "+----------+\n"
     ]
    }
   ],
   "source": [
    "!mysql sakila -e \"select count(*) from film\""
   ]
  },
  {
   "cell_type": "code",
   "execution_count": 9,
   "id": "729cac99-be66-4b7d-b512-b5dc857bde0e",
   "metadata": {},
   "outputs": [
    {
     "name": "stdout",
     "output_type": "stream",
     "text": [
      "+----------+\n",
      "| count(*) |\n",
      "+----------+\n",
      "|     4581 |\n",
      "+----------+\n"
     ]
    }
   ],
   "source": [
    "!mysql sakila -e \"select count(*) from inventory\""
   ]
  },
  {
   "cell_type": "markdown",
   "id": "b5543efa-b7ce-4151-a5a7-9421b9191e4a",
   "metadata": {},
   "source": [
    "● **Write five queries to sample a few rows (showing only a few of the columns) from five of the tables, using the LIMIT clause.**"
   ]
  },
  {
   "cell_type": "code",
   "execution_count": 10,
   "id": "95018457-aef9-4dde-91aa-685e7036033f",
   "metadata": {},
   "outputs": [
    {
     "name": "stdout",
     "output_type": "stream",
     "text": [
      "+----------+------------+--------------+\n",
      "| actor_id | first_name | last_name    |\n",
      "+----------+------------+--------------+\n",
      "|        1 | PENELOPE   | GUINESS      |\n",
      "|        2 | NICK       | WAHLBERG     |\n",
      "|        3 | ED         | CHASE        |\n",
      "|        4 | JENNIFER   | DAVIS        |\n",
      "|        5 | JOHNNY     | LOLLOBRIGIDA |\n",
      "|        6 | BETTE      | NICHOLSON    |\n",
      "+----------+------------+--------------+\n"
     ]
    }
   ],
   "source": [
    "!mysql sakila -e \"select actor_id, first_name, last_name from actor limit 6\""
   ]
  },
  {
   "cell_type": "code",
   "execution_count": 11,
   "id": "a49c6db2-b145-496d-ac46-4599f1a2d74a",
   "metadata": {},
   "outputs": [
    {
     "name": "stdout",
     "output_type": "stream",
     "text": [
      "+---------+------------+------------+---------------------+\n",
      "| city_id | city       | country_id | last_update         |\n",
      "+---------+------------+------------+---------------------+\n",
      "|     251 | Kabul      |          1 | 2006-02-15 04:45:25 |\n",
      "|      59 | Batna      |          2 | 2006-02-15 04:45:25 |\n",
      "|     483 | Skikda     |          2 | 2006-02-15 04:45:25 |\n",
      "|      63 | Bchar      |          2 | 2006-02-15 04:45:25 |\n",
      "|     516 | Tafuna     |          3 | 2006-02-15 04:45:25 |\n",
      "|      67 | Benguela   |          4 | 2006-02-15 04:45:25 |\n",
      "|     360 | Namibe     |          4 | 2006-02-15 04:45:25 |\n",
      "|     493 | South Hill |          5 | 2006-02-15 04:45:25 |\n",
      "|     128 | Crdoba     |          6 | 2006-02-15 04:45:25 |\n",
      "|     161 | Escobar    |          6 | 2006-02-15 04:45:25 |\n",
      "+---------+------------+------------+---------------------+\n"
     ]
    }
   ],
   "source": [
    "!mysql sakila -e \"select * from city order by country_id limit 10\""
   ]
  },
  {
   "cell_type": "code",
   "execution_count": 12,
   "id": "3e42aad9-2559-4630-b573-bcbfba56522f",
   "metadata": {},
   "outputs": [
    {
     "name": "stdout",
     "output_type": "stream",
     "text": [
      "+------------+----------------+\n",
      "| country_id | country        |\n",
      "+------------+----------------+\n",
      "|          1 | Afghanistan    |\n",
      "|          2 | Algeria        |\n",
      "|          3 | American Samoa |\n",
      "|          4 | Angola         |\n",
      "|          5 | Anguilla       |\n",
      "|          6 | Argentina      |\n",
      "|          7 | Armenia        |\n",
      "|          8 | Australia      |\n",
      "|          9 | Austria        |\n",
      "|         10 | Azerbaijan     |\n",
      "+------------+----------------+\n"
     ]
    }
   ],
   "source": [
    "!mysql sakila -e \"select country_id, country from country order by country_id limit 10\""
   ]
  },
  {
   "cell_type": "code",
   "execution_count": 13,
   "id": "f53119bc-94d9-462d-ad47-a930269066bb",
   "metadata": {},
   "outputs": [
    {
     "name": "stdout",
     "output_type": "stream",
     "text": [
      "+---------+------------------+--------+\n",
      "| film_id | title            | rating |\n",
      "+---------+------------------+--------+\n",
      "|       3 | ADAPTATION HOLES | NC-17  |\n",
      "|      10 | ALADDIN CALENDAR | NC-17  |\n",
      "|      14 | ALICE FANTASIA   | NC-17  |\n",
      "+---------+------------------+--------+\n"
     ]
    }
   ],
   "source": [
    "!mysql sakila -e \"select film_id, title, rating from film where rating = 'NC-17' limit 3\""
   ]
  },
  {
   "cell_type": "code",
   "execution_count": 14,
   "id": "abf38e9b-e9f1-4f14-bea7-30092fcef02b",
   "metadata": {},
   "outputs": [
    {
     "name": "stdout",
     "output_type": "stream",
     "text": [
      "+--------------+---------+\n",
      "| inventory_id | film_id |\n",
      "+--------------+---------+\n",
      "|            1 |       1 |\n",
      "|            2 |       1 |\n",
      "+--------------+---------+\n"
     ]
    }
   ],
   "source": [
    "!mysql sakila -e \"select inventory_id, film_id from inventory limit 2\""
   ]
  },
  {
   "cell_type": "markdown",
   "id": "43a00d0a-d276-4c35-bc77-f2c277af0459",
   "metadata": {},
   "source": [
    "● **Write a query (on any one table) that uses both a WHERE clause and an ORDER BY clause. Add a short comment above your SQL statement to describe the query.**"
   ]
  },
  {
   "cell_type": "markdown",
   "id": "2387afd7-43de-478c-9f6d-de3c18e09c7b",
   "metadata": {},
   "source": [
    "*Below I am querying the table `country` where I want countries with their names starting with \"U\" and order by their `country_id` number in ascending order.*"
   ]
  },
  {
   "cell_type": "code",
   "execution_count": 15,
   "id": "0bff1944-384e-4a6f-8f34-b06482c46bcc",
   "metadata": {},
   "outputs": [
    {
     "name": "stdout",
     "output_type": "stream",
     "text": [
      "+------------+----------------------+---------------------+\n",
      "| country_id | country              | last_update         |\n",
      "+------------+----------------------+---------------------+\n",
      "|        100 | Ukraine              | 2006-02-15 04:44:00 |\n",
      "|        101 | United Arab Emirates | 2006-02-15 04:44:00 |\n",
      "|        102 | United Kingdom       | 2006-02-15 04:44:00 |\n",
      "|        103 | United States        | 2006-02-15 04:44:00 |\n",
      "+------------+----------------------+---------------------+\n"
     ]
    }
   ],
   "source": [
    "!mysql sakila -e \"select * from country where country like 'U%' order by country_id\""
   ]
  },
  {
   "cell_type": "markdown",
   "id": "9a5f4ffe-14cf-469a-a9db-e665918894ce",
   "metadata": {},
   "source": [
    "● **Write an INSERT statement to add a row into any one of the tables (*: make sure it is not a View by looking at its CREATE statement in the file sakila-database.sql*). Add a short comment above your SQL statement to describe the statement.**"
   ]
  },
  {
   "cell_type": "markdown",
   "id": "e025db9a-6f99-4252-803e-8185810657d8",
   "metadata": {},
   "source": [
    "*Below I'm inserting a fiction country Tatalia with the next available id number by using 'null' in values. The second line queries all countries with names starting with 'T' in descending order to have the newly inserted one listed first.*"
   ]
  },
  {
   "cell_type": "code",
   "execution_count": 16,
   "id": "dcd2e342-9e28-4585-800f-ec1de8a3aca7",
   "metadata": {},
   "outputs": [],
   "source": [
    "!mysql sakila -e \"insert into country (country_id, country) values (null, 'Tatalia')\""
   ]
  },
  {
   "cell_type": "code",
   "execution_count": 17,
   "id": "05f3e9e9-a40f-43d7-a20f-65921d74987f",
   "metadata": {},
   "outputs": [
    {
     "name": "stdout",
     "output_type": "stream",
     "text": [
      "+------------+--------------+---------------------+\n",
      "| country_id | country      | last_update         |\n",
      "+------------+--------------+---------------------+\n",
      "|        110 | Tatalia      | 2023-02-09 20:34:40 |\n",
      "|         99 | Tuvalu       | 2006-02-15 04:44:00 |\n",
      "|         98 | Turkmenistan | 2006-02-15 04:44:00 |\n",
      "|         97 | Turkey       | 2006-02-15 04:44:00 |\n",
      "|         96 | Tunisia      | 2006-02-15 04:44:00 |\n",
      "|         95 | Tonga        | 2006-02-15 04:44:00 |\n",
      "|         94 | Thailand     | 2006-02-15 04:44:00 |\n",
      "|         93 | Tanzania     | 2006-02-15 04:44:00 |\n",
      "|         92 | Taiwan       | 2006-02-15 04:44:00 |\n",
      "+------------+--------------+---------------------+\n"
     ]
    }
   ],
   "source": [
    "!mysql sakila -e \"select * from country where country like 'T%' order by country_id desc\""
   ]
  },
  {
   "cell_type": "markdown",
   "id": "32c4f5f3-7c67-4b28-95c7-8ed4e086966a",
   "metadata": {},
   "source": [
    "● **Write an UPDATE statement to update one or more rows from any one of the tables (*). Add a short comment above your SQL statement to describe the statement.**"
   ]
  },
  {
   "cell_type": "markdown",
   "id": "a5b233bd-cbf3-4bb2-9a52-2afb8221c90d",
   "metadata": {},
   "source": [
    "*Below I update the name of the country with id = 110. id 110 is now associated with AvLee. Before id 110 was with Tatalia (as shown above).*"
   ]
  },
  {
   "cell_type": "code",
   "execution_count": 18,
   "id": "a31be56a-8049-49a8-b2a1-af21740284bc",
   "metadata": {},
   "outputs": [],
   "source": [
    "!mysql sakila -e \"update country set country = 'AvLee' where country_id = 110\""
   ]
  },
  {
   "cell_type": "code",
   "execution_count": 19,
   "id": "532bb62c-7f77-4fa0-bce9-ebec00513f7c",
   "metadata": {},
   "outputs": [
    {
     "name": "stdout",
     "output_type": "stream",
     "text": [
      "+------------+---------+---------------------+\n",
      "| country_id | country | last_update         |\n",
      "+------------+---------+---------------------+\n",
      "|        110 | AvLee   | 2023-02-09 20:34:40 |\n",
      "+------------+---------+---------------------+\n"
     ]
    }
   ],
   "source": [
    "!mysql sakila -e \"select * from country where country = 'AvLee' or country = 'Tatalia' order by country_id desc\""
   ]
  },
  {
   "cell_type": "markdown",
   "id": "795d0add-cf78-46a3-9639-a2f8f69bc5d8",
   "metadata": {},
   "source": [
    "● **Write a DELETE statement to delete one or more rows from any one of the tables (*). Add a short comment above your SQL statement to describe the statement.**"
   ]
  },
  {
   "cell_type": "markdown",
   "id": "ebfb9486-bb22-4360-923b-5343403c38be",
   "metadata": {},
   "source": [
    "*Below I deleted the record with id = 110 from country table, and then looked at the countries with id between 105 and 119 (making sure to get the last row) to verify the action. I now do not see the record with id = 110 while 105-109 are still there.* "
   ]
  },
  {
   "cell_type": "code",
   "execution_count": 20,
   "id": "94174e7a-6741-441a-8872-d2e5d29602f9",
   "metadata": {},
   "outputs": [],
   "source": [
    "!mysql sakila -e \"delete from country where country_id = 110\""
   ]
  },
  {
   "cell_type": "code",
   "execution_count": 21,
   "id": "524954d0-d4ab-496e-b9dc-2f88f815184d",
   "metadata": {},
   "outputs": [
    {
     "name": "stdout",
     "output_type": "stream",
     "text": [
      "+------------+----------------------+---------------------+\n",
      "| country_id | country              | last_update         |\n",
      "+------------+----------------------+---------------------+\n",
      "|        105 | Vietnam              | 2006-02-15 04:44:00 |\n",
      "|        106 | Virgin Islands, U.S. | 2006-02-15 04:44:00 |\n",
      "|        107 | Yemen                | 2006-02-15 04:44:00 |\n",
      "|        108 | Yugoslavia           | 2006-02-15 04:44:00 |\n",
      "|        109 | Zambia               | 2006-02-15 04:44:00 |\n",
      "+------------+----------------------+---------------------+\n"
     ]
    }
   ],
   "source": [
    "!mysql sakila -e \"select * from country where country_id between 105 and 119\""
   ]
  }
 ],
 "metadata": {
  "environment": {
   "kernel": "python3",
   "name": "common-cpu.m103",
   "type": "gcloud",
   "uri": "gcr.io/deeplearning-platform-release/base-cpu:m103"
  },
  "kernelspec": {
   "display_name": "Python 3",
   "language": "python",
   "name": "python3"
  },
  "language_info": {
   "codemirror_mode": {
    "name": "ipython",
    "version": 3
   },
   "file_extension": ".py",
   "mimetype": "text/x-python",
   "name": "python",
   "nbconvert_exporter": "python",
   "pygments_lexer": "ipython3",
   "version": "3.7.12"
  }
 },
 "nbformat": 4,
 "nbformat_minor": 5
}
